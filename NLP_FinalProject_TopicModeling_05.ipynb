{
 "cells": [
  {
   "cell_type": "code",
   "execution_count": 1,
   "id": "2c626392",
   "metadata": {},
   "outputs": [],
   "source": [
    "import pandas as pd\n",
    "import re \n",
    "import nltk as nltk\n",
    "import numpy as np\n",
    "import matplotlib.pyplot as plt\n",
    "import seaborn as sns\n",
    "import spacy\n",
    "import time\n",
    "import math\n",
    "import string\n",
    "import gensim\n",
    "import pyLDAvis\n",
    "import seaborn as sns \n",
    "import matplotlib.pyplot as plt\n",
    "#import pyLDAvis.gensim\n",
    "#import pyLDAvis.gensim_models as gensimvis\n",
    "import warnings\n",
    "warnings.simplefilter('ignore')\n",
    "\n",
    "from textblob import TextBlob\n",
    "from nltk.corpus import stopwords\n",
    "from nltk.stem.wordnet import WordNetLemmatizer\n",
    "from gensim import corpora, models\n",
    "from gensim.models.ldamulticore import LdaMulticore\n",
    "\n",
    "pyLDAvis.enable_notebook()\n",
    "#nlp = spacy.load(\"en_core_web_sm\")"
   ]
  },
  {
   "cell_type": "code",
   "execution_count": 2,
   "id": "b2d6e40e",
   "metadata": {},
   "outputs": [
    {
     "name": "stdout",
     "output_type": "stream",
     "text": [
      "INFO: Pandarallel will run on 12 workers.\n",
      "INFO: Pandarallel will use standard multiprocessing data transfer (pipe) to transfer data between the main process and workers.\n",
      "\n",
      "WARNING: You are on Windows. If you detect any issue with pandarallel, be sure you checked out the Troubleshooting page:\n",
      "https://nalepae.github.io/pandarallel/troubleshooting/\n"
     ]
    }
   ],
   "source": [
    "import pandarallel\n",
    "import multiprocessing\n",
    "from pandarallel import pandarallel\n",
    "\n",
    "num_processors = multiprocessing.cpu_count()\n",
    "\n",
    "pandarallel.initialize(nb_workers=num_processors, use_memory_fs=False, progress_bar=True)"
   ]
  },
  {
   "cell_type": "code",
   "execution_count": 3,
   "id": "78315413",
   "metadata": {},
   "outputs": [
    {
     "name": "stdout",
     "output_type": "stream",
     "text": [
      "CPU times: total: 125 ms\n",
      "Wall time: 222 ms\n"
     ]
    },
    {
     "data": {
      "text/plain": [
       "(1650, 13)"
      ]
     },
     "execution_count": 3,
     "metadata": {},
     "output_type": "execute_result"
    }
   ],
   "source": [
    "%%time\n",
    "\n",
    "df = pd.read_parquet('filter_data.parquet', engine='pyarrow')\n",
    "df.shape"
   ]
  },
  {
   "cell_type": "markdown",
   "id": "b7ef0958",
   "metadata": {},
   "source": [
    "### Topic Modelling "
   ]
  },
  {
   "cell_type": "code",
   "execution_count": 4,
   "id": "8b94a4c7",
   "metadata": {},
   "outputs": [
    {
     "data": {
      "text/html": [
       "<div>\n",
       "<style scoped>\n",
       "    .dataframe tbody tr th:only-of-type {\n",
       "        vertical-align: middle;\n",
       "    }\n",
       "\n",
       "    .dataframe tbody tr th {\n",
       "        vertical-align: top;\n",
       "    }\n",
       "\n",
       "    .dataframe thead th {\n",
       "        text-align: right;\n",
       "    }\n",
       "</style>\n",
       "<table border=\"1\" class=\"dataframe\">\n",
       "  <thead>\n",
       "    <tr style=\"text-align: right;\">\n",
       "      <th></th>\n",
       "      <th>date</th>\n",
       "      <th>title</th>\n",
       "      <th>text</th>\n",
       "      <th>year</th>\n",
       "      <th>month</th>\n",
       "      <th>day</th>\n",
       "      <th>dayofweek</th>\n",
       "      <th>clean_title</th>\n",
       "      <th>clean_text</th>\n",
       "      <th>clean_title_tokens</th>\n",
       "      <th>article_length</th>\n",
       "      <th>title_length</th>\n",
       "      <th>clean_text_tokens</th>\n",
       "    </tr>\n",
       "  </thead>\n",
       "  <tbody>\n",
       "    <tr>\n",
       "      <th>0</th>\n",
       "      <td>2023-05-25</td>\n",
       "      <td>PayPal Is Using AI to Supercharge Profits | Na...</td>\n",
       "      <td>\\nPayPal Is Using AI to Supercharge Profits | ...</td>\n",
       "      <td>2023</td>\n",
       "      <td>5</td>\n",
       "      <td>25</td>\n",
       "      <td>3</td>\n",
       "      <td>PayPal Is Using AI to Supercharge Profits Nasdaq</td>\n",
       "      <td>PayPal Is Using AI to Supercharge Profits Nasd...</td>\n",
       "      <td>[paypal, using, ai, supercharge, profits, nasdaq]</td>\n",
       "      <td>7090</td>\n",
       "      <td>48</td>\n",
       "      <td>[paypal, using, ai, supercharge, profits, nasd...</td>\n",
       "    </tr>\n",
       "    <tr>\n",
       "      <th>1</th>\n",
       "      <td>2023-02-24</td>\n",
       "      <td>Facebook Parent Meta Wants to Show It's Still ...</td>\n",
       "      <td>\\n\\n\\nFacebook Parent Meta Wants to Show It's ...</td>\n",
       "      <td>2023</td>\n",
       "      <td>2</td>\n",
       "      <td>24</td>\n",
       "      <td>4</td>\n",
       "      <td>Facebook Parent Meta Wants to Show Its Still a...</td>\n",
       "      <td>Facebook Parent Meta Wants to Show Its Still a...</td>\n",
       "      <td>[facebook, parent, meta, wants, show, still, b...</td>\n",
       "      <td>4689</td>\n",
       "      <td>76</td>\n",
       "      <td>[facebook, parent, meta, wants, show, still, b...</td>\n",
       "    </tr>\n",
       "    <tr>\n",
       "      <th>2</th>\n",
       "      <td>2021-03-23</td>\n",
       "      <td>Artificial Intelligence Market is Expected to ...</td>\n",
       "      <td>\\nArtificial Intelligence Market is Expected t...</td>\n",
       "      <td>2021</td>\n",
       "      <td>3</td>\n",
       "      <td>23</td>\n",
       "      <td>1</td>\n",
       "      <td>Artificial Intelligence Market is Expected to ...</td>\n",
       "      <td>Artificial Intelligence Market is Expected to ...</td>\n",
       "      <td>[artificial, intelligence, market, expected, g...</td>\n",
       "      <td>6953</td>\n",
       "      <td>122</td>\n",
       "      <td>[artificial, intelligence, market, expected, g...</td>\n",
       "    </tr>\n",
       "    <tr>\n",
       "      <th>3</th>\n",
       "      <td>2022-07-23</td>\n",
       "      <td>Google fires employee who said its conversatio...</td>\n",
       "      <td>Google fires employee who said its conversatio...</td>\n",
       "      <td>2022</td>\n",
       "      <td>7</td>\n",
       "      <td>23</td>\n",
       "      <td>5</td>\n",
       "      <td>Google fires employee who said its conversatio...</td>\n",
       "      <td>Google fires employee who said its conversatio...</td>\n",
       "      <td>[google, fire, employee, said, conversation, a...</td>\n",
       "      <td>5754</td>\n",
       "      <td>62</td>\n",
       "      <td>[google, fire, employee, said, conversation, a...</td>\n",
       "    </tr>\n",
       "    <tr>\n",
       "      <th>4</th>\n",
       "      <td>2021-06-22</td>\n",
       "      <td>Radically oversimplified AI skin-tone tool cou...</td>\n",
       "      <td>\\n \\n\\nRadically oversimplified AI skin-tone t...</td>\n",
       "      <td>2021</td>\n",
       "      <td>6</td>\n",
       "      <td>22</td>\n",
       "      <td>1</td>\n",
       "      <td>Radically oversimplified AI skintone tool coul...</td>\n",
       "      <td>Radically oversimplified AI skintone tool cou...</td>\n",
       "      <td>[radically, oversimplified, ai, skintone, tool...</td>\n",
       "      <td>6406</td>\n",
       "      <td>81</td>\n",
       "      <td>[radically, oversimplified, ai, skintone, tool...</td>\n",
       "    </tr>\n",
       "  </tbody>\n",
       "</table>\n",
       "</div>"
      ],
      "text/plain": [
       "        date                                              title  \\\n",
       "0 2023-05-25  PayPal Is Using AI to Supercharge Profits | Na...   \n",
       "1 2023-02-24  Facebook Parent Meta Wants to Show It's Still ...   \n",
       "2 2021-03-23  Artificial Intelligence Market is Expected to ...   \n",
       "3 2022-07-23  Google fires employee who said its conversatio...   \n",
       "4 2021-06-22  Radically oversimplified AI skin-tone tool cou...   \n",
       "\n",
       "                                                text  year  month  day  \\\n",
       "0  \\nPayPal Is Using AI to Supercharge Profits | ...  2023      5   25   \n",
       "1  \\n\\n\\nFacebook Parent Meta Wants to Show It's ...  2023      2   24   \n",
       "2  \\nArtificial Intelligence Market is Expected t...  2021      3   23   \n",
       "3  Google fires employee who said its conversatio...  2022      7   23   \n",
       "4  \\n \\n\\nRadically oversimplified AI skin-tone t...  2021      6   22   \n",
       "\n",
       "   dayofweek                                        clean_title  \\\n",
       "0          3   PayPal Is Using AI to Supercharge Profits Nasdaq   \n",
       "1          4  Facebook Parent Meta Wants to Show Its Still a...   \n",
       "2          1  Artificial Intelligence Market is Expected to ...   \n",
       "3          5  Google fires employee who said its conversatio...   \n",
       "4          1  Radically oversimplified AI skintone tool coul...   \n",
       "\n",
       "                                          clean_text  \\\n",
       "0  PayPal Is Using AI to Supercharge Profits Nasd...   \n",
       "1  Facebook Parent Meta Wants to Show Its Still a...   \n",
       "2  Artificial Intelligence Market is Expected to ...   \n",
       "3  Google fires employee who said its conversatio...   \n",
       "4   Radically oversimplified AI skintone tool cou...   \n",
       "\n",
       "                                  clean_title_tokens  article_length  \\\n",
       "0  [paypal, using, ai, supercharge, profits, nasdaq]            7090   \n",
       "1  [facebook, parent, meta, wants, show, still, b...            4689   \n",
       "2  [artificial, intelligence, market, expected, g...            6953   \n",
       "3  [google, fire, employee, said, conversation, a...            5754   \n",
       "4  [radically, oversimplified, ai, skintone, tool...            6406   \n",
       "\n",
       "   title_length                                  clean_text_tokens  \n",
       "0            48  [paypal, using, ai, supercharge, profits, nasd...  \n",
       "1            76  [facebook, parent, meta, wants, show, still, b...  \n",
       "2           122  [artificial, intelligence, market, expected, g...  \n",
       "3            62  [google, fire, employee, said, conversation, a...  \n",
       "4            81  [radically, oversimplified, ai, skintone, tool...  "
      ]
     },
     "execution_count": 4,
     "metadata": {},
     "output_type": "execute_result"
    }
   ],
   "source": [
    "df.head(5)"
   ]
  },
  {
   "cell_type": "code",
   "execution_count": 5,
   "id": "724b99e5",
   "metadata": {},
   "outputs": [],
   "source": [
    "df = df.drop([\"text\", \"title\"], axis=1)"
   ]
  },
  {
   "cell_type": "code",
   "execution_count": 6,
   "id": "d7b06b45-c93f-4d92-a49e-eb9eb196b77b",
   "metadata": {},
   "outputs": [],
   "source": [
    "# Creating a term dictionary and document term matrix\n",
    "dictionary_n_title = corpora.Dictionary(df[\"clean_title_tokens\"])\n",
    "dictionary_n_text = corpora.Dictionary(df[\"clean_text_tokens\"])"
   ]
  },
  {
   "cell_type": "code",
   "execution_count": 7,
   "id": "efb97296-03e5-46ca-9613-2ec89f901e95",
   "metadata": {},
   "outputs": [],
   "source": [
    "doc_term_matrix_n_title = [dictionary_n_title.doc2bow(doc) for doc in df[\"clean_title_tokens\"]]\n",
    "doc_term_matrix_n_text = [dictionary_n_text.doc2bow(doc) for doc in df[\"clean_text_tokens\"]]"
   ]
  },
  {
   "cell_type": "code",
   "execution_count": 8,
   "id": "bf8847d8-aaf0-4d29-8091-d9930860e4dd",
   "metadata": {},
   "outputs": [],
   "source": [
    "# Creating a Latent Dirichlet Allocation(LDA) Model for topic modelling\n",
    "Lda = gensim.models.ldamodel.LdaModel"
   ]
  },
  {
   "cell_type": "code",
   "execution_count": 9,
   "id": "1dedd5eb-b710-4496-8ca3-f25a6f165197",
   "metadata": {},
   "outputs": [
    {
     "name": "stdout",
     "output_type": "stream",
     "text": [
      "Using 12 workers\n"
     ]
    }
   ],
   "source": [
    "import multiprocessing\n",
    "num_processors = multiprocessing.cpu_count()\n",
    "num_processors\n",
    "\n",
    "workers = num_processors\n",
    "\n",
    "print(f'Using {workers} workers')"
   ]
  },
  {
   "cell_type": "code",
   "execution_count": 13,
   "id": "d361417b-7e63-4ff9-a39c-ce2a31bd4f47",
   "metadata": {},
   "outputs": [],
   "source": [
    "def initial_5_topic_mult(doc_term_matrix,dictionary):\n",
    "    lda_model = LdaMulticore(corpus=doc_term_matrix,\n",
    "                   id2word=dictionary,\n",
    "                   num_topics=5,\n",
    "                   random_state=100,\n",
    "                   passes=10,\n",
    "                   eta='auto',\n",
    "                   workers=workers)\n",
    "\n",
    "    for i in lda_model.print_topics(num_words=7):\n",
    "        print(i)\n",
    "    doc_lda = lda_model[doc_term_matrix]"
   ]
  },
  {
   "cell_type": "code",
   "execution_count": 14,
   "id": "c4394594-072e-4d45-a741-854b801e06b0",
   "metadata": {},
   "outputs": [
    {
     "name": "stdout",
     "output_type": "stream",
     "text": [
      "(0, '0.034*\"ai\" + 0.011*\"machine\" + 0.010*\"learning\" + 0.006*\"generative\" + 0.006*\"chatgpt\" + 0.005*\"launch\" + 0.005*\"news\"')\n",
      "(1, '0.045*\"ai\" + 0.013*\"intelligence\" + 0.013*\"artificial\" + 0.011*\"new\" + 0.007*\"data\" + 0.007*\"science\" + 0.006*\"news\"')\n",
      "(2, '0.069*\"ai\" + 0.009*\"chatgpt\" + 0.006*\"data\" + 0.005*\"launches\" + 0.005*\"new\" + 0.005*\"product\" + 0.004*\"hunt\"')\n",
      "(3, '0.068*\"ai\" + 0.013*\"intelligence\" + 0.013*\"artificial\" + 0.011*\"news\" + 0.007*\"chatgpt\" + 0.007*\"new\" + 0.007*\"market\"')\n",
      "(4, '0.040*\"ai\" + 0.023*\"intelligence\" + 0.021*\"artificial\" + 0.016*\"market\" + 0.008*\"technology\" + 0.008*\"news\" + 0.007*\"global\"')\n",
      "CPU times: total: 5.97 s\n",
      "Wall time: 20.6 s\n"
     ]
    }
   ],
   "source": [
    "%time initial_5_topic_mult(doc_term_matrix_n_title, dictionary_n_title)"
   ]
  },
  {
   "cell_type": "code",
   "execution_count": null,
   "id": "c83ebda7-39b1-4e43-b280-08f35ffd210d",
   "metadata": {},
   "outputs": [],
   "source": [
    "%time initial_5_topic_mult(doc_term_matrix_n_text, dictionary_n_text)"
   ]
  },
  {
   "cell_type": "code",
   "execution_count": null,
   "id": "ffe0bae2",
   "metadata": {},
   "outputs": [],
   "source": [
    "def initial_10_topic_mult(doc_term_matrix,dictionary):\n",
    "    lda_model = LdaMulticore(corpus=doc_term_matrix,\n",
    "                   id2word=dictionary,\n",
    "                   num_topics=10,\n",
    "                   random_state=100,\n",
    "                   passes=10,\n",
    "                   eta='auto',\n",
    "                   workers=workers)\n",
    "\n",
    "    for i in lda_model.print_topics(num_words=7):\n",
    "        print(i)\n",
    "    doc_lda = lda_model[doc_term_matrix]"
   ]
  },
  {
   "cell_type": "code",
   "execution_count": 19,
   "id": "afb8fe67",
   "metadata": {},
   "outputs": [
    {
     "name": "stdout",
     "output_type": "stream",
     "text": [
      "(0, '0.010*\"ai\" + 0.008*\"machine\" + 0.008*\"learning\" + 0.008*\"republic\" + 0.006*\"new\" + 0.006*\"market\" + 0.005*\"news\"')\n",
      "(1, '0.010*\"ai\" + 0.007*\"news\" + 0.007*\"market\" + 0.006*\"industry\" + 0.006*\"public\" + 0.005*\"business\" + 0.005*\"technology\"')\n",
      "(2, '0.013*\"data\" + 0.012*\"ai\" + 0.007*\"business\" + 0.006*\"customer\" + 0.006*\"news\" + 0.005*\"new\" + 0.005*\"company\"')\n",
      "(3, '0.011*\"ai\" + 0.007*\"company\" + 0.006*\"stock\" + 0.005*\"ha\" + 0.004*\"new\" + 0.004*\"market\" + 0.004*\"news\"')\n",
      "(4, '0.012*\"ago\" + 0.008*\"hour\" + 0.007*\"ai\" + 0.006*\"new\" + 0.005*\"news\" + 0.005*\"said\" + 0.005*\"day\"')\n",
      "(5, '0.008*\"ai\" + 0.006*\"new\" + 0.005*\"intelligence\" + 0.005*\"ha\" + 0.005*\"artificial\" + 0.004*\"news\" + 0.004*\"data\"')\n",
      "(6, '0.012*\"ai\" + 0.007*\"news\" + 0.006*\"data\" + 0.005*\"paid\" + 0.005*\"technology\" + 0.004*\"business\" + 0.004*\"program\"')\n",
      "(7, '0.013*\"ai\" + 0.007*\"gray\" + 0.006*\"group\" + 0.006*\"technology\" + 0.006*\"media\" + 0.005*\"health\" + 0.005*\"patient\"')\n",
      "(8, '0.037*\"market\" + 0.017*\"ai\" + 0.012*\"intelligence\" + 0.011*\"report\" + 0.010*\"artificial\" + 0.010*\"global\" + 0.009*\"analysis\"')\n",
      "(9, '0.018*\"ai\" + 0.006*\"new\" + 0.006*\"ha\" + 0.005*\"news\" + 0.004*\"chatgpt\" + 0.004*\"technology\" + 0.004*\"wa\"')\n",
      "CPU times: user 13min 42s, sys: 7min 35s, total: 21min 18s\n",
      "Wall time: 14min 20s\n"
     ]
    }
   ],
   "source": [
    "%time initial_10_topic_mult(doc_term_matrix_n_text, dictionary_n_text)"
   ]
  }
 ],
 "metadata": {
  "kernelspec": {
   "display_name": "Python 3 (ipykernel)",
   "language": "python",
   "name": "python3"
  },
  "language_info": {
   "codemirror_mode": {
    "name": "ipython",
    "version": 3
   },
   "file_extension": ".py",
   "mimetype": "text/x-python",
   "name": "python",
   "nbconvert_exporter": "python",
   "pygments_lexer": "ipython3",
   "version": "3.9.12"
  }
 },
 "nbformat": 4,
 "nbformat_minor": 5
}
