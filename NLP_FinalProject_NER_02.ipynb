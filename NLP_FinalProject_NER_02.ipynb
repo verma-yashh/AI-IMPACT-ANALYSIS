{
 "cells": [
  {
   "cell_type": "code",
   "execution_count": 1,
   "id": "e38a2c67",
   "metadata": {},
   "outputs": [],
   "source": [
    "import pandas as pd\n",
    "import re \n",
    "import nltk as nltk\n",
    "import numpy as np\n",
    "import matplotlib.pyplot as plt\n",
    "import seaborn as sns\n",
    "import spacy\n",
    "import time\n",
    "import math\n",
    "import string\n",
    "import gensim\n",
    "import pyLDAvis\n",
    "import seaborn as sns \n",
    "import matplotlib.pyplot as plt\n",
    "#import pyLDAvis.gensim\n",
    "#import pyLDAvis.gensim_models as gensimvis\n",
    "\n",
    "from textblob import TextBlob\n",
    "from nltk.corpus import stopwords\n",
    "from nltk.stem.wordnet import WordNetLemmatizer\n",
    "from gensim import corpora, models\n",
    "from gensim.models.ldamulticore import LdaMulticore"
   ]
  },
  {
   "cell_type": "code",
   "execution_count": 2,
   "id": "7f0abdac",
   "metadata": {},
   "outputs": [
    {
     "name": "stdout",
     "output_type": "stream",
     "text": [
      "INFO: Pandarallel will run on 12 workers.\n",
      "INFO: Pandarallel will use standard multiprocessing data transfer (pipe) to transfer data between the main process and workers.\n",
      "\n",
      "WARNING: You are on Windows. If you detect any issue with pandarallel, be sure you checked out the Troubleshooting page:\n",
      "https://nalepae.github.io/pandarallel/troubleshooting/\n"
     ]
    }
   ],
   "source": [
    "import pandarallel\n",
    "import multiprocessing\n",
    "from pandarallel import pandarallel\n",
    "\n",
    "num_processors = multiprocessing.cpu_count()\n",
    "\n",
    "pandarallel.initialize(nb_workers=num_processors, use_memory_fs=False)"
   ]
  },
  {
   "cell_type": "code",
   "execution_count": 3,
   "id": "028fc655",
   "metadata": {},
   "outputs": [
    {
     "name": "stdout",
     "output_type": "stream",
     "text": [
      "CPU times: total: 24.8 s\n",
      "Wall time: 1min 21s\n"
     ]
    }
   ],
   "source": [
    "%%time \n",
    "\n",
    "input_path = r\"C:\\Users\\verma\\OneDrive - The University of Chicago\\Desktop\\MSCA\\QUARTER 4 SUMMER\\NLP\\FINAL PROJECT\\data.parquet\"\n",
    "\n",
    "df = pd.read_parquet(input_path, engine='pyarrow')"
   ]
  },
  {
   "cell_type": "code",
   "execution_count": 4,
   "id": "a6a0fa88",
   "metadata": {
    "scrolled": false
   },
   "outputs": [
    {
     "data": {
      "text/html": [
       "<div>\n",
       "<style scoped>\n",
       "    .dataframe tbody tr th:only-of-type {\n",
       "        vertical-align: middle;\n",
       "    }\n",
       "\n",
       "    .dataframe tbody tr th {\n",
       "        vertical-align: top;\n",
       "    }\n",
       "\n",
       "    .dataframe thead th {\n",
       "        text-align: right;\n",
       "    }\n",
       "</style>\n",
       "<table border=\"1\" class=\"dataframe\">\n",
       "  <thead>\n",
       "    <tr style=\"text-align: right;\">\n",
       "      <th></th>\n",
       "      <th>date</th>\n",
       "      <th>title</th>\n",
       "      <th>text</th>\n",
       "      <th>year</th>\n",
       "      <th>month</th>\n",
       "      <th>day</th>\n",
       "      <th>dayofweek</th>\n",
       "      <th>clean_title</th>\n",
       "      <th>clean_text</th>\n",
       "    </tr>\n",
       "  </thead>\n",
       "  <tbody>\n",
       "    <tr>\n",
       "      <th>0</th>\n",
       "      <td>2020-02-27</td>\n",
       "      <td>Children With Autism Saw Their Learning and So...</td>\n",
       "      <td>\\nChildren With Autism Saw Their Learning and ...</td>\n",
       "      <td>2020</td>\n",
       "      <td>2</td>\n",
       "      <td>27</td>\n",
       "      <td>3</td>\n",
       "      <td>Children With Autism Saw Their Learning and So...</td>\n",
       "      <td>Children With Autism Saw Their Learning and So...</td>\n",
       "    </tr>\n",
       "    <tr>\n",
       "      <th>1</th>\n",
       "      <td>2021-11-24</td>\n",
       "      <td>College of Technology to launch AI Retail Lab ...</td>\n",
       "      <td>\\nCollege of Technology to launch AI Retail L...</td>\n",
       "      <td>2021</td>\n",
       "      <td>11</td>\n",
       "      <td>24</td>\n",
       "      <td>2</td>\n",
       "      <td>College of Technology to launch AI Retail Lab ...</td>\n",
       "      <td>College of Technology to launch AI Retail Lab ...</td>\n",
       "    </tr>\n",
       "    <tr>\n",
       "      <th>2</th>\n",
       "      <td>2022-06-09</td>\n",
       "      <td>Child actor Claude Jarman Jr. looks back on hi...</td>\n",
       "      <td>\\nChild actor Claude Jarman Jr. looks back on ...</td>\n",
       "      <td>2022</td>\n",
       "      <td>6</td>\n",
       "      <td>9</td>\n",
       "      <td>3</td>\n",
       "      <td>Child actor Claude Jarman Jr. looks back on hi...</td>\n",
       "      <td>Child actor Claude Jarman Jr. looks back on hi...</td>\n",
       "    </tr>\n",
       "    <tr>\n",
       "      <th>3</th>\n",
       "      <td>2020-04-17</td>\n",
       "      <td>Cr Bard Inc Has Returned 48.9% Since SmarTrend...</td>\n",
       "      <td>\\n\\nCr Bard Inc Has Returned 48.9% Since SmarT...</td>\n",
       "      <td>2020</td>\n",
       "      <td>4</td>\n",
       "      <td>17</td>\n",
       "      <td>4</td>\n",
       "      <td>Cr Bard Inc Has Returned 48.9 Since SmarTrend ...</td>\n",
       "      <td>Cr Bard Inc Has Returned 48.9 Since SmarTrend ...</td>\n",
       "    </tr>\n",
       "    <tr>\n",
       "      <th>4</th>\n",
       "      <td>2021-02-25</td>\n",
       "      <td>MulticoreWare Inc. Becomes CEVA’s Trusted Part...</td>\n",
       "      <td>\\n\\nMulticoreWare Inc. Becomes CEVA’s Trusted ...</td>\n",
       "      <td>2021</td>\n",
       "      <td>2</td>\n",
       "      <td>25</td>\n",
       "      <td>3</td>\n",
       "      <td>MulticoreWare Inc. Becomes CEVAs Trusted Partn...</td>\n",
       "      <td>MulticoreWare Inc. Becomes CEVAs Trusted Partn...</td>\n",
       "    </tr>\n",
       "  </tbody>\n",
       "</table>\n",
       "</div>"
      ],
      "text/plain": [
       "        date                                              title  \\\n",
       "0 2020-02-27  Children With Autism Saw Their Learning and So...   \n",
       "1 2021-11-24  College of Technology to launch AI Retail Lab ...   \n",
       "2 2022-06-09  Child actor Claude Jarman Jr. looks back on hi...   \n",
       "3 2020-04-17  Cr Bard Inc Has Returned 48.9% Since SmarTrend...   \n",
       "4 2021-02-25  MulticoreWare Inc. Becomes CEVA’s Trusted Part...   \n",
       "\n",
       "                                                text  year  month  day  \\\n",
       "0  \\nChildren With Autism Saw Their Learning and ...  2020      2   27   \n",
       "1   \\nCollege of Technology to launch AI Retail L...  2021     11   24   \n",
       "2  \\nChild actor Claude Jarman Jr. looks back on ...  2022      6    9   \n",
       "3  \\n\\nCr Bard Inc Has Returned 48.9% Since SmarT...  2020      4   17   \n",
       "4  \\n\\nMulticoreWare Inc. Becomes CEVA’s Trusted ...  2021      2   25   \n",
       "\n",
       "   dayofweek                                        clean_title  \\\n",
       "0          3  Children With Autism Saw Their Learning and So...   \n",
       "1          2  College of Technology to launch AI Retail Lab ...   \n",
       "2          3  Child actor Claude Jarman Jr. looks back on hi...   \n",
       "3          4  Cr Bard Inc Has Returned 48.9 Since SmarTrend ...   \n",
       "4          3  MulticoreWare Inc. Becomes CEVAs Trusted Partn...   \n",
       "\n",
       "                                          clean_text  \n",
       "0  Children With Autism Saw Their Learning and So...  \n",
       "1  College of Technology to launch AI Retail Lab ...  \n",
       "2  Child actor Claude Jarman Jr. looks back on hi...  \n",
       "3  Cr Bard Inc Has Returned 48.9 Since SmarTrend ...  \n",
       "4  MulticoreWare Inc. Becomes CEVAs Trusted Partn...  "
      ]
     },
     "execution_count": 4,
     "metadata": {},
     "output_type": "execute_result"
    }
   ],
   "source": [
    "df.head()"
   ]
  },
  {
   "cell_type": "code",
   "execution_count": 6,
   "id": "365e9057",
   "metadata": {
    "scrolled": true
   },
   "outputs": [
    {
     "data": {
      "text/plain": [
       "(199208, 9)"
      ]
     },
     "execution_count": 6,
     "metadata": {},
     "output_type": "execute_result"
    }
   ],
   "source": [
    "df.shape"
   ]
  },
  {
   "cell_type": "code",
   "execution_count": 7,
   "id": "b85cdce8",
   "metadata": {},
   "outputs": [],
   "source": [
    "# Calculate the number of rows for 10% of the data\n",
    "ten_percent = int(len(df) * 0.1)\n",
    "\n",
    "# Randomly select 10% of the data\n",
    "sampled_cleandf = df.sample(n=ten_percent, random_state=42)  # Use a fixed seed for reproducibility"
   ]
  },
  {
   "cell_type": "code",
   "execution_count": 8,
   "id": "2d18f66e",
   "metadata": {},
   "outputs": [
    {
     "data": {
      "text/plain": [
       "(19920, 9)"
      ]
     },
     "execution_count": 8,
     "metadata": {},
     "output_type": "execute_result"
    }
   ],
   "source": [
    "sampled_cleandf.shape"
   ]
  },
  {
   "cell_type": "code",
   "execution_count": 9,
   "id": "bd234518",
   "metadata": {},
   "outputs": [
    {
     "data": {
      "text/html": [
       "<div>\n",
       "<style scoped>\n",
       "    .dataframe tbody tr th:only-of-type {\n",
       "        vertical-align: middle;\n",
       "    }\n",
       "\n",
       "    .dataframe tbody tr th {\n",
       "        vertical-align: top;\n",
       "    }\n",
       "\n",
       "    .dataframe thead th {\n",
       "        text-align: right;\n",
       "    }\n",
       "</style>\n",
       "<table border=\"1\" class=\"dataframe\">\n",
       "  <thead>\n",
       "    <tr style=\"text-align: right;\">\n",
       "      <th></th>\n",
       "      <th>date</th>\n",
       "      <th>title</th>\n",
       "      <th>text</th>\n",
       "      <th>year</th>\n",
       "      <th>month</th>\n",
       "      <th>day</th>\n",
       "      <th>dayofweek</th>\n",
       "      <th>clean_title</th>\n",
       "      <th>clean_text</th>\n",
       "    </tr>\n",
       "  </thead>\n",
       "  <tbody>\n",
       "    <tr>\n",
       "      <th>135881</th>\n",
       "      <td>2022-06-08</td>\n",
       "      <td>QYSEA's Innovative AI Vision Lock Platform Set...</td>\n",
       "      <td>QYSEA's Innovative AI Vision Lock Platform Set...</td>\n",
       "      <td>2022</td>\n",
       "      <td>6</td>\n",
       "      <td>8</td>\n",
       "      <td>2</td>\n",
       "      <td>QYSEAs Innovative AI Vision Lock Platform Sets...</td>\n",
       "      <td>QYSEAs Innovative AI Vision Lock Platform Sets...</td>\n",
       "    </tr>\n",
       "    <tr>\n",
       "      <th>87337</th>\n",
       "      <td>2023-05-25</td>\n",
       "      <td>PayPal Is Using AI to Supercharge Profits | Na...</td>\n",
       "      <td>\\nPayPal Is Using AI to Supercharge Profits | ...</td>\n",
       "      <td>2023</td>\n",
       "      <td>5</td>\n",
       "      <td>25</td>\n",
       "      <td>3</td>\n",
       "      <td>PayPal Is Using AI to Supercharge Profits Nasdaq</td>\n",
       "      <td>PayPal Is Using AI to Supercharge Profits Nasd...</td>\n",
       "    </tr>\n",
       "    <tr>\n",
       "      <th>117475</th>\n",
       "      <td>2023-02-12</td>\n",
       "      <td>Professor Cath Ellis: ChatGPT And The Controve...</td>\n",
       "      <td>\\n \\nProfessor Cath Ellis: ChatGPT And The Con...</td>\n",
       "      <td>2023</td>\n",
       "      <td>2</td>\n",
       "      <td>12</td>\n",
       "      <td>6</td>\n",
       "      <td>Professor Cath Ellis: ChatGPT And The Controve...</td>\n",
       "      <td>Professor Cath Ellis: ChatGPT And The Controv...</td>\n",
       "    </tr>\n",
       "    <tr>\n",
       "      <th>54075</th>\n",
       "      <td>2023-02-24</td>\n",
       "      <td>Facebook Parent Meta Wants to Show It's Still ...</td>\n",
       "      <td>\\n\\n\\nFacebook Parent Meta Wants to Show It's ...</td>\n",
       "      <td>2023</td>\n",
       "      <td>2</td>\n",
       "      <td>24</td>\n",
       "      <td>4</td>\n",
       "      <td>Facebook Parent Meta Wants to Show Its Still a...</td>\n",
       "      <td>Facebook Parent Meta Wants to Show Its Still a...</td>\n",
       "    </tr>\n",
       "    <tr>\n",
       "      <th>66928</th>\n",
       "      <td>2021-03-23</td>\n",
       "      <td>Artificial Intelligence Market is Expected to ...</td>\n",
       "      <td>\\nArtificial Intelligence Market is Expected t...</td>\n",
       "      <td>2021</td>\n",
       "      <td>3</td>\n",
       "      <td>23</td>\n",
       "      <td>1</td>\n",
       "      <td>Artificial Intelligence Market is Expected to ...</td>\n",
       "      <td>Artificial Intelligence Market is Expected to ...</td>\n",
       "    </tr>\n",
       "  </tbody>\n",
       "</table>\n",
       "</div>"
      ],
      "text/plain": [
       "             date                                              title  \\\n",
       "135881 2022-06-08  QYSEA's Innovative AI Vision Lock Platform Set...   \n",
       "87337  2023-05-25  PayPal Is Using AI to Supercharge Profits | Na...   \n",
       "117475 2023-02-12  Professor Cath Ellis: ChatGPT And The Controve...   \n",
       "54075  2023-02-24  Facebook Parent Meta Wants to Show It's Still ...   \n",
       "66928  2021-03-23  Artificial Intelligence Market is Expected to ...   \n",
       "\n",
       "                                                     text  year  month  day  \\\n",
       "135881  QYSEA's Innovative AI Vision Lock Platform Set...  2022      6    8   \n",
       "87337   \\nPayPal Is Using AI to Supercharge Profits | ...  2023      5   25   \n",
       "117475  \\n \\nProfessor Cath Ellis: ChatGPT And The Con...  2023      2   12   \n",
       "54075   \\n\\n\\nFacebook Parent Meta Wants to Show It's ...  2023      2   24   \n",
       "66928   \\nArtificial Intelligence Market is Expected t...  2021      3   23   \n",
       "\n",
       "        dayofweek                                        clean_title  \\\n",
       "135881          2  QYSEAs Innovative AI Vision Lock Platform Sets...   \n",
       "87337           3   PayPal Is Using AI to Supercharge Profits Nasdaq   \n",
       "117475          6  Professor Cath Ellis: ChatGPT And The Controve...   \n",
       "54075           4  Facebook Parent Meta Wants to Show Its Still a...   \n",
       "66928           1  Artificial Intelligence Market is Expected to ...   \n",
       "\n",
       "                                               clean_text  \n",
       "135881  QYSEAs Innovative AI Vision Lock Platform Sets...  \n",
       "87337   PayPal Is Using AI to Supercharge Profits Nasd...  \n",
       "117475   Professor Cath Ellis: ChatGPT And The Controv...  \n",
       "54075   Facebook Parent Meta Wants to Show Its Still a...  \n",
       "66928   Artificial Intelligence Market is Expected to ...  "
      ]
     },
     "execution_count": 9,
     "metadata": {},
     "output_type": "execute_result"
    }
   ],
   "source": [
    "sampled_cleandf.head(5)"
   ]
  },
  {
   "cell_type": "markdown",
   "id": "4611b20e",
   "metadata": {},
   "source": [
    "### NER will be applied to filter out the industries and the Countries that are most commonly used in the texts '"
   ]
  },
  {
   "cell_type": "code",
   "execution_count": 10,
   "id": "e9d3d9c7",
   "metadata": {},
   "outputs": [
    {
     "name": "stdout",
     "output_type": "stream",
     "text": [
      "Collecting en-core-web-lg==3.6.0"
     ]
    },
    {
     "name": "stderr",
     "output_type": "stream",
     "text": [
      "\n",
      "[notice] A new release of pip is available: 23.2 -> 23.2.1\n",
      "[notice] To update, run: python.exe -m pip install --upgrade pip\n"
     ]
    },
    {
     "name": "stdout",
     "output_type": "stream",
     "text": [
      "\n",
      "  Downloading https://github.com/explosion/spacy-models/releases/download/en_core_web_lg-3.6.0/en_core_web_lg-3.6.0-py3-none-any.whl (587.7 MB)\n",
      "     -------------------------------------- 587.7/587.7 MB 2.5 MB/s eta 0:00:00\n",
      "Requirement already satisfied: spacy<3.7.0,>=3.6.0 in c:\\users\\verma\\anaconda3\\lib\\site-packages (from en-core-web-lg==3.6.0) (3.6.0)\n",
      "Requirement already satisfied: spacy-legacy<3.1.0,>=3.0.11 in c:\\users\\verma\\anaconda3\\lib\\site-packages (from spacy<3.7.0,>=3.6.0->en-core-web-lg==3.6.0) (3.0.12)\n",
      "Requirement already satisfied: spacy-loggers<2.0.0,>=1.0.0 in c:\\users\\verma\\anaconda3\\lib\\site-packages (from spacy<3.7.0,>=3.6.0->en-core-web-lg==3.6.0) (1.0.4)\n",
      "Requirement already satisfied: murmurhash<1.1.0,>=0.28.0 in c:\\users\\verma\\anaconda3\\lib\\site-packages (from spacy<3.7.0,>=3.6.0->en-core-web-lg==3.6.0) (1.0.9)\n",
      "Requirement already satisfied: cymem<2.1.0,>=2.0.2 in c:\\users\\verma\\anaconda3\\lib\\site-packages (from spacy<3.7.0,>=3.6.0->en-core-web-lg==3.6.0) (2.0.7)\n",
      "Requirement already satisfied: preshed<3.1.0,>=3.0.2 in c:\\users\\verma\\anaconda3\\lib\\site-packages (from spacy<3.7.0,>=3.6.0->en-core-web-lg==3.6.0) (3.0.8)\n",
      "Requirement already satisfied: thinc<8.2.0,>=8.1.8 in c:\\users\\verma\\anaconda3\\lib\\site-packages (from spacy<3.7.0,>=3.6.0->en-core-web-lg==3.6.0) (8.1.10)\n",
      "Requirement already satisfied: wasabi<1.2.0,>=0.9.1 in c:\\users\\verma\\anaconda3\\lib\\site-packages (from spacy<3.7.0,>=3.6.0->en-core-web-lg==3.6.0) (1.1.2)\n",
      "Requirement already satisfied: srsly<3.0.0,>=2.4.3 in c:\\users\\verma\\anaconda3\\lib\\site-packages (from spacy<3.7.0,>=3.6.0->en-core-web-lg==3.6.0) (2.4.6)\n",
      "Requirement already satisfied: catalogue<2.1.0,>=2.0.6 in c:\\users\\verma\\anaconda3\\lib\\site-packages (from spacy<3.7.0,>=3.6.0->en-core-web-lg==3.6.0) (2.0.8)\n",
      "Requirement already satisfied: typer<0.10.0,>=0.3.0 in c:\\users\\verma\\anaconda3\\lib\\site-packages (from spacy<3.7.0,>=3.6.0->en-core-web-lg==3.6.0) (0.9.0)\n",
      "Requirement already satisfied: pathy>=0.10.0 in c:\\users\\verma\\anaconda3\\lib\\site-packages (from spacy<3.7.0,>=3.6.0->en-core-web-lg==3.6.0) (0.10.2)\n",
      "Requirement already satisfied: smart-open<7.0.0,>=5.2.1 in c:\\users\\verma\\anaconda3\\lib\\site-packages (from spacy<3.7.0,>=3.6.0->en-core-web-lg==3.6.0) (6.3.0)\n",
      "Requirement already satisfied: tqdm<5.0.0,>=4.38.0 in c:\\users\\verma\\anaconda3\\lib\\site-packages (from spacy<3.7.0,>=3.6.0->en-core-web-lg==3.6.0) (4.64.0)\n",
      "Requirement already satisfied: numpy>=1.15.0 in c:\\users\\verma\\appdata\\roaming\\python\\python39\\site-packages (from spacy<3.7.0,>=3.6.0->en-core-web-lg==3.6.0) (1.25.1)\n",
      "Requirement already satisfied: requests<3.0.0,>=2.13.0 in c:\\users\\verma\\anaconda3\\lib\\site-packages (from spacy<3.7.0,>=3.6.0->en-core-web-lg==3.6.0) (2.27.1)\n",
      "Requirement already satisfied: pydantic!=1.8,!=1.8.1,<1.11.0,>=1.7.4 in c:\\users\\verma\\anaconda3\\lib\\site-packages (from spacy<3.7.0,>=3.6.0->en-core-web-lg==3.6.0) (1.10.11)\n",
      "Requirement already satisfied: jinja2 in c:\\users\\verma\\anaconda3\\lib\\site-packages (from spacy<3.7.0,>=3.6.0->en-core-web-lg==3.6.0) (2.11.3)\n",
      "Requirement already satisfied: setuptools in c:\\users\\verma\\anaconda3\\lib\\site-packages (from spacy<3.7.0,>=3.6.0->en-core-web-lg==3.6.0) (61.2.0)\n",
      "Requirement already satisfied: packaging>=20.0 in c:\\users\\verma\\anaconda3\\lib\\site-packages (from spacy<3.7.0,>=3.6.0->en-core-web-lg==3.6.0) (21.3)\n",
      "Requirement already satisfied: langcodes<4.0.0,>=3.2.0 in c:\\users\\verma\\anaconda3\\lib\\site-packages (from spacy<3.7.0,>=3.6.0->en-core-web-lg==3.6.0) (3.3.0)\n",
      "Requirement already satisfied: pyparsing!=3.0.5,>=2.0.2 in c:\\users\\verma\\anaconda3\\lib\\site-packages (from packaging>=20.0->spacy<3.7.0,>=3.6.0->en-core-web-lg==3.6.0) (3.0.4)\n",
      "Requirement already satisfied: typing-extensions>=4.2.0 in c:\\users\\verma\\anaconda3\\lib\\site-packages (from pydantic!=1.8,!=1.8.1,<1.11.0,>=1.7.4->spacy<3.7.0,>=3.6.0->en-core-web-lg==3.6.0) (4.7.1)\n",
      "Requirement already satisfied: urllib3<1.27,>=1.21.1 in c:\\users\\verma\\anaconda3\\lib\\site-packages (from requests<3.0.0,>=2.13.0->spacy<3.7.0,>=3.6.0->en-core-web-lg==3.6.0) (1.26.9)\n",
      "Requirement already satisfied: certifi>=2017.4.17 in c:\\users\\verma\\anaconda3\\lib\\site-packages (from requests<3.0.0,>=2.13.0->spacy<3.7.0,>=3.6.0->en-core-web-lg==3.6.0) (2022.9.24)\n",
      "Requirement already satisfied: charset-normalizer~=2.0.0 in c:\\users\\verma\\anaconda3\\lib\\site-packages (from requests<3.0.0,>=2.13.0->spacy<3.7.0,>=3.6.0->en-core-web-lg==3.6.0) (2.0.4)\n",
      "Requirement already satisfied: idna<4,>=2.5 in c:\\users\\verma\\anaconda3\\lib\\site-packages (from requests<3.0.0,>=2.13.0->spacy<3.7.0,>=3.6.0->en-core-web-lg==3.6.0) (3.3)\n",
      "Requirement already satisfied: blis<0.8.0,>=0.7.8 in c:\\users\\verma\\anaconda3\\lib\\site-packages (from thinc<8.2.0,>=8.1.8->spacy<3.7.0,>=3.6.0->en-core-web-lg==3.6.0) (0.7.9)\n",
      "Requirement already satisfied: confection<1.0.0,>=0.0.1 in c:\\users\\verma\\anaconda3\\lib\\site-packages (from thinc<8.2.0,>=8.1.8->spacy<3.7.0,>=3.6.0->en-core-web-lg==3.6.0) (0.1.0)\n",
      "Requirement already satisfied: colorama in c:\\users\\verma\\anaconda3\\lib\\site-packages (from tqdm<5.0.0,>=4.38.0->spacy<3.7.0,>=3.6.0->en-core-web-lg==3.6.0) (0.4.6)\n",
      "Requirement already satisfied: click<9.0.0,>=7.1.1 in c:\\users\\verma\\anaconda3\\lib\\site-packages (from typer<0.10.0,>=0.3.0->spacy<3.7.0,>=3.6.0->en-core-web-lg==3.6.0) (8.0.4)\n",
      "Requirement already satisfied: MarkupSafe>=0.23 in c:\\users\\verma\\anaconda3\\lib\\site-packages (from jinja2->spacy<3.7.0,>=3.6.0->en-core-web-lg==3.6.0) (2.0.1)\n",
      "\u001b[38;5;2m[+] Download and installation successful\u001b[0m\n",
      "You can now load the package via spacy.load('en_core_web_lg')\n"
     ]
    }
   ],
   "source": [
    "# !python -m spacy download en_core_web_lg"
   ]
  },
  {
   "cell_type": "code",
   "execution_count": 10,
   "id": "549e7d1a",
   "metadata": {
    "scrolled": true
   },
   "outputs": [
    {
     "ename": "KeyboardInterrupt",
     "evalue": "",
     "output_type": "error",
     "traceback": [
      "\u001b[1;31m---------------------------------------------------------------------------\u001b[0m",
      "\u001b[1;31mKeyboardInterrupt\u001b[0m                         Traceback (most recent call last)",
      "File \u001b[1;32m<timed exec>:15\u001b[0m, in \u001b[0;36m<module>\u001b[1;34m\u001b[0m\n",
      "File \u001b[1;32m~\\anaconda3\\lib\\site-packages\\spacy\\language.py:1042\u001b[0m, in \u001b[0;36mLanguage.__call__\u001b[1;34m(self, text, disable, component_cfg)\u001b[0m\n\u001b[0;32m   1040\u001b[0m     error_handler \u001b[38;5;241m=\u001b[39m proc\u001b[38;5;241m.\u001b[39mget_error_handler()\n\u001b[0;32m   1041\u001b[0m \u001b[38;5;28;01mtry\u001b[39;00m:\n\u001b[1;32m-> 1042\u001b[0m     doc \u001b[38;5;241m=\u001b[39m proc(doc, \u001b[38;5;241m*\u001b[39m\u001b[38;5;241m*\u001b[39mcomponent_cfg\u001b[38;5;241m.\u001b[39mget(name, {}))  \u001b[38;5;66;03m# type: ignore[call-arg]\u001b[39;00m\n\u001b[0;32m   1043\u001b[0m \u001b[38;5;28;01mexcept\u001b[39;00m \u001b[38;5;167;01mKeyError\u001b[39;00m \u001b[38;5;28;01mas\u001b[39;00m e:\n\u001b[0;32m   1044\u001b[0m     \u001b[38;5;66;03m# This typically happens if a component is not initialized\u001b[39;00m\n\u001b[0;32m   1045\u001b[0m     \u001b[38;5;28;01mraise\u001b[39;00m \u001b[38;5;167;01mValueError\u001b[39;00m(Errors\u001b[38;5;241m.\u001b[39mE109\u001b[38;5;241m.\u001b[39mformat(name\u001b[38;5;241m=\u001b[39mname)) \u001b[38;5;28;01mfrom\u001b[39;00m \u001b[38;5;21;01me\u001b[39;00m\n",
      "File \u001b[1;32m~\\anaconda3\\lib\\site-packages\\spacy\\pipeline\\attributeruler.py:142\u001b[0m, in \u001b[0;36mAttributeRuler.__call__\u001b[1;34m(self, doc)\u001b[0m\n\u001b[0;32m    140\u001b[0m error_handler \u001b[38;5;241m=\u001b[39m \u001b[38;5;28mself\u001b[39m\u001b[38;5;241m.\u001b[39mget_error_handler()\n\u001b[0;32m    141\u001b[0m \u001b[38;5;28;01mtry\u001b[39;00m:\n\u001b[1;32m--> 142\u001b[0m     matches \u001b[38;5;241m=\u001b[39m \u001b[38;5;28;43mself\u001b[39;49m\u001b[38;5;241;43m.\u001b[39;49m\u001b[43mmatch\u001b[49m\u001b[43m(\u001b[49m\u001b[43mdoc\u001b[49m\u001b[43m)\u001b[49m\n\u001b[0;32m    143\u001b[0m     \u001b[38;5;28mself\u001b[39m\u001b[38;5;241m.\u001b[39mset_annotations(doc, matches)\n\u001b[0;32m    144\u001b[0m     \u001b[38;5;28;01mreturn\u001b[39;00m doc\n",
      "File \u001b[1;32m~\\anaconda3\\lib\\site-packages\\spacy\\pipeline\\attributeruler.py:151\u001b[0m, in \u001b[0;36mAttributeRuler.match\u001b[1;34m(self, doc)\u001b[0m\n\u001b[0;32m    149\u001b[0m matches \u001b[38;5;241m=\u001b[39m \u001b[38;5;28mself\u001b[39m\u001b[38;5;241m.\u001b[39mmatcher(doc, allow_missing\u001b[38;5;241m=\u001b[39m\u001b[38;5;28;01mTrue\u001b[39;00m, as_spans\u001b[38;5;241m=\u001b[39m\u001b[38;5;28;01mFalse\u001b[39;00m)\n\u001b[0;32m    150\u001b[0m \u001b[38;5;66;03m# Sort by the attribute ID, so that later rules have precedence\u001b[39;00m\n\u001b[1;32m--> 151\u001b[0m matches \u001b[38;5;241m=\u001b[39m [\n\u001b[0;32m    152\u001b[0m     (\u001b[38;5;28mint\u001b[39m(\u001b[38;5;28mself\u001b[39m\u001b[38;5;241m.\u001b[39mvocab\u001b[38;5;241m.\u001b[39mstrings[m_id]), m_id, s, e) \u001b[38;5;28;01mfor\u001b[39;00m m_id, s, e \u001b[38;5;129;01min\u001b[39;00m matches  \u001b[38;5;66;03m# type: ignore\u001b[39;00m\n\u001b[0;32m    153\u001b[0m ]\n\u001b[0;32m    154\u001b[0m matches\u001b[38;5;241m.\u001b[39msort()\n\u001b[0;32m    155\u001b[0m \u001b[38;5;28;01mreturn\u001b[39;00m matches\n",
      "\u001b[1;31mKeyboardInterrupt\u001b[0m: "
     ]
    }
   ],
   "source": [
    "%%time\n",
    "\n",
    "import pandas as pd\n",
    "import spacy\n",
    "\n",
    "# Load the spaCy model\n",
    "nlp = spacy.load('en_core_web_lg')\n",
    "\n",
    "entities = []\n",
    "labels = []\n",
    "position_start = []\n",
    "position_end = []\n",
    "\n",
    "# Iterate over each text in the 'clean_text' column\n",
    "for text in sampled_cleandf['clean_text']:\n",
    "    # Apply spaCy NLP pipeline to extract entities\n",
    "    doc = nlp(text)\n",
    "    \n",
    "    # Extract entity details and append to respective lists\n",
    "    for ent in doc.ents:\n",
    "        entities.append(ent.text)\n",
    "        labels.append(ent.label_)\n",
    "        position_start.append(ent.start_char)\n",
    "        position_end.append(ent.end_char)\n",
    "        \n",
    "# Create a new DataFrame from the extracted entity details\n",
    "entity_df = pd.DataFrame({'Entities': entities, 'Labels': labels, 'Position_Start': position_start, 'Position_End': position_end})"
   ]
  },
  {
   "cell_type": "code",
   "execution_count": 37,
   "id": "389b1d91-138b-444b-b64b-1986fdc73c12",
   "metadata": {},
   "outputs": [],
   "source": [
    "# Extract top organizations\n",
    "top_organizations = entity_df[entity_df['Labels'] == 'ORG']['Entities'].value_counts().head(10)\n",
    "\n",
    "# Extract top locations\n",
    "top_locations = entity_df[entity_df['Labels'] == 'GPE']['Entities'].value_counts().head(10)"
   ]
  },
  {
   "cell_type": "code",
   "execution_count": 38,
   "id": "35f65931-1736-4987-b2fc-e332593ed827",
   "metadata": {},
   "outputs": [
    {
     "name": "stdout",
     "output_type": "stream",
     "text": [
      "Top Organizations:\n",
      "Entities\n",
      "AI                         372\n",
      "ChatGPT                    197\n",
      "Microsoft                  157\n",
      "Google                     127\n",
      "Gray Media Group           105\n",
      "Gray Television Inc         64\n",
      "GPT                         42\n",
      "OpenAI                      40\n",
      "Facebook                    38\n",
      "Artificial Intelligence     38\n",
      "Name: count, dtype: int64\n"
     ]
    }
   ],
   "source": [
    "# Print the top organizations\n",
    "print(\"Top Organizations:\")\n",
    "print(top_organizations)"
   ]
  },
  {
   "cell_type": "code",
   "execution_count": 39,
   "id": "5eca9aae-728b-4e65-aa68-a4e194d1f55e",
   "metadata": {},
   "outputs": [
    {
     "name": "stdout",
     "output_type": "stream",
     "text": [
      "Top Locations:\n",
      "Entities\n",
      "US            220\n",
      "China          79\n",
      "PRNewswire     79\n",
      "India          55\n",
      "Japan          35\n",
      "UK             30\n",
      "Russia         24\n",
      "New York       23\n",
      "Canada         21\n",
      "France         21\n",
      "Name: count, dtype: int64\n"
     ]
    }
   ],
   "source": [
    "# Print the top locations\n",
    "print(\"Top Locations:\")\n",
    "print(top_locations)"
   ]
  },
  {
   "cell_type": "code",
   "execution_count": null,
   "id": "5ca7adc3",
   "metadata": {},
   "outputs": [],
   "source": []
  }
 ],
 "metadata": {
  "kernelspec": {
   "display_name": "Python 3 (ipykernel)",
   "language": "python",
   "name": "python3"
  },
  "language_info": {
   "codemirror_mode": {
    "name": "ipython",
    "version": 3
   },
   "file_extension": ".py",
   "mimetype": "text/x-python",
   "name": "python",
   "nbconvert_exporter": "python",
   "pygments_lexer": "ipython3",
   "version": "3.9.12"
  }
 },
 "nbformat": 4,
 "nbformat_minor": 5
}
