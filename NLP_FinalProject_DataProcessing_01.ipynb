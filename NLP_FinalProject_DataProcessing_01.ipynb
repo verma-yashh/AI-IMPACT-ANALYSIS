{
 "cells": [
  {
   "cell_type": "markdown",
   "metadata": {},
   "source": [
    "# NLP Class Final Project \n",
    "##  Yash Verma "
   ]
  },
  {
   "cell_type": "code",
   "execution_count": 1,
   "metadata": {},
   "outputs": [],
   "source": [
    "import pandas as pd\n",
    "import re \n",
    "import nltk as nltk\n",
    "import numpy as np\n",
    "import matplotlib.pyplot as plt\n",
    "import seaborn as sns\n",
    "import spacy\n",
    "import time\n",
    "import math\n",
    "import string\n",
    "import gensim\n",
    "import pyLDAvis\n",
    "import seaborn as sns \n",
    "import matplotlib.pyplot as plt\n",
    "#import pyLDAvis.gensim\n",
    "#import pyLDAvis.gensim_models as gensimvis\n",
    "\n",
    "from textblob import TextBlob\n",
    "from nltk.corpus import stopwords\n",
    "from nltk.stem.wordnet import WordNetLemmatizer\n",
    "from gensim import corpora, models\n",
    "from gensim.models.ldamulticore import LdaMulticore"
   ]
  },
  {
   "cell_type": "code",
   "execution_count": 2,
   "metadata": {},
   "outputs": [
    {
     "name": "stdout",
     "output_type": "stream",
     "text": [
      "INFO: Pandarallel will run on 12 workers.\n",
      "INFO: Pandarallel will use standard multiprocessing data transfer (pipe) to transfer data between the main process and workers.\n",
      "\n",
      "WARNING: You are on Windows. If you detect any issue with pandarallel, be sure you checked out the Troubleshooting page:\n",
      "https://nalepae.github.io/pandarallel/troubleshooting/\n"
     ]
    }
   ],
   "source": [
    "import pandarallel\n",
    "import multiprocessing\n",
    "from pandarallel import pandarallel\n",
    "\n",
    "num_processors = multiprocessing.cpu_count()\n",
    "\n",
    "pandarallel.initialize(nb_workers=num_processors, use_memory_fs=False)"
   ]
  },
  {
   "cell_type": "code",
   "execution_count": 3,
   "metadata": {},
   "outputs": [
    {
     "name": "stdout",
     "output_type": "stream",
     "text": [
      "Collecting pyarrow\n",
      "  Obtaining dependency information for pyarrow from https://files.pythonhosted.org/packages/dc/45/31441c988329afed625a791a7d78f1cf2fcb40dcc86a1d61e081287516a8/pyarrow-12.0.1-cp39-cp39-win_amd64.whl.metadata\n",
      "  Downloading pyarrow-12.0.1-cp39-cp39-win_amd64.whl.metadata (3.1 kB)\n",
      "Requirement already satisfied: numpy>=1.16.6 in c:\\users\\verma\\appdata\\roaming\\python\\python39\\site-packages (from pyarrow) (1.25.1)\n",
      "Downloading pyarrow-12.0.1-cp39-cp39-win_amd64.whl (21.5 MB)\n",
      "   ---------------------------------------- 21.5/21.5 MB 25.1 MB/s eta 0:00:00\n",
      "Installing collected packages: pyarrow\n",
      "Successfully installed pyarrow-12.0.1\n"
     ]
    },
    {
     "name": "stderr",
     "output_type": "stream",
     "text": [
      "\n",
      "[notice] A new release of pip is available: 23.2 -> 23.2.1\n",
      "[notice] To update, run: python.exe -m pip install --upgrade pip\n"
     ]
    }
   ],
   "source": [
    "# !pip install pyarrow"
   ]
  },
  {
   "cell_type": "code",
   "execution_count": 3,
   "metadata": {},
   "outputs": [
    {
     "name": "stdout",
     "output_type": "stream",
     "text": [
      "CPU times: total: 17.2 s\n",
      "Wall time: 36 s\n"
     ]
    },
    {
     "data": {
      "text/plain": [
       "(199208, 5)"
      ]
     },
     "execution_count": 3,
     "metadata": {},
     "output_type": "execute_result"
    }
   ],
   "source": [
    "%%time\n",
    "\n",
    "df_news_final_project = pd.read_parquet(r'C:\\Users\\verma\\OneDrive - The University of Chicago\\Desktop\\MSCA\\QUARTER 4 SUMMER\\NLP\\FINAL PROJECT\\news_final_project.parquet', engine='pyarrow')\n",
    "df_news_final_project.shape"
   ]
  },
  {
   "cell_type": "code",
   "execution_count": 4,
   "metadata": {},
   "outputs": [
    {
     "data": {
      "text/html": [
       "<div>\n",
       "<style scoped>\n",
       "    .dataframe tbody tr th:only-of-type {\n",
       "        vertical-align: middle;\n",
       "    }\n",
       "\n",
       "    .dataframe tbody tr th {\n",
       "        vertical-align: top;\n",
       "    }\n",
       "\n",
       "    .dataframe thead th {\n",
       "        text-align: right;\n",
       "    }\n",
       "</style>\n",
       "<table border=\"1\" class=\"dataframe\">\n",
       "  <thead>\n",
       "    <tr style=\"text-align: right;\">\n",
       "      <th></th>\n",
       "      <th>url</th>\n",
       "      <th>date</th>\n",
       "      <th>language</th>\n",
       "      <th>title</th>\n",
       "      <th>text</th>\n",
       "    </tr>\n",
       "  </thead>\n",
       "  <tbody>\n",
       "    <tr>\n",
       "      <th>0</th>\n",
       "      <td>http://newsparliament.com/2020/02/27/children-...</td>\n",
       "      <td>2020-02-27</td>\n",
       "      <td>en</td>\n",
       "      <td>Children With Autism Saw Their Learning and So...</td>\n",
       "      <td>\\nChildren With Autism Saw Their Learning and ...</td>\n",
       "    </tr>\n",
       "    <tr>\n",
       "      <th>1</th>\n",
       "      <td>http://thedailycougar.com/2021/11/24/college-o...</td>\n",
       "      <td>2021-11-24</td>\n",
       "      <td>en</td>\n",
       "      <td>College of Technology to launch AI Retail Lab ...</td>\n",
       "      <td>\\nCollege of Technology to launch AI Retail L...</td>\n",
       "    </tr>\n",
       "    <tr>\n",
       "      <th>2</th>\n",
       "      <td>http://www.desototimes.com/news/child-actor-cl...</td>\n",
       "      <td>2022-06-09</td>\n",
       "      <td>en</td>\n",
       "      <td>Child actor Claude Jarman Jr. looks back on hi...</td>\n",
       "      <td>\\nChild actor Claude Jarman Jr. looks back on ...</td>\n",
       "    </tr>\n",
       "    <tr>\n",
       "      <th>3</th>\n",
       "      <td>http://www.mysmartrend.com/news-briefs/technic...</td>\n",
       "      <td>2020-04-17</td>\n",
       "      <td>en</td>\n",
       "      <td>Cr Bard Inc Has Returned 48.9% Since SmarTrend...</td>\n",
       "      <td>\\n\\nCr Bard Inc Has Returned 48.9% Since SmarT...</td>\n",
       "    </tr>\n",
       "    <tr>\n",
       "      <th>4</th>\n",
       "      <td>http://www.peripherals.consumerelectronicsnet....</td>\n",
       "      <td>2021-02-25</td>\n",
       "      <td>en</td>\n",
       "      <td>MulticoreWare Inc. Becomes CEVA’s Trusted Part...</td>\n",
       "      <td>\\n\\nMulticoreWare Inc. Becomes CEVA’s Trusted ...</td>\n",
       "    </tr>\n",
       "  </tbody>\n",
       "</table>\n",
       "</div>"
      ],
      "text/plain": [
       "                                                 url        date language  \\\n",
       "0  http://newsparliament.com/2020/02/27/children-...  2020-02-27       en   \n",
       "1  http://thedailycougar.com/2021/11/24/college-o...  2021-11-24       en   \n",
       "2  http://www.desototimes.com/news/child-actor-cl...  2022-06-09       en   \n",
       "3  http://www.mysmartrend.com/news-briefs/technic...  2020-04-17       en   \n",
       "4  http://www.peripherals.consumerelectronicsnet....  2021-02-25       en   \n",
       "\n",
       "                                               title  \\\n",
       "0  Children With Autism Saw Their Learning and So...   \n",
       "1  College of Technology to launch AI Retail Lab ...   \n",
       "2  Child actor Claude Jarman Jr. looks back on hi...   \n",
       "3  Cr Bard Inc Has Returned 48.9% Since SmarTrend...   \n",
       "4  MulticoreWare Inc. Becomes CEVA’s Trusted Part...   \n",
       "\n",
       "                                                text  \n",
       "0  \\nChildren With Autism Saw Their Learning and ...  \n",
       "1   \\nCollege of Technology to launch AI Retail L...  \n",
       "2  \\nChild actor Claude Jarman Jr. looks back on ...  \n",
       "3  \\n\\nCr Bard Inc Has Returned 48.9% Since SmarT...  \n",
       "4  \\n\\nMulticoreWare Inc. Becomes CEVA’s Trusted ...  "
      ]
     },
     "execution_count": 4,
     "metadata": {},
     "output_type": "execute_result"
    }
   ],
   "source": [
    "df_news_final_project.head(5)"
   ]
  },
  {
   "cell_type": "markdown",
   "metadata": {},
   "source": [
    "### Data Cleaning "
   ]
  },
  {
   "cell_type": "code",
   "execution_count": 5,
   "metadata": {},
   "outputs": [
    {
     "data": {
      "text/plain": [
       "array(['en'], dtype=object)"
      ]
     },
     "execution_count": 5,
     "metadata": {},
     "output_type": "execute_result"
    }
   ],
   "source": [
    "# The articles are all in English \n",
    "df_news_final_project[\"language\"].unique()"
   ]
  },
  {
   "cell_type": "code",
   "execution_count": 6,
   "metadata": {},
   "outputs": [],
   "source": [
    "# Dropping redudant columns \n",
    "columns_to_drop = ['url', 'language']\n",
    "df = df_news_final_project.drop(columns = columns_to_drop)"
   ]
  },
  {
   "cell_type": "code",
   "execution_count": 7,
   "metadata": {},
   "outputs": [
    {
     "data": {
      "text/html": [
       "<div>\n",
       "<style scoped>\n",
       "    .dataframe tbody tr th:only-of-type {\n",
       "        vertical-align: middle;\n",
       "    }\n",
       "\n",
       "    .dataframe tbody tr th {\n",
       "        vertical-align: top;\n",
       "    }\n",
       "\n",
       "    .dataframe thead th {\n",
       "        text-align: right;\n",
       "    }\n",
       "</style>\n",
       "<table border=\"1\" class=\"dataframe\">\n",
       "  <thead>\n",
       "    <tr style=\"text-align: right;\">\n",
       "      <th></th>\n",
       "      <th>date</th>\n",
       "      <th>title</th>\n",
       "      <th>text</th>\n",
       "    </tr>\n",
       "  </thead>\n",
       "  <tbody>\n",
       "    <tr>\n",
       "      <th>0</th>\n",
       "      <td>2020-02-27</td>\n",
       "      <td>Children With Autism Saw Their Learning and So...</td>\n",
       "      <td>\\nChildren With Autism Saw Their Learning and ...</td>\n",
       "    </tr>\n",
       "    <tr>\n",
       "      <th>1</th>\n",
       "      <td>2021-11-24</td>\n",
       "      <td>College of Technology to launch AI Retail Lab ...</td>\n",
       "      <td>\\nCollege of Technology to launch AI Retail L...</td>\n",
       "    </tr>\n",
       "    <tr>\n",
       "      <th>2</th>\n",
       "      <td>2022-06-09</td>\n",
       "      <td>Child actor Claude Jarman Jr. looks back on hi...</td>\n",
       "      <td>\\nChild actor Claude Jarman Jr. looks back on ...</td>\n",
       "    </tr>\n",
       "    <tr>\n",
       "      <th>3</th>\n",
       "      <td>2020-04-17</td>\n",
       "      <td>Cr Bard Inc Has Returned 48.9% Since SmarTrend...</td>\n",
       "      <td>\\n\\nCr Bard Inc Has Returned 48.9% Since SmarT...</td>\n",
       "    </tr>\n",
       "    <tr>\n",
       "      <th>4</th>\n",
       "      <td>2021-02-25</td>\n",
       "      <td>MulticoreWare Inc. Becomes CEVA’s Trusted Part...</td>\n",
       "      <td>\\n\\nMulticoreWare Inc. Becomes CEVA’s Trusted ...</td>\n",
       "    </tr>\n",
       "  </tbody>\n",
       "</table>\n",
       "</div>"
      ],
      "text/plain": [
       "         date                                              title  \\\n",
       "0  2020-02-27  Children With Autism Saw Their Learning and So...   \n",
       "1  2021-11-24  College of Technology to launch AI Retail Lab ...   \n",
       "2  2022-06-09  Child actor Claude Jarman Jr. looks back on hi...   \n",
       "3  2020-04-17  Cr Bard Inc Has Returned 48.9% Since SmarTrend...   \n",
       "4  2021-02-25  MulticoreWare Inc. Becomes CEVA’s Trusted Part...   \n",
       "\n",
       "                                                text  \n",
       "0  \\nChildren With Autism Saw Their Learning and ...  \n",
       "1   \\nCollege of Technology to launch AI Retail L...  \n",
       "2  \\nChild actor Claude Jarman Jr. looks back on ...  \n",
       "3  \\n\\nCr Bard Inc Has Returned 48.9% Since SmarT...  \n",
       "4  \\n\\nMulticoreWare Inc. Becomes CEVA’s Trusted ...  "
      ]
     },
     "execution_count": 7,
     "metadata": {},
     "output_type": "execute_result"
    }
   ],
   "source": [
    "df.head(5)"
   ]
  },
  {
   "cell_type": "code",
   "execution_count": 8,
   "metadata": {},
   "outputs": [
    {
     "data": {
      "text/plain": [
       "date     object\n",
       "title    object\n",
       "text     object\n",
       "dtype: object"
      ]
     },
     "execution_count": 8,
     "metadata": {},
     "output_type": "execute_result"
    }
   ],
   "source": [
    "df.dtypes"
   ]
  },
  {
   "cell_type": "markdown",
   "metadata": {},
   "source": [
    "The data type of the date column is object so we should change it to the datetime format"
   ]
  },
  {
   "cell_type": "code",
   "execution_count": 9,
   "metadata": {},
   "outputs": [],
   "source": [
    "# Convert the 'date_column' to datetime data type\n",
    "df['date'] = pd.to_datetime(df['date'])"
   ]
  },
  {
   "cell_type": "code",
   "execution_count": 10,
   "metadata": {},
   "outputs": [
    {
     "data": {
      "text/html": [
       "<div>\n",
       "<style scoped>\n",
       "    .dataframe tbody tr th:only-of-type {\n",
       "        vertical-align: middle;\n",
       "    }\n",
       "\n",
       "    .dataframe tbody tr th {\n",
       "        vertical-align: top;\n",
       "    }\n",
       "\n",
       "    .dataframe thead th {\n",
       "        text-align: right;\n",
       "    }\n",
       "</style>\n",
       "<table border=\"1\" class=\"dataframe\">\n",
       "  <thead>\n",
       "    <tr style=\"text-align: right;\">\n",
       "      <th></th>\n",
       "      <th>date</th>\n",
       "      <th>title</th>\n",
       "      <th>text</th>\n",
       "    </tr>\n",
       "  </thead>\n",
       "  <tbody>\n",
       "    <tr>\n",
       "      <th>0</th>\n",
       "      <td>2020-02-27</td>\n",
       "      <td>Children With Autism Saw Their Learning and So...</td>\n",
       "      <td>\\nChildren With Autism Saw Their Learning and ...</td>\n",
       "    </tr>\n",
       "    <tr>\n",
       "      <th>1</th>\n",
       "      <td>2021-11-24</td>\n",
       "      <td>College of Technology to launch AI Retail Lab ...</td>\n",
       "      <td>\\nCollege of Technology to launch AI Retail L...</td>\n",
       "    </tr>\n",
       "    <tr>\n",
       "      <th>2</th>\n",
       "      <td>2022-06-09</td>\n",
       "      <td>Child actor Claude Jarman Jr. looks back on hi...</td>\n",
       "      <td>\\nChild actor Claude Jarman Jr. looks back on ...</td>\n",
       "    </tr>\n",
       "    <tr>\n",
       "      <th>3</th>\n",
       "      <td>2020-04-17</td>\n",
       "      <td>Cr Bard Inc Has Returned 48.9% Since SmarTrend...</td>\n",
       "      <td>\\n\\nCr Bard Inc Has Returned 48.9% Since SmarT...</td>\n",
       "    </tr>\n",
       "    <tr>\n",
       "      <th>4</th>\n",
       "      <td>2021-02-25</td>\n",
       "      <td>MulticoreWare Inc. Becomes CEVA’s Trusted Part...</td>\n",
       "      <td>\\n\\nMulticoreWare Inc. Becomes CEVA’s Trusted ...</td>\n",
       "    </tr>\n",
       "  </tbody>\n",
       "</table>\n",
       "</div>"
      ],
      "text/plain": [
       "        date                                              title  \\\n",
       "0 2020-02-27  Children With Autism Saw Their Learning and So...   \n",
       "1 2021-11-24  College of Technology to launch AI Retail Lab ...   \n",
       "2 2022-06-09  Child actor Claude Jarman Jr. looks back on hi...   \n",
       "3 2020-04-17  Cr Bard Inc Has Returned 48.9% Since SmarTrend...   \n",
       "4 2021-02-25  MulticoreWare Inc. Becomes CEVA’s Trusted Part...   \n",
       "\n",
       "                                                text  \n",
       "0  \\nChildren With Autism Saw Their Learning and ...  \n",
       "1   \\nCollege of Technology to launch AI Retail L...  \n",
       "2  \\nChild actor Claude Jarman Jr. looks back on ...  \n",
       "3  \\n\\nCr Bard Inc Has Returned 48.9% Since SmarT...  \n",
       "4  \\n\\nMulticoreWare Inc. Becomes CEVA’s Trusted ...  "
      ]
     },
     "execution_count": 10,
     "metadata": {},
     "output_type": "execute_result"
    }
   ],
   "source": [
    "df.head(5)"
   ]
  },
  {
   "cell_type": "code",
   "execution_count": 11,
   "metadata": {
    "scrolled": true
   },
   "outputs": [
    {
     "data": {
      "text/plain": [
       "date     datetime64[ns]\n",
       "title            object\n",
       "text             object\n",
       "dtype: object"
      ]
     },
     "execution_count": 11,
     "metadata": {},
     "output_type": "execute_result"
    }
   ],
   "source": [
    "df.dtypes"
   ]
  },
  {
   "cell_type": "code",
   "execution_count": 12,
   "metadata": {},
   "outputs": [],
   "source": [
    "# Splitting the date into days months and years fir future analysis use\n",
    "\n",
    "df[\"year\"] = df[\"date\"].dt.year\n",
    "df[\"month\"] = df[\"date\"].dt.month\n",
    "df[\"day\"] = df[\"date\"].dt.day\n",
    "df[\"dayofweek\"] = df[\"date\"].dt.dayofweek"
   ]
  },
  {
   "cell_type": "code",
   "execution_count": 13,
   "metadata": {},
   "outputs": [
    {
     "data": {
      "text/html": [
       "<div>\n",
       "<style scoped>\n",
       "    .dataframe tbody tr th:only-of-type {\n",
       "        vertical-align: middle;\n",
       "    }\n",
       "\n",
       "    .dataframe tbody tr th {\n",
       "        vertical-align: top;\n",
       "    }\n",
       "\n",
       "    .dataframe thead th {\n",
       "        text-align: right;\n",
       "    }\n",
       "</style>\n",
       "<table border=\"1\" class=\"dataframe\">\n",
       "  <thead>\n",
       "    <tr style=\"text-align: right;\">\n",
       "      <th></th>\n",
       "      <th>date</th>\n",
       "      <th>title</th>\n",
       "      <th>text</th>\n",
       "      <th>year</th>\n",
       "      <th>month</th>\n",
       "      <th>day</th>\n",
       "      <th>dayofweek</th>\n",
       "    </tr>\n",
       "  </thead>\n",
       "  <tbody>\n",
       "    <tr>\n",
       "      <th>0</th>\n",
       "      <td>2020-02-27</td>\n",
       "      <td>Children With Autism Saw Their Learning and So...</td>\n",
       "      <td>\\nChildren With Autism Saw Their Learning and ...</td>\n",
       "      <td>2020</td>\n",
       "      <td>2</td>\n",
       "      <td>27</td>\n",
       "      <td>3</td>\n",
       "    </tr>\n",
       "    <tr>\n",
       "      <th>1</th>\n",
       "      <td>2021-11-24</td>\n",
       "      <td>College of Technology to launch AI Retail Lab ...</td>\n",
       "      <td>\\nCollege of Technology to launch AI Retail L...</td>\n",
       "      <td>2021</td>\n",
       "      <td>11</td>\n",
       "      <td>24</td>\n",
       "      <td>2</td>\n",
       "    </tr>\n",
       "    <tr>\n",
       "      <th>2</th>\n",
       "      <td>2022-06-09</td>\n",
       "      <td>Child actor Claude Jarman Jr. looks back on hi...</td>\n",
       "      <td>\\nChild actor Claude Jarman Jr. looks back on ...</td>\n",
       "      <td>2022</td>\n",
       "      <td>6</td>\n",
       "      <td>9</td>\n",
       "      <td>3</td>\n",
       "    </tr>\n",
       "    <tr>\n",
       "      <th>3</th>\n",
       "      <td>2020-04-17</td>\n",
       "      <td>Cr Bard Inc Has Returned 48.9% Since SmarTrend...</td>\n",
       "      <td>\\n\\nCr Bard Inc Has Returned 48.9% Since SmarT...</td>\n",
       "      <td>2020</td>\n",
       "      <td>4</td>\n",
       "      <td>17</td>\n",
       "      <td>4</td>\n",
       "    </tr>\n",
       "    <tr>\n",
       "      <th>4</th>\n",
       "      <td>2021-02-25</td>\n",
       "      <td>MulticoreWare Inc. Becomes CEVA’s Trusted Part...</td>\n",
       "      <td>\\n\\nMulticoreWare Inc. Becomes CEVA’s Trusted ...</td>\n",
       "      <td>2021</td>\n",
       "      <td>2</td>\n",
       "      <td>25</td>\n",
       "      <td>3</td>\n",
       "    </tr>\n",
       "  </tbody>\n",
       "</table>\n",
       "</div>"
      ],
      "text/plain": [
       "        date                                              title  \\\n",
       "0 2020-02-27  Children With Autism Saw Their Learning and So...   \n",
       "1 2021-11-24  College of Technology to launch AI Retail Lab ...   \n",
       "2 2022-06-09  Child actor Claude Jarman Jr. looks back on hi...   \n",
       "3 2020-04-17  Cr Bard Inc Has Returned 48.9% Since SmarTrend...   \n",
       "4 2021-02-25  MulticoreWare Inc. Becomes CEVA’s Trusted Part...   \n",
       "\n",
       "                                                text  year  month  day  \\\n",
       "0  \\nChildren With Autism Saw Their Learning and ...  2020      2   27   \n",
       "1   \\nCollege of Technology to launch AI Retail L...  2021     11   24   \n",
       "2  \\nChild actor Claude Jarman Jr. looks back on ...  2022      6    9   \n",
       "3  \\n\\nCr Bard Inc Has Returned 48.9% Since SmarT...  2020      4   17   \n",
       "4  \\n\\nMulticoreWare Inc. Becomes CEVA’s Trusted ...  2021      2   25   \n",
       "\n",
       "   dayofweek  \n",
       "0          3  \n",
       "1          2  \n",
       "2          3  \n",
       "3          4  \n",
       "4          3  "
      ]
     },
     "execution_count": 13,
     "metadata": {},
     "output_type": "execute_result"
    }
   ],
   "source": [
    "df.head(5)"
   ]
  },
  {
   "cell_type": "code",
   "execution_count": 14,
   "metadata": {},
   "outputs": [],
   "source": [
    "def clean_text(text):\n",
    "    import re\n",
    "    # Removing unimportant characters (newlines,tabs)\n",
    "    clean = re.sub(r'\\n+|\\t+|\\s+$|^\\s+', '', text) \n",
    "    \n",
    "    # Removing unimportant characters\n",
    "    clean = re.sub(r'[^a-zA-Z0-9 @ . , : - _ ]', '', clean) \n",
    "    \n",
    "    # Remove URLs and email addresses\n",
    "    clean = re.sub(r'http\\S+|www.\\S+|\\S+@\\S+', '', clean) \n",
    "    \n",
    "    # Remove non-printable characters\n",
    "    clean = ''.join(filter(lambda x: x.isprintable(), clean)) \n",
    "    \n",
    "    # Remove non-ASCII characters\n",
    "    clean = ''.join(filter(lambda x: ord(x) < 128, clean)) \n",
    "    \n",
    "    # Replace multiple spaces with a single space\n",
    "    clean = re.sub(r'\\s+', ' ', clean)\n",
    "    \n",
    "    return clean"
   ]
  },
  {
   "cell_type": "code",
   "execution_count": 15,
   "metadata": {},
   "outputs": [
    {
     "name": "stdout",
     "output_type": "stream",
     "text": [
      "CPU times: total: 219 ms\n",
      "Wall time: 6.32 s\n"
     ]
    }
   ],
   "source": [
    "# Making new columns for the new cleaned text and title\n",
    "\n",
    "%time df['clean_title'] = df['title'].parallel_apply(clean_text)"
   ]
  },
  {
   "cell_type": "code",
   "execution_count": 16,
   "metadata": {},
   "outputs": [
    {
     "name": "stdout",
     "output_type": "stream",
     "text": [
      "CPU times: total: 22.4 s\n",
      "Wall time: 4min 1s\n"
     ]
    }
   ],
   "source": [
    "%time df['clean_text'] = df['text'].parallel_apply(clean_text)"
   ]
  },
  {
   "cell_type": "code",
   "execution_count": 17,
   "metadata": {
    "scrolled": true
   },
   "outputs": [
    {
     "data": {
      "text/plain": [
       "0    Children With Autism Saw Their Learning and Social Skills Boosted After Playing With This AI Robot News Parliament Skip to contentThursday, February 27, 2020Latest:Mansplaining in conferences: How can we get him to forestallDrax power station to cease burning coal in March 2021Coronavirus Could Explode in the U.S. Overnight Like it Did in ItalyCoronavirus: Dettol sales surge as markets fall againLevi Strauss marks the next phase in corporate paid leave policiesNews ParliamentGet the Real Story NewsTechnologyServicesHealthcareWorldBusinessEntertainment World Children With Autism Saw Their Learning and Social Skills Boosted After Playing With This AI Robot February 27, 2020February 27, 2020admin 0 Comments Author Recent Posts admin Latest posts by admin see all Mansplaining in conferences: How can we get him to forestall February 27, 2020 Coronavirus Could Explode in the U.S. Overnight Like it Did in Italy February 27, 2020 Levi Strauss marks the next phase in corporate paid leave po...\n",
       "Name: clean_text, dtype: object"
      ]
     },
     "execution_count": 17,
     "metadata": {},
     "output_type": "execute_result"
    }
   ],
   "source": [
    "pd.set_option('display.max_colwidth', 1000)\n",
    "df['clean_text'].head(1)"
   ]
  },
  {
   "cell_type": "code",
   "execution_count": 18,
   "metadata": {
    "scrolled": true
   },
   "outputs": [
    {
     "data": {
      "text/plain": [
       "(199208, 9)"
      ]
     },
     "execution_count": 18,
     "metadata": {},
     "output_type": "execute_result"
    }
   ],
   "source": [
    "df.shape"
   ]
  },
  {
   "cell_type": "markdown",
   "metadata": {},
   "source": [
    "### Using the keywords related to clear out the irrelevant articles that are not related to Aritificial Intelligence "
   ]
  },
  {
   "cell_type": "code",
   "execution_count": 19,
   "metadata": {},
   "outputs": [],
   "source": [
    "keywords = [\n",
    "    'data science',\n",
    "    'machine learning',\n",
    "    'artificial intelligence',\n",
    "    'natural language processing',\n",
    "    'computer vision',\n",
    "    'big data',\n",
    "    'data mining',\n",
    "    'deep learning',\n",
    "    'reinforcement learning',\n",
    "    'computer vision',\n",
    "    'natural language generation',\n",
    "    'text analytics',\n",
    "    'image recognition',\n",
    "    'speech recognition',\n",
    "    'recommendation systems',\n",
    "    'fraud detection',\n",
    "    'predictive analytics',\n",
    "    'neural networks',\n",
    "    'pattern recognition',\n",
    "    'data engineering',\n",
    "    'feature extraction',\n",
    "    'anomaly detection',\n",
    "    'time series analysis',\n",
    "    'cognitive computing',\n",
    "    'chatbots',\n",
    "    'predictive modeling',\n",
    "    'sentiment analysis',\n",
    "    'bayesian statistics',\n",
    "    'decision trees',\n",
    "    'support vector machines',\n",
    "    'ensemble methods',\n",
    "    'model deployment',\n",
    "    'neural language translation',\n",
    "    'dimensionality reduction',\n",
    "    'cloud computing',\n",
    "    'internet of things',\n",
    "    'blockchain applications',\n",
    "    'cybersecurity and AI',\n",
    "    'explainable AI',\n",
    "    'human-AI interaction',\n",
    "    'AI ethics',\n",
    "    'quantum computing (AI applications)'\n",
    "]"
   ]
  },
  {
   "cell_type": "code",
   "execution_count": 20,
   "metadata": {
    "scrolled": true
   },
   "outputs": [
    {
     "name": "stderr",
     "output_type": "stream",
     "text": [
      "<timed exec>:1: UserWarning: This pattern is interpreted as a regular expression, and has match groups. To actually get the groups, use str.extract.\n"
     ]
    },
    {
     "name": "stdout",
     "output_type": "stream",
     "text": [
      "CPU times: total: 5min 7s\n",
      "Wall time: 7min 15s\n"
     ]
    }
   ],
   "source": [
    "%%time\n",
    "\n",
    "filtered_df = df[df['clean_text'].str.contains('|'.join(keywords), flags=re.IGNORECASE)]"
   ]
  },
  {
   "cell_type": "code",
   "execution_count": 21,
   "metadata": {
    "scrolled": true
   },
   "outputs": [
    {
     "data": {
      "text/plain": [
       "(157235, 9)"
      ]
     },
     "execution_count": 21,
     "metadata": {},
     "output_type": "execute_result"
    }
   ],
   "source": [
    "filtered_df.shape"
   ]
  },
  {
   "cell_type": "code",
   "execution_count": 24,
   "metadata": {},
   "outputs": [
    {
     "data": {
      "text/html": [
       "<div>\n",
       "<style scoped>\n",
       "    .dataframe tbody tr th:only-of-type {\n",
       "        vertical-align: middle;\n",
       "    }\n",
       "\n",
       "    .dataframe tbody tr th {\n",
       "        vertical-align: top;\n",
       "    }\n",
       "\n",
       "    .dataframe thead th {\n",
       "        text-align: right;\n",
       "    }\n",
       "</style>\n",
       "<table border=\"1\" class=\"dataframe\">\n",
       "  <thead>\n",
       "    <tr style=\"text-align: right;\">\n",
       "      <th></th>\n",
       "      <th>date</th>\n",
       "      <th>title</th>\n",
       "      <th>text</th>\n",
       "      <th>year</th>\n",
       "      <th>month</th>\n",
       "      <th>day</th>\n",
       "      <th>dayofweek</th>\n",
       "      <th>clean_title</th>\n",
       "      <th>clean_text</th>\n",
       "    </tr>\n",
       "  </thead>\n",
       "  <tbody>\n",
       "    <tr>\n",
       "      <th>1</th>\n",
       "      <td>2021-11-24</td>\n",
       "      <td>College of Technology to launch AI Retail Lab - The Cougar</td>\n",
       "      <td>\\nCollege of Technology to launch AI Retail Lab - The Cougar\\nside bar\\n\\n\\nHome\\nCoronavirus\\nNews\\n\\nAcademics &amp; Research\\nActivities &amp; Organizations\\nAdministration\\nAlumni\\nState\\nStudent Government\\nFacilities\\nUH System\\nCampus\\nCity\\nConstruction\\nCrime\\nFaculty &amp; Staff\\nNation\\n\\n\\nSports\\n\\nBaseball\\nCommentary\\nCross Country\\nFootball\\nGolf\\nMen’s Basketball\\nSoccer\\nSoftball\\nSwimming &amp; Diving\\nTennis\\nTrack &amp; Field\\nVolleyball\\nWomen’s Basketball\\n\\n\\nOpinion\\n\\nStaff Editorial\\nWeb Exclusive\\n\\n\\nLife + Arts\\n\\nSocial Media\\n\\n\\nPrint Edition\\nClassifieds\\nAbout\\n\\nContact us\\nAdvertising\\nFeedback\\nGet in the paper\\nFind The Cougar\\n\\n\\nApply\\n \\n\\n \\n \\n\\n\\n \\n\\n#REaDAllOver\\n\\nIn Print Every Wednesday\\nIn Your Newsfeed fb.com/thedailycougar\\nOn Twitter @thedailycougar\\nOn Instagram@thedailycougar\\nIn Your Inbox Email subscription\\nJoin the staff Apply for a position\\n\\n\\nWednesday, November 24, 2021\\n\\nHome \\nCoronavirus \\nNews 6d707f\\n\\nAcademics &amp; Research \\nActi...</td>\n",
       "      <td>2021</td>\n",
       "      <td>11</td>\n",
       "      <td>24</td>\n",
       "      <td>2</td>\n",
       "      <td>College of Technology to launch AI Retail Lab The Cougar</td>\n",
       "      <td>College of Technology to launch AI Retail Lab The Cougarside barHomeCoronavirusNewsAcademics ResearchActivities OrganizationsAdministrationAlumniStateStudent GovernmentFacilitiesUH SystemCampusCityConstructionCrimeFaculty StaffNationSportsBaseballCommentaryCross CountryFootballGolfMens BasketballSoccerSoftballSwimming DivingTennisTrack FieldVolleyballWomens BasketballOpinionStaff EditorialWeb ExclusiveLife ArtsSocial MediaPrint EditionClassifiedsAboutContact usAdvertisingFeedbackGet in the paperFind The CougarApply REaDAllOverIn Print Every WednesdayIn Your Newsfeed fb.comthedailycougarOn Twitter @thedailycougarOn Your Inbox Email subscriptionJoin the staff Apply for a positionWednesday, November 24, 2021Home Coronavirus News 6d707fAcademics Research Activities Organizations Administration Alumni State Student Government Facilities UH System Campus City Construction Crime Faculty Staff Nation Sports BC1128Baseball Commentary Cross Country Football Golf Mens Basketball Soccer Softba...</td>\n",
       "    </tr>\n",
       "    <tr>\n",
       "      <th>4</th>\n",
       "      <td>2021-02-25</td>\n",
       "      <td>MulticoreWare Inc. Becomes CEVA’s Trusted Partner for Imaging &amp; Computer Vision – Consumer Electronics Net</td>\n",
       "      <td>\\n\\nMulticoreWare Inc. Becomes CEVA’s Trusted Partner for Imaging &amp; Computer Vision – Consumer Electronics Net\\n\\n \\nSkip to content\\n\\nConsumer Electronics Net\\n\\nPrimary Menu\\n\\nConsumer Electronics Net\\n\\nSearch for:\\n \\nHomeNewsMulticoreWare Inc. Becomes CEVA’s Trusted Partner for Imaging &amp; Computer Vision \\n \\n                                 News\\n                             \\n \\nMulticoreWare Inc. Becomes CEVA’s Trusted Partner for Imaging &amp; Computer Vision\\n                    13 mins ago            \\n \\n\\nMulticoreWare Inc., joins the CEVAnet™ Partner Program – a comprehensive partner ecosystem to form a robust infrastructure around CEVA’s IP offerings. \\n\\n\\nSAN JOSE, Calif.–(BUSINESS WIRE)–#ADAS–MulticoreWare Inc., joins CEVA, the leading licensor of sensor-hub Digital Signal Processors, AI engines and complementary framework &amp; various software SDK’s, as their trusted partner to enable services on all computing platforms by implementing optimized kernels and frameworks ...</td>\n",
       "      <td>2021</td>\n",
       "      <td>2</td>\n",
       "      <td>25</td>\n",
       "      <td>3</td>\n",
       "      <td>MulticoreWare Inc. Becomes CEVAs Trusted Partner for Imaging Computer Vision Consumer Electronics Net</td>\n",
       "      <td>MulticoreWare Inc. Becomes CEVAs Trusted Partner for Imaging Computer Vision Consumer Electronics Net Skip to contentConsumer Electronics NetPrimary MenuConsumer Electronics NetSearch for: HomeNewsMulticoreWare Inc. Becomes CEVAs Trusted Partner for Imaging Computer Vision News MulticoreWare Inc. Becomes CEVAs Trusted Partner for Imaging Computer Vision 13 mins ago MulticoreWare Inc., joins the CEVAnet Partner Program a comprehensive partner ecosystem to form a robust infrastructure around CEVAs IP offerings. SAN JOSE, Calif.BUSINESS WIREADASMulticoreWare Inc., joins CEVA, the leading licensor of sensorhub Digital Signal Processors, AI engines and complementary framework various software SDKs, as their trusted partner to enable services on all computing platforms by implementing optimized kernels and frameworks in CEVAs pipeline.MulticoreWare has implemented and optimized kernels on CEVAs platforms e.g., XM4, XM6, SensPro first and second generation for achieving maximum performanc...</td>\n",
       "    </tr>\n",
       "  </tbody>\n",
       "</table>\n",
       "</div>"
      ],
      "text/plain": [
       "        date  \\\n",
       "1 2021-11-24   \n",
       "4 2021-02-25   \n",
       "\n",
       "                                                                                                        title  \\\n",
       "1                                                  College of Technology to launch AI Retail Lab - The Cougar   \n",
       "4  MulticoreWare Inc. Becomes CEVA’s Trusted Partner for Imaging & Computer Vision – Consumer Electronics Net   \n",
       "\n",
       "                                                                                                                                                                                                                                                                                                                                                                                                                                                                                                                                                                                                                                                                                                                                                                                                                                                                                                                                                                                                                                      text  \\\n",
       "1   \\nCollege of Technology to launch AI Retail Lab - The Cougar\\nside bar\\n\\n\\nHome\\nCoronavirus\\nNews\\n\\nAcademics & Research\\nActivities & Organizations\\nAdministration\\nAlumni\\nState\\nStudent Government\\nFacilities\\nUH System\\nCampus\\nCity\\nConstruction\\nCrime\\nFaculty & Staff\\nNation\\n\\n\\nSports\\n\\nBaseball\\nCommentary\\nCross Country\\nFootball\\nGolf\\nMen’s Basketball\\nSoccer\\nSoftball\\nSwimming & Diving\\nTennis\\nTrack & Field\\nVolleyball\\nWomen’s Basketball\\n\\n\\nOpinion\\n\\nStaff Editorial\\nWeb Exclusive\\n\\n\\nLife + Arts\\n\\nSocial Media\\n\\n\\nPrint Edition\\nClassifieds\\nAbout\\n\\nContact us\\nAdvertising\\nFeedback\\nGet in the paper\\nFind The Cougar\\n\\n\\nApply\\n \\n\\n \\n \\n\\n\\n \\n\\n#REaDAllOver\\n\\nIn Print Every Wednesday\\nIn Your Newsfeed fb.com/thedailycougar\\nOn Twitter @thedailycougar\\nOn Instagram@thedailycougar\\nIn Your Inbox Email subscription\\nJoin the staff Apply for a position\\n\\n\\nWednesday, November 24, 2021\\n\\nHome \\nCoronavirus \\nNews 6d707f\\n\\nAcademics & Research \\nActi...   \n",
       "4  \\n\\nMulticoreWare Inc. Becomes CEVA’s Trusted Partner for Imaging & Computer Vision – Consumer Electronics Net\\n\\n \\nSkip to content\\n\\nConsumer Electronics Net\\n\\nPrimary Menu\\n\\nConsumer Electronics Net\\n\\nSearch for:\\n \\nHomeNewsMulticoreWare Inc. Becomes CEVA’s Trusted Partner for Imaging & Computer Vision \\n \\n                                 News\\n                             \\n \\nMulticoreWare Inc. Becomes CEVA’s Trusted Partner for Imaging & Computer Vision\\n                    13 mins ago            \\n \\n\\nMulticoreWare Inc., joins the CEVAnet™ Partner Program – a comprehensive partner ecosystem to form a robust infrastructure around CEVA’s IP offerings. \\n\\n\\nSAN JOSE, Calif.–(BUSINESS WIRE)–#ADAS–MulticoreWare Inc., joins CEVA, the leading licensor of sensor-hub Digital Signal Processors, AI engines and complementary framework & various software SDK’s, as their trusted partner to enable services on all computing platforms by implementing optimized kernels and frameworks ...   \n",
       "\n",
       "   year  month  day  dayofweek  \\\n",
       "1  2021     11   24          2   \n",
       "4  2021      2   25          3   \n",
       "\n",
       "                                                                                             clean_title  \\\n",
       "1                                               College of Technology to launch AI Retail Lab The Cougar   \n",
       "4  MulticoreWare Inc. Becomes CEVAs Trusted Partner for Imaging Computer Vision Consumer Electronics Net   \n",
       "\n",
       "                                                                                                                                                                                                                                                                                                                                                                                                                                                                                                                                                                                                                                                                                                                                                                                                                                                                                                                                                                                                                                clean_text  \n",
       "1  College of Technology to launch AI Retail Lab The Cougarside barHomeCoronavirusNewsAcademics ResearchActivities OrganizationsAdministrationAlumniStateStudent GovernmentFacilitiesUH SystemCampusCityConstructionCrimeFaculty StaffNationSportsBaseballCommentaryCross CountryFootballGolfMens BasketballSoccerSoftballSwimming DivingTennisTrack FieldVolleyballWomens BasketballOpinionStaff EditorialWeb ExclusiveLife ArtsSocial MediaPrint EditionClassifiedsAboutContact usAdvertisingFeedbackGet in the paperFind The CougarApply REaDAllOverIn Print Every WednesdayIn Your Newsfeed fb.comthedailycougarOn Twitter @thedailycougarOn Your Inbox Email subscriptionJoin the staff Apply for a positionWednesday, November 24, 2021Home Coronavirus News 6d707fAcademics Research Activities Organizations Administration Alumni State Student Government Facilities UH System Campus City Construction Crime Faculty Staff Nation Sports BC1128Baseball Commentary Cross Country Football Golf Mens Basketball Soccer Softba...  \n",
       "4  MulticoreWare Inc. Becomes CEVAs Trusted Partner for Imaging Computer Vision Consumer Electronics Net Skip to contentConsumer Electronics NetPrimary MenuConsumer Electronics NetSearch for: HomeNewsMulticoreWare Inc. Becomes CEVAs Trusted Partner for Imaging Computer Vision News MulticoreWare Inc. Becomes CEVAs Trusted Partner for Imaging Computer Vision 13 mins ago MulticoreWare Inc., joins the CEVAnet Partner Program a comprehensive partner ecosystem to form a robust infrastructure around CEVAs IP offerings. SAN JOSE, Calif.BUSINESS WIREADASMulticoreWare Inc., joins CEVA, the leading licensor of sensorhub Digital Signal Processors, AI engines and complementary framework various software SDKs, as their trusted partner to enable services on all computing platforms by implementing optimized kernels and frameworks in CEVAs pipeline.MulticoreWare has implemented and optimized kernels on CEVAs platforms e.g., XM4, XM6, SensPro first and second generation for achieving maximum performanc...  "
      ]
     },
     "execution_count": 24,
     "metadata": {},
     "output_type": "execute_result"
    }
   ],
   "source": [
    "filtered_df.head(2)"
   ]
  },
  {
   "cell_type": "code",
   "execution_count": 25,
   "metadata": {},
   "outputs": [],
   "source": [
    "output_path = r\"C:\\Users\\verma\\OneDrive - The University of Chicago\\Desktop\\MSCA\\QUARTER 4 SUMMER\\NLP\\FINAL PROJECT/data.parquet\"\n",
    "df.to_parquet(output_path, index=False)"
   ]
  },
  {
   "cell_type": "code",
   "execution_count": null,
   "metadata": {},
   "outputs": [],
   "source": []
  }
 ],
 "metadata": {
  "kernelspec": {
   "display_name": "Python 3 (ipykernel)",
   "language": "python",
   "name": "python3"
  },
  "language_info": {
   "codemirror_mode": {
    "name": "ipython",
    "version": 3
   },
   "file_extension": ".py",
   "mimetype": "text/x-python",
   "name": "python",
   "nbconvert_exporter": "python",
   "pygments_lexer": "ipython3",
   "version": "3.9.12"
  }
 },
 "nbformat": 4,
 "nbformat_minor": 4
}
