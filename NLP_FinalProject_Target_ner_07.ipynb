{
 "cells": [
  {
   "cell_type": "code",
   "execution_count": 1,
   "id": "543949f8",
   "metadata": {},
   "outputs": [],
   "source": [
    "import pandas as pd\n",
    "import re \n",
    "import spacy\n",
    "import nltk as nltk\n",
    "import numpy as np\n",
    "import matplotlib.pyplot as plt\n",
    "import seaborn as sns\n",
    "import spacy\n",
    "import time\n",
    "import math\n",
    "import string\n",
    "import gensim\n",
    "import pyLDAvis\n",
    "import gensim\n",
    "import os\n",
    "import requests\n",
    "import pprint\n",
    "import seaborn as sns \n",
    "import matplotlib.pyplot as plt\n",
    "import pyLDAvis.gensim\n",
    "import pyLDAvis.gensim_models as gensimvis\n",
    "import warnings\n",
    "warnings.simplefilter('ignore')\n",
    "warnings.filterwarnings(\"ignore\", category=DeprecationWarning)\n",
    "\n",
    "from IPython.display import clear_output\n",
    "from wordcloud import WordCloud\n",
    "from collections import Counter\n",
    "from joblib import dump, load\n",
    "from textblob import TextBlob\n",
    "from nltk.corpus import stopwords\n",
    "from nltk.stem.wordnet import WordNetLemmatizer\n",
    "from gensim import corpora, models\n",
    "from gensim.models.ldamulticore import LdaMulticore\n",
    "from vaderSentiment.vaderSentiment import SentimentIntensityAnalyzer\n",
    "from gensim import corpora, models\n",
    "from gensim.utils import simple_preprocess\n",
    "from gensim.models import CoherenceModel\n",
    "from gensim.models.ldamodel import LdaModel\n",
    "\n",
    "\n",
    "pyLDAvis.enable_notebook()\n",
    "#nlp = spacy.load(\"en_core_web_sm\")"
   ]
  },
  {
   "cell_type": "code",
   "execution_count": 2,
   "id": "ae6e0d96",
   "metadata": {},
   "outputs": [],
   "source": [
    "import pyLDAvis.gensim\n",
    "import pyLDAvis.gensim_models as gensimvis"
   ]
  },
  {
   "cell_type": "code",
   "execution_count": 3,
   "id": "d3745210",
   "metadata": {},
   "outputs": [
    {
     "name": "stdout",
     "output_type": "stream",
     "text": [
      "INFO: Pandarallel will run on 12 workers.\n",
      "INFO: Pandarallel will use standard multiprocessing data transfer (pipe) to transfer data between the main process and workers.\n",
      "\n",
      "WARNING: You are on Windows. If you detect any issue with pandarallel, be sure you checked out the Troubleshooting page:\n",
      "https://nalepae.github.io/pandarallel/troubleshooting/\n"
     ]
    }
   ],
   "source": [
    "import pandarallel\n",
    "import multiprocessing\n",
    "from pandarallel import pandarallel\n",
    "\n",
    "num_processors = multiprocessing.cpu_count()\n",
    "\n",
    "pandarallel.initialize(nb_workers=num_processors, use_memory_fs=False, progress_bar=True)"
   ]
  },
  {
   "cell_type": "code",
   "execution_count": 4,
   "id": "0834b439",
   "metadata": {},
   "outputs": [
    {
     "name": "stdout",
     "output_type": "stream",
     "text": [
      "CPU times: total: 297 ms\n",
      "Wall time: 354 ms\n"
     ]
    },
    {
     "data": {
      "text/plain": [
       "(1650, 15)"
      ]
     },
     "execution_count": 4,
     "metadata": {},
     "output_type": "execute_result"
    }
   ],
   "source": [
    "%%time\n",
    "\n",
    "df = pd.read_parquet('senti_data.parquet', engine='pyarrow')\n",
    "df.shape"
   ]
  },
  {
   "cell_type": "code",
   "execution_count": 5,
   "id": "4a73bb8f",
   "metadata": {},
   "outputs": [
    {
     "data": {
      "text/html": [
       "<div>\n",
       "<style scoped>\n",
       "    .dataframe tbody tr th:only-of-type {\n",
       "        vertical-align: middle;\n",
       "    }\n",
       "\n",
       "    .dataframe tbody tr th {\n",
       "        vertical-align: top;\n",
       "    }\n",
       "\n",
       "    .dataframe thead th {\n",
       "        text-align: right;\n",
       "    }\n",
       "</style>\n",
       "<table border=\"1\" class=\"dataframe\">\n",
       "  <thead>\n",
       "    <tr style=\"text-align: right;\">\n",
       "      <th></th>\n",
       "      <th>date</th>\n",
       "      <th>year</th>\n",
       "      <th>month</th>\n",
       "      <th>day</th>\n",
       "      <th>dayofweek</th>\n",
       "      <th>clean_title</th>\n",
       "      <th>clean_text</th>\n",
       "      <th>clean_title_tokens</th>\n",
       "      <th>article_length</th>\n",
       "      <th>title_length</th>\n",
       "      <th>clean_text_tokens</th>\n",
       "      <th>initial_senti</th>\n",
       "      <th>sentiment_scores</th>\n",
       "      <th>average_sentiment</th>\n",
       "      <th>sentiment</th>\n",
       "    </tr>\n",
       "  </thead>\n",
       "  <tbody>\n",
       "    <tr>\n",
       "      <th>482</th>\n",
       "      <td>2022-06-09</td>\n",
       "      <td>2022</td>\n",
       "      <td>6</td>\n",
       "      <td>9</td>\n",
       "      <td>3</td>\n",
       "      <td>Standigm Signs MOU with Merck Korea for AI dru...</td>\n",
       "      <td>Standigm Signs MOU with Merck Korea for AI dru...</td>\n",
       "      <td>[standigm, signs, mou, merck, korea, ai, drug,...</td>\n",
       "      <td>5626</td>\n",
       "      <td>66</td>\n",
       "      <td>[standigm, signs, mou, merck, korea, ai, drug,...</td>\n",
       "      <td>0</td>\n",
       "      <td>[0.0, 0.0, 0.0, 0.0, 0.0, 0.0, 0.0, 0.0, 0.0, ...</td>\n",
       "      <td>0.350657</td>\n",
       "      <td>Positive</td>\n",
       "    </tr>\n",
       "    <tr>\n",
       "      <th>65</th>\n",
       "      <td>2020-06-03</td>\n",
       "      <td>2020</td>\n",
       "      <td>6</td>\n",
       "      <td>3</td>\n",
       "      <td>2</td>\n",
       "      <td>Global Artificial Intelligence in the Educatio...</td>\n",
       "      <td>Global Artificial Intelligence in the Educatio...</td>\n",
       "      <td>[global, artificial, intelligence, education, ...</td>\n",
       "      <td>7197</td>\n",
       "      <td>207</td>\n",
       "      <td>[global, artificial, intelligence, education, ...</td>\n",
       "      <td>1</td>\n",
       "      <td>[0.0, 0.0, 0.4767, 0.0, 0.0, 0.0, 0.0, 0.0, 0....</td>\n",
       "      <td>0.306625</td>\n",
       "      <td>Positive</td>\n",
       "    </tr>\n",
       "    <tr>\n",
       "      <th>926</th>\n",
       "      <td>2022-06-08</td>\n",
       "      <td>2022</td>\n",
       "      <td>6</td>\n",
       "      <td>8</td>\n",
       "      <td>2</td>\n",
       "      <td>Better Therapeutics gets US patent linked to m...</td>\n",
       "      <td>Better Therapeutics gets US patent linked to m...</td>\n",
       "      <td>[better, therapeutics, get, us, patent, linked...</td>\n",
       "      <td>518</td>\n",
       "      <td>103</td>\n",
       "      <td>[better, therapeutics, get, us, patent, linked...</td>\n",
       "      <td>0</td>\n",
       "      <td>[0.4404, 0.0, 0.0, 0.0, 0.0, 0.0, 0.0, 0.0, 0....</td>\n",
       "      <td>0.250600</td>\n",
       "      <td>Positive</td>\n",
       "    </tr>\n",
       "  </tbody>\n",
       "</table>\n",
       "</div>"
      ],
      "text/plain": [
       "          date  year  month  day  dayofweek  \\\n",
       "482 2022-06-09  2022      6    9          3   \n",
       "65  2020-06-03  2020      6    3          2   \n",
       "926 2022-06-08  2022      6    8          2   \n",
       "\n",
       "                                           clean_title  \\\n",
       "482  Standigm Signs MOU with Merck Korea for AI dru...   \n",
       "65   Global Artificial Intelligence in the Educatio...   \n",
       "926  Better Therapeutics gets US patent linked to m...   \n",
       "\n",
       "                                            clean_text  \\\n",
       "482  Standigm Signs MOU with Merck Korea for AI dru...   \n",
       "65   Global Artificial Intelligence in the Educatio...   \n",
       "926  Better Therapeutics gets US patent linked to m...   \n",
       "\n",
       "                                    clean_title_tokens  article_length  \\\n",
       "482  [standigm, signs, mou, merck, korea, ai, drug,...            5626   \n",
       "65   [global, artificial, intelligence, education, ...            7197   \n",
       "926  [better, therapeutics, get, us, patent, linked...             518   \n",
       "\n",
       "     title_length                                  clean_text_tokens  \\\n",
       "482            66  [standigm, signs, mou, merck, korea, ai, drug,...   \n",
       "65            207  [global, artificial, intelligence, education, ...   \n",
       "926           103  [better, therapeutics, get, us, patent, linked...   \n",
       "\n",
       "     initial_senti                                   sentiment_scores  \\\n",
       "482              0  [0.0, 0.0, 0.0, 0.0, 0.0, 0.0, 0.0, 0.0, 0.0, ...   \n",
       "65               1  [0.0, 0.0, 0.4767, 0.0, 0.0, 0.0, 0.0, 0.0, 0....   \n",
       "926              0  [0.4404, 0.0, 0.0, 0.0, 0.0, 0.0, 0.0, 0.0, 0....   \n",
       "\n",
       "     average_sentiment sentiment  \n",
       "482           0.350657  Positive  \n",
       "65            0.306625  Positive  \n",
       "926           0.250600  Positive  "
      ]
     },
     "execution_count": 5,
     "metadata": {},
     "output_type": "execute_result"
    }
   ],
   "source": [
    "df.sample(3, random_state = 42)"
   ]
  },
  {
   "cell_type": "markdown",
   "id": "15f6a374",
   "metadata": {},
   "source": [
    "### Topic Modelling on Sentiments"
   ]
  },
  {
   "cell_type": "code",
   "execution_count": 6,
   "id": "9d8040de",
   "metadata": {},
   "outputs": [],
   "source": [
    "df_pos = df[df[\"sentiment\"]==\"Positive\"]\n",
    "df_neg = df[df[\"sentiment\"]==\"Negative\"]"
   ]
  },
  {
   "cell_type": "code",
   "execution_count": 7,
   "id": "1b915a78",
   "metadata": {},
   "outputs": [
    {
     "data": {
      "text/html": [
       "<div>\n",
       "<style scoped>\n",
       "    .dataframe tbody tr th:only-of-type {\n",
       "        vertical-align: middle;\n",
       "    }\n",
       "\n",
       "    .dataframe tbody tr th {\n",
       "        vertical-align: top;\n",
       "    }\n",
       "\n",
       "    .dataframe thead th {\n",
       "        text-align: right;\n",
       "    }\n",
       "</style>\n",
       "<table border=\"1\" class=\"dataframe\">\n",
       "  <thead>\n",
       "    <tr style=\"text-align: right;\">\n",
       "      <th></th>\n",
       "      <th>date</th>\n",
       "      <th>year</th>\n",
       "      <th>month</th>\n",
       "      <th>day</th>\n",
       "      <th>dayofweek</th>\n",
       "      <th>clean_title</th>\n",
       "      <th>clean_text</th>\n",
       "      <th>clean_title_tokens</th>\n",
       "      <th>article_length</th>\n",
       "      <th>title_length</th>\n",
       "      <th>clean_text_tokens</th>\n",
       "      <th>initial_senti</th>\n",
       "      <th>sentiment_scores</th>\n",
       "      <th>average_sentiment</th>\n",
       "      <th>sentiment</th>\n",
       "    </tr>\n",
       "  </thead>\n",
       "  <tbody>\n",
       "    <tr>\n",
       "      <th>0</th>\n",
       "      <td>2023-05-25</td>\n",
       "      <td>2023</td>\n",
       "      <td>5</td>\n",
       "      <td>25</td>\n",
       "      <td>3</td>\n",
       "      <td>PayPal Is Using AI to Supercharge Profits Nasdaq</td>\n",
       "      <td>PayPal Is Using AI to Supercharge Profits Nasd...</td>\n",
       "      <td>[paypal, using, ai, supercharge, profits, nasdaq]</td>\n",
       "      <td>7090</td>\n",
       "      <td>48</td>\n",
       "      <td>[paypal, using, ai, supercharge, profits, nasd...</td>\n",
       "      <td>0</td>\n",
       "      <td>[0.0, 0.0, 0.0, 0.0, 0.4404, 0.0, 0.0, 0.0, 0....</td>\n",
       "      <td>0.203005</td>\n",
       "      <td>Positive</td>\n",
       "    </tr>\n",
       "    <tr>\n",
       "      <th>1</th>\n",
       "      <td>2023-02-24</td>\n",
       "      <td>2023</td>\n",
       "      <td>2</td>\n",
       "      <td>24</td>\n",
       "      <td>4</td>\n",
       "      <td>Facebook Parent Meta Wants to Show Its Still a...</td>\n",
       "      <td>Facebook Parent Meta Wants to Show Its Still a...</td>\n",
       "      <td>[facebook, parent, meta, wants, show, still, b...</td>\n",
       "      <td>4689</td>\n",
       "      <td>76</td>\n",
       "      <td>[facebook, parent, meta, wants, show, still, b...</td>\n",
       "      <td>0</td>\n",
       "      <td>[0.0, 0.0, 0.0, 0.0, 0.0, 0.0, 0.0, 0.128, 0.0...</td>\n",
       "      <td>0.179145</td>\n",
       "      <td>Positive</td>\n",
       "    </tr>\n",
       "  </tbody>\n",
       "</table>\n",
       "</div>"
      ],
      "text/plain": [
       "        date  year  month  day  dayofweek  \\\n",
       "0 2023-05-25  2023      5   25          3   \n",
       "1 2023-02-24  2023      2   24          4   \n",
       "\n",
       "                                         clean_title  \\\n",
       "0   PayPal Is Using AI to Supercharge Profits Nasdaq   \n",
       "1  Facebook Parent Meta Wants to Show Its Still a...   \n",
       "\n",
       "                                          clean_text  \\\n",
       "0  PayPal Is Using AI to Supercharge Profits Nasd...   \n",
       "1  Facebook Parent Meta Wants to Show Its Still a...   \n",
       "\n",
       "                                  clean_title_tokens  article_length  \\\n",
       "0  [paypal, using, ai, supercharge, profits, nasdaq]            7090   \n",
       "1  [facebook, parent, meta, wants, show, still, b...            4689   \n",
       "\n",
       "   title_length                                  clean_text_tokens  \\\n",
       "0            48  [paypal, using, ai, supercharge, profits, nasd...   \n",
       "1            76  [facebook, parent, meta, wants, show, still, b...   \n",
       "\n",
       "   initial_senti                                   sentiment_scores  \\\n",
       "0              0  [0.0, 0.0, 0.0, 0.0, 0.4404, 0.0, 0.0, 0.0, 0....   \n",
       "1              0  [0.0, 0.0, 0.0, 0.0, 0.0, 0.0, 0.0, 0.128, 0.0...   \n",
       "\n",
       "   average_sentiment sentiment  \n",
       "0           0.203005  Positive  \n",
       "1           0.179145  Positive  "
      ]
     },
     "execution_count": 7,
     "metadata": {},
     "output_type": "execute_result"
    }
   ],
   "source": [
    "df_pos.head(2)"
   ]
  },
  {
   "cell_type": "code",
   "execution_count": 8,
   "id": "08ff5bc5",
   "metadata": {},
   "outputs": [
    {
     "data": {
      "text/html": [
       "<div>\n",
       "<style scoped>\n",
       "    .dataframe tbody tr th:only-of-type {\n",
       "        vertical-align: middle;\n",
       "    }\n",
       "\n",
       "    .dataframe tbody tr th {\n",
       "        vertical-align: top;\n",
       "    }\n",
       "\n",
       "    .dataframe thead th {\n",
       "        text-align: right;\n",
       "    }\n",
       "</style>\n",
       "<table border=\"1\" class=\"dataframe\">\n",
       "  <thead>\n",
       "    <tr style=\"text-align: right;\">\n",
       "      <th></th>\n",
       "      <th>date</th>\n",
       "      <th>year</th>\n",
       "      <th>month</th>\n",
       "      <th>day</th>\n",
       "      <th>dayofweek</th>\n",
       "      <th>clean_title</th>\n",
       "      <th>clean_text</th>\n",
       "      <th>clean_title_tokens</th>\n",
       "      <th>article_length</th>\n",
       "      <th>title_length</th>\n",
       "      <th>clean_text_tokens</th>\n",
       "      <th>initial_senti</th>\n",
       "      <th>sentiment_scores</th>\n",
       "      <th>average_sentiment</th>\n",
       "      <th>sentiment</th>\n",
       "    </tr>\n",
       "  </thead>\n",
       "  <tbody>\n",
       "    <tr>\n",
       "      <th>11</th>\n",
       "      <td>2020-04-25</td>\n",
       "      <td>2020</td>\n",
       "      <td>4</td>\n",
       "      <td>25</td>\n",
       "      <td>5</td>\n",
       "      <td>Study reveals Artificial Intelligence can cate...</td>\n",
       "      <td>Study reveals Artificial Intelligence can cate...</td>\n",
       "      <td>[study, reveals, artificial, intelligence, cat...</td>\n",
       "      <td>6061</td>\n",
       "      <td>101</td>\n",
       "      <td>[study, reveals, artificial, intelligence, cat...</td>\n",
       "      <td>0</td>\n",
       "      <td>[0.0, 0.0, 0.0, 0.4767, 0.0, -0.6597, -0.2732,...</td>\n",
       "      <td>-0.079006</td>\n",
       "      <td>Negative</td>\n",
       "    </tr>\n",
       "    <tr>\n",
       "      <th>22</th>\n",
       "      <td>2020-12-04</td>\n",
       "      <td>2020</td>\n",
       "      <td>12</td>\n",
       "      <td>4</td>\n",
       "      <td>4</td>\n",
       "      <td>Google AI researchers exit sparks ethics, bias...</td>\n",
       "      <td>Google AI researchers exit sparks ethics, bias...</td>\n",
       "      <td>[google, ai, researcher, exit, spark, ethic, b...</td>\n",
       "      <td>3047</td>\n",
       "      <td>55</td>\n",
       "      <td>[google, ai, researcher, exit, spark, ethic, b...</td>\n",
       "      <td>0</td>\n",
       "      <td>[0.0, 0.0, 0.0, 0.0, 0.2263, 0.0, -0.1027, 0.0...</td>\n",
       "      <td>-0.024300</td>\n",
       "      <td>Negative</td>\n",
       "    </tr>\n",
       "    <tr>\n",
       "      <th>30</th>\n",
       "      <td>2023-03-09</td>\n",
       "      <td>2023</td>\n",
       "      <td>3</td>\n",
       "      <td>9</td>\n",
       "      <td>3</td>\n",
       "      <td>The Seinfeldinspired AI show returns to Twitch</td>\n",
       "      <td>The Seinfeldinspired AI show returns to Twitch...</td>\n",
       "      <td>[seinfeldinspired, ai, show, return, twitch]</td>\n",
       "      <td>3229</td>\n",
       "      <td>46</td>\n",
       "      <td>[seinfeldinspired, ai, show, return, weather, ...</td>\n",
       "      <td>0</td>\n",
       "      <td>[0.0, 0.0, 0.0, 0.0, 0.0, 0.0, 0.0, 0.0, 0.0, ...</td>\n",
       "      <td>-0.051583</td>\n",
       "      <td>Negative</td>\n",
       "    </tr>\n",
       "    <tr>\n",
       "      <th>67</th>\n",
       "      <td>2021-08-20</td>\n",
       "      <td>2021</td>\n",
       "      <td>8</td>\n",
       "      <td>20</td>\n",
       "      <td>4</td>\n",
       "      <td>Elon Musk introduces humanoid robot prototype ...</td>\n",
       "      <td>Elon Musk introduces humanoid robot prototype ...</td>\n",
       "      <td>[elon, musk, introduces, humanoid, robot, prot...</td>\n",
       "      <td>5946</td>\n",
       "      <td>61</td>\n",
       "      <td>[elon, musk, introduces, humanoid, robot, prot...</td>\n",
       "      <td>0</td>\n",
       "      <td>[0.0, 0.0, 0.0, 0.0, 0.0, 0.0, 0.0, 0.0, 0.0, ...</td>\n",
       "      <td>-0.045208</td>\n",
       "      <td>Negative</td>\n",
       "    </tr>\n",
       "    <tr>\n",
       "      <th>72</th>\n",
       "      <td>2020-02-18</td>\n",
       "      <td>2020</td>\n",
       "      <td>2</td>\n",
       "      <td>18</td>\n",
       "      <td>1</td>\n",
       "      <td>ECE Seminar Series: Informationtheoretic Metho...</td>\n",
       "      <td>ECE Seminar Series: Informationtheoretic Metho...</td>\n",
       "      <td>[ece, seminar, series, informationtheoretic, m...</td>\n",
       "      <td>2702</td>\n",
       "      <td>147</td>\n",
       "      <td>[ece, seminar, series, informationtheoretic, m...</td>\n",
       "      <td>0</td>\n",
       "      <td>[0.0, 0.0, 0.0, 0.0, 0.0, 0.0, 0.0, 0.0, 0.0, ...</td>\n",
       "      <td>-0.000340</td>\n",
       "      <td>Negative</td>\n",
       "    </tr>\n",
       "  </tbody>\n",
       "</table>\n",
       "</div>"
      ],
      "text/plain": [
       "         date  year  month  day  dayofweek  \\\n",
       "11 2020-04-25  2020      4   25          5   \n",
       "22 2020-12-04  2020     12    4          4   \n",
       "30 2023-03-09  2023      3    9          3   \n",
       "67 2021-08-20  2021      8   20          4   \n",
       "72 2020-02-18  2020      2   18          1   \n",
       "\n",
       "                                          clean_title  \\\n",
       "11  Study reveals Artificial Intelligence can cate...   \n",
       "22  Google AI researchers exit sparks ethics, bias...   \n",
       "30     The Seinfeldinspired AI show returns to Twitch   \n",
       "67  Elon Musk introduces humanoid robot prototype ...   \n",
       "72  ECE Seminar Series: Informationtheoretic Metho...   \n",
       "\n",
       "                                           clean_text  \\\n",
       "11  Study reveals Artificial Intelligence can cate...   \n",
       "22  Google AI researchers exit sparks ethics, bias...   \n",
       "30  The Seinfeldinspired AI show returns to Twitch...   \n",
       "67  Elon Musk introduces humanoid robot prototype ...   \n",
       "72  ECE Seminar Series: Informationtheoretic Metho...   \n",
       "\n",
       "                                   clean_title_tokens  article_length  \\\n",
       "11  [study, reveals, artificial, intelligence, cat...            6061   \n",
       "22  [google, ai, researcher, exit, spark, ethic, b...            3047   \n",
       "30       [seinfeldinspired, ai, show, return, twitch]            3229   \n",
       "67  [elon, musk, introduces, humanoid, robot, prot...            5946   \n",
       "72  [ece, seminar, series, informationtheoretic, m...            2702   \n",
       "\n",
       "    title_length                                  clean_text_tokens  \\\n",
       "11           101  [study, reveals, artificial, intelligence, cat...   \n",
       "22            55  [google, ai, researcher, exit, spark, ethic, b...   \n",
       "30            46  [seinfeldinspired, ai, show, return, weather, ...   \n",
       "67            61  [elon, musk, introduces, humanoid, robot, prot...   \n",
       "72           147  [ece, seminar, series, informationtheoretic, m...   \n",
       "\n",
       "    initial_senti                                   sentiment_scores  \\\n",
       "11              0  [0.0, 0.0, 0.0, 0.4767, 0.0, -0.6597, -0.2732,...   \n",
       "22              0  [0.0, 0.0, 0.0, 0.0, 0.2263, 0.0, -0.1027, 0.0...   \n",
       "30              0  [0.0, 0.0, 0.0, 0.0, 0.0, 0.0, 0.0, 0.0, 0.0, ...   \n",
       "67              0  [0.0, 0.0, 0.0, 0.0, 0.0, 0.0, 0.0, 0.0, 0.0, ...   \n",
       "72              0  [0.0, 0.0, 0.0, 0.0, 0.0, 0.0, 0.0, 0.0, 0.0, ...   \n",
       "\n",
       "    average_sentiment sentiment  \n",
       "11          -0.079006  Negative  \n",
       "22          -0.024300  Negative  \n",
       "30          -0.051583  Negative  \n",
       "67          -0.045208  Negative  \n",
       "72          -0.000340  Negative  "
      ]
     },
     "execution_count": 8,
     "metadata": {},
     "output_type": "execute_result"
    }
   ],
   "source": [
    "df_neg.head(5)"
   ]
  },
  {
   "cell_type": "markdown",
   "id": "f1fa852e-e466-41d2-b476-8c8b8082ea14",
   "metadata": {},
   "source": [
    "**Postive sentiment topic modelling**"
   ]
  },
  {
   "cell_type": "code",
   "execution_count": 9,
   "id": "4b3f672e-52c1-46ef-bb3b-0b7845cae4cc",
   "metadata": {},
   "outputs": [],
   "source": [
    "dictionary_text_pos = corpora.Dictionary(df_pos[\"clean_text_tokens\"])\n",
    "dictionary_text_neg = corpora.Dictionary(df_neg[\"clean_text_tokens\"])"
   ]
  },
  {
   "cell_type": "code",
   "execution_count": 10,
   "id": "ea594c5d-d84e-449a-86d5-89f5c265c212",
   "metadata": {},
   "outputs": [],
   "source": [
    "doc_term_matrix_text_pos = [dictionary_text_pos.doc2bow(doc) for doc in df_pos[\"clean_text_tokens\"]]\n",
    "doc_term_matrix_text_neg = [dictionary_text_neg.doc2bow(doc) for doc in df_neg[\"clean_text_tokens\"]]"
   ]
  },
  {
   "cell_type": "code",
   "execution_count": 11,
   "id": "87ebeebc-b863-4011-97eb-4c36b2bc5b31",
   "metadata": {},
   "outputs": [],
   "source": [
    "Lda = gensim.models.ldamodel.LdaModel"
   ]
  },
  {
   "cell_type": "code",
   "execution_count": 12,
   "id": "a4a2f6eb-63d2-4aae-a02b-e0a6bb88281d",
   "metadata": {},
   "outputs": [
    {
     "name": "stdout",
     "output_type": "stream",
     "text": [
      "Using 12 workers\n"
     ]
    }
   ],
   "source": [
    "import multiprocessing\n",
    "num_processors = multiprocessing.cpu_count()\n",
    "num_processors\n",
    "\n",
    "workers = num_processors\n",
    "\n",
    "print(f'Using {workers} workers')"
   ]
  },
  {
   "cell_type": "code",
   "execution_count": null,
   "id": "6a2ce801-7999-4664-bcee-225700cb3099",
   "metadata": {},
   "outputs": [],
   "source": [
    "%%time \n",
    "lda_model_pos = LdaMulticore(corpus=doc_term_matrix_text_pos,\n",
    "                   id2word=dictionary_text_pos,\n",
    "                   num_topics=5,\n",
    "                   random_state=100,\n",
    "                   passes=10,\n",
    "                   eta='auto',\n",
    "                   workers=workers)\n",
    "\n",
    "print(*lda_model_pos.print_topics(num_topics=10, num_words=10), sep='\\n')"
   ]
  },
  {
   "cell_type": "markdown",
   "id": "b8d01907-856c-4fa8-99aa-d611c0d2418e",
   "metadata": {},
   "source": [
    "**Negative sentiment topic modelling**"
   ]
  },
  {
   "cell_type": "code",
   "execution_count": 13,
   "id": "a867995a-8f89-4c78-8164-a3eb0825f872",
   "metadata": {},
   "outputs": [
    {
     "name": "stdout",
     "output_type": "stream",
     "text": [
      "(0, '0.007*\"news\" + 0.007*\"ai\" + 0.004*\"new\" + 0.004*\"said\" + 0.004*\"technology\" + 0.004*\"data\" + 0.003*\"ha\" + 0.003*\"wa\" + 0.003*\"state\" + 0.002*\"year\"')\n",
      "(1, '0.011*\"ai\" + 0.006*\"news\" + 0.005*\"cancer\" + 0.003*\"new\" + 0.003*\"health\" + 0.003*\"technology\" + 0.003*\"us\" + 0.003*\"data\" + 0.003*\"artificial\" + 0.002*\"intelligence\"')\n",
      "(2, '0.015*\"ai\" + 0.004*\"risk\" + 0.004*\"news\" + 0.003*\"new\" + 0.003*\"data\" + 0.003*\"may\" + 0.003*\"system\" + 0.003*\"law\" + 0.003*\"lunit\" + 0.003*\"artificial\"')\n",
      "(3, '0.008*\"news\" + 0.007*\"ai\" + 0.005*\"wa\" + 0.005*\"chatgpt\" + 0.004*\"risk\" + 0.003*\"company\" + 0.003*\"data\" + 0.003*\"new\" + 0.003*\"may\" + 0.003*\"said\"')\n",
      "(4, '0.011*\"news\" + 0.007*\"ai\" + 0.004*\"cancer\" + 0.004*\"new\" + 0.003*\"one\" + 0.003*\"said\" + 0.003*\"wa\" + 0.002*\"model\" + 0.002*\"article\" + 0.002*\"technology\"')\n"
     ]
    }
   ],
   "source": [
    "lda_model_neg = LdaMulticore(corpus=doc_term_matrix_text_neg,\n",
    "                   id2word=dictionary_text_neg,\n",
    "                   num_topics=5,\n",
    "                   random_state=100,\n",
    "                   passes=10,\n",
    "                   eta='auto',\n",
    "                   workers=workers)\n",
    "\n",
    "print(*lda_model_neg.print_topics(num_topics=10, num_words=10), sep='\\n')"
   ]
  },
  {
   "cell_type": "code",
   "execution_count": 16,
   "id": "03332fb7-3b7b-4f89-8345-94b2d2ac9fa4",
   "metadata": {},
   "outputs": [
    {
     "name": "stdout",
     "output_type": "stream",
     "text": [
      "CPU times: total: 734 ms\n",
      "Wall time: 3.05 s\n"
     ]
    },
    {
     "data": {
      "text/html": [
       "\n",
       "<link rel=\"stylesheet\" type=\"text/css\" href=\"https://cdn.jsdelivr.net/gh/bmabey/pyLDAvis@3.4.0/pyLDAvis/js/ldavis.v1.0.0.css\">\n",
       "\n",
       "\n",
       "<div id=\"ldavis_el1046418850014567686139572330\" style=\"background-color:white;\"></div>\n",
       "<script type=\"text/javascript\">\n",
       "\n",
       "var ldavis_el1046418850014567686139572330_data = {\"mdsDat\": {\"x\": [-0.04342438566817447, 0.02193581329030556, -0.13722034861460897, 0.03720927092335171, 0.1214996500691262], \"y\": [0.09733356422405015, -0.12155015358885189, -0.010452905138423979, 0.02279644484804685, 0.011873049655178866], \"topics\": [1, 2, 3, 4, 5], \"cluster\": [1, 1, 1, 1, 1], \"Freq\": [24.28458973688458, 19.416062098586, 11.52434465541693, 23.310172825807943, 21.46483068330456]}, \"tinfo\": {\"Term\": [\"market\", \"report\", \"gray\", \"growth\", \"analysis\", \"forecast\", \"global\", \"nasdaq\", \"key\", \"industry\", \"stock\", \"price\", \"chatgpt\", \"new\", \"news\", \"prnewswire\", \"traded\", \"machine\", \"size\", \"share\", \"nyse\", \"dollar\", \"research\", \"intelligence\", \"open\", \"group\", \"etf\", \"customer\", \"platform\", \"artificial\", \"appmaster\", \"pedego\", \"bike\", \"iconan\", \"icona\", \"wkar\", \"morningstar\", \"cna\", \"telangana\", \"undergraduate\", \"simplycodes\", \"msu\", \"postmedia\", \"itchannelwisesubscribe\", \"hohem\", \"issueseducationuniversity\", \"homelocal\", \"salmon\", \"editionall\", \"wkms\", \"worldpolitics\", \"suburb\", \"editions\", \"iconthe\", \"edx\", \"filmora\", \"mattersthe\", \"taim\", \"suzuki\", \"vivint\", \"agroforestry\", \"replicant\", \"learner\", \"mint\", \"chatbot\", \"modi\", \"discourse\", \"hyderabad\", \"videos\", \"caribbean\", \"chatgpt\", \"icon\", \"politics\", \"openai\", \"trending\", \"gates\", \"lifestyle\", \"insider\", \"comment\", \"news\", \"subscribe\", \"programme\", \"submit\", \"advertisement\", \"article\", \"home\", \"job\", \"education\", \"app\", \"said\", \"may\", \"reserved\", \"right\", \"privacy\", \"ai\", \"new\", \"ha\", \"story\", \"would\", \"could\", \"say\", \"facebook\", \"get\", \"use\", \"artificial\", \"us\", \"email\", \"google\", \"data\", \"intelligence\", \"search\", \"technology\", \"also\", \"work\", \"like\", \"business\", \"wa\", \"world\", \"company\", \"service\", \"help\", \"system\", \"year\", \"one\", \"swot\", \"traceable\", \"catheters\", \"lig\", \"symphonyai\", \"extraitclaude\", \"nephrostomy\", \"cagr\", \"catheter\", \"qwiet\", \"toc\", \"hailo\", \"arcspan\", \"tifin\", \"cognitiveartificial\", \"tcl\", \"trustible\", \"svealand\", \"segmented\", \"weaviate\", \"octane\", \"ironclad\", \"michel\", \"segments\", \"fei\", \"overview\", \"genesys\", \"geographical\", \"kaga\", \"marketwhat\", \"players\", \"forecast\", \"factors\", \"market\", \"fatbrain\", \"segmentation\", \"projected\", \"trends\", \"manufacturers\", \"growth\", \"analysis\", \"size\", \"report\", \"segment\", \"forecasts\", \"key\", \"infotech\", \"xx\", \"competitive\", \"player\", \"global\", \"insights\", \"trend\", \"detailed\", \"region\", \"industry\", \"research\", \"ibm\", \"corporation\", \"revenue\", \"factor\", \"intelligence\", \"type\", \"ai\", \"artificial\", \"software\", \"study\", \"application\", \"data\", \"impact\", \"product\", \"business\", \"company\", \"new\", \"development\", \"technology\", \"service\", \"share\", \"solution\", \"ha\", \"help\", \"us\", \"also\", \"news\", \"renalytix\", \"ses\", \"lisk\", \"reaches\", \"purchases\", \"otcmkts\", \"rnlx\", \"coin\", \"nysearca\", \"tradescryptocurrencies\", \"learnings\", \"marketsratingsdividendsearningsinsider\", \"zacks\", \"traded\", \"girls\", \"lml\", \"deskwbfo\", \"hits\", \"wkrb\", \"lowsiposoptionssec\", \"dml\", \"updatesprivacy\", \"etf\", \"ratingsdividendsearningsguidancehighs\", \"soun\", \"tse\", \"steth\", \"nebula\", \"wvtf\", \"bhatt\", \"fleettrackr\", \"advisors\", \"tops\", \"nyse\", \"shares\", \"ratings\", \"nasdaq\", \"capitalization\", \"earnings\", \"matrix\", \"sells\", \"tab\", \"quarter\", \"dollar\", \"quote\", \"decentralized\", \"cap\", \"stock\", \"cryptocurrencies\", \"trading\", \"trade\", \"price\", \"volume\", \"ago\", \"llc\", \"insurance\", \"open\", \"machine\", \"daily\", \"new\", \"last\", \"ai\", \"news\", \"learning\", \"share\", \"day\", \"email\", \"company\", \"hour\", \"ha\", \"artificial\", \"intelligence\", \"one\", \"us\", \"wa\", \"technology\", \"data\", \"group\", \"gifting\", \"terarecon\", \"mayo\", \"standigm\", \"tosocial\", \"gadgetsmobileandroidiphonephone\", \"networklinkedinpinterestfacebookinstagramtiktoktwitterwhatsappyoutubeeditors\", \"reviewsappshow\", \"lirio\", \"lowlight\", \"impartner\", \"techsmarthow\", \"retinaai\", \"syte\", \"evart\", \"orbbec\", \"cardiology\", \"novant\", \"mubert\", \"ultrasight\", \"asterra\", \"dropdown\", \"cardiologs\", \"prostatid\", \"jina\", \"brainbox\", \"chadwick\", \"francois\", \"mrp\", \"calf\", \"prostate\", \"lunit\", \"lng\", \"roche\", \"gai\", \"cardiac\", \"fda\", \"acts\", \"holographic\", \"shield\", \"clinic\", \"cancer\", \"ultrasound\", \"imaging\", \"clearance\", \"mbzuai\", \"breast\", \"detection\", \"emotion\", \"diabetes\", \"hr\", \"ai\", \"alert\", \"technology\", \"patient\", \"gray\", \"wa\", \"drug\", \"company\", \"said\", \"image\", \"group\", \"media\", \"health\", \"system\", \"life\", \"algorithm\", \"weather\", \"human\", \"ha\", \"clinical\", \"use\", \"press\", \"prnewswire\", \"solution\", \"new\", \"people\", \"release\", \"statement\", \"content\", \"one\", \"world\", \"artificial\", \"help\", \"news\", \"intelligence\", \"also\", \"business\", \"data\", \"platform\", \"information\", \"inmind\", \"perthera\", \"drc\", \"kakaclo\", \"agot\", \"drcs\", \"mcoder\", \"sagemaker\", \"iqiyi\", \"qynapse\", \"linkedinfollow\", \"azteca\", \"illuminate\", \"stocksbest\", \"magellan\", \"brokersstock\", \"starfilled\", \"moflix\", \"vantagepoint\", \"osf\", \"renesas\", \"multifamily\", \"homepagethe\", \"ddn\", \"siia\", \"codie\", \"ikapture\", \"invaryant\", \"ang\", \"savvi\", \"venturebeat\", \"impulse\", \"nord\", \"podcastwtoc\", \"navina\", \"twitterfollow\", \"ml\", \"lidar\", \"mediatek\", \"oneplus\", \"decisioning\", \"gray\", \"aws\", \"customer\", \"automation\", \"prnewswire\", \"platform\", \"photos\", \"group\", \"media\", \"release\", \"endorsed\", \"press\", \"courtesy\", \"television\", \"dc\", \"data\", \"ai\", \"necessarily\", \"reflect\", \"provided\", \"solution\", \"serviceprivacy\", \"integration\", \"original\", \"station\", \"process\", \"content\", \"experience\", \"music\", \"technology\", \"product\", \"company\", \"business\", \"ha\", \"view\", \"service\", \"wa\", \"support\", \"weather\", \"statement\", \"new\", \"said\", \"industry\", \"learning\", \"model\", \"intelligence\", \"information\", \"news\"], \"Freq\": [3683.0, 1438.0, 2013.0, 984.0, 982.0, 568.0, 1650.0, 325.0, 691.0, 1494.0, 343.0, 450.0, 1176.0, 3058.0, 2792.0, 982.0, 192.0, 1078.0, 383.0, 936.0, 194.0, 243.0, 1395.0, 2757.0, 611.0, 2067.0, 158.0, 1139.0, 1423.0, 2448.0, 32.64627999401094, 36.281918881025376, 32.528834620425776, 25.99835166059865, 25.041112031991982, 25.95697591679994, 28.636058991065557, 26.792420614525643, 45.21429527274098, 20.202407820973725, 48.47370844356615, 20.13691169388922, 17.373834052484604, 21.01277235101315, 16.4041086789735, 15.475879938135979, 15.473816279564977, 44.644613165967904, 15.47109689043029, 15.470566933140459, 18.17908217458764, 14.530069803153317, 17.236256407384584, 14.516745162723277, 18.13192818679013, 14.497504294023116, 14.4668644591926, 14.44815354778227, 13.536658757866052, 13.515720560518735, 24.228965917422915, 22.383630212235843, 27.355840921800443, 39.754804709473326, 263.2114107501639, 46.838338397530904, 28.11647128027873, 27.45860134983835, 74.89335905418413, 31.917302983152478, 712.3901389593841, 60.67309568872749, 88.2069705113178, 284.68690175458596, 86.70707903991894, 48.23721561352886, 81.37277806482656, 62.888947247690815, 192.37213215960756, 1224.172072191296, 118.72204802296837, 47.159575549951334, 84.04303991452595, 106.14989810049785, 186.50833302818856, 238.60713005696238, 188.54104404722358, 193.6214441942975, 213.69028690393708, 626.1066056930174, 411.58130147626576, 143.75344010098095, 263.22280116859605, 233.68754386205805, 1942.0800189956244, 808.8680381097208, 742.290944685931, 201.11622229706458, 219.70194656141845, 273.8636206573563, 270.68889808052546, 170.87630251781354, 301.549800809085, 398.90855247230803, 600.3815312712092, 403.4849217193611, 281.9849108490825, 269.0447898447067, 647.0520807948204, 616.8250362912929, 289.294746068696, 577.080408227104, 378.02680900845627, 275.7364946040187, 300.5445133476666, 410.15544772467575, 402.592288036124, 317.8767640693957, 453.6143681527284, 324.3866714985001, 312.63797263204856, 288.3298818932743, 279.16882038329834, 270.9719001576943, 45.301428311661255, 35.28195601403418, 38.55855388074674, 26.920119168892466, 35.00673425857801, 21.966816835677104, 24.400976670261407, 99.31497872032344, 21.901166785575317, 21.89550426861335, 21.058629171252203, 29.967918156276696, 23.47689295390983, 20.222183644143342, 20.219082927958652, 20.216649998257065, 20.168799777336403, 18.554443527768953, 42.79842789155591, 19.3358279114949, 17.70975610959235, 19.300198964251805, 36.22191820898393, 16.88480939710039, 22.507460287061136, 105.98508004531642, 17.640927239623636, 20.02612973359161, 20.028525564044138, 15.211412621540203, 157.34189855613207, 511.4010109957368, 33.41277478562597, 3126.0095310762613, 22.408301804688904, 69.58836579549279, 42.243669152200134, 184.9583452462056, 44.27496628863735, 769.7602126990599, 763.9511107462781, 312.18713480597205, 1044.7239135891298, 176.34511803164938, 41.87842118741695, 496.5918967732395, 35.03315673427777, 32.78364962523109, 166.1437774047563, 231.22609184038646, 919.1518749576472, 130.247965500204, 202.74659946162723, 106.22841987768467, 153.59451512401762, 747.8496929975371, 671.1248844111685, 158.68192343222083, 153.00184876248957, 228.33195989520559, 132.92201688958593, 1027.123155073279, 193.34051052724075, 2411.920435897627, 838.2544552516094, 438.2397297735038, 244.2458975651121, 339.1361855313561, 778.6110469357084, 238.06688095253364, 416.16747296681086, 527.4099852261857, 592.4697276976502, 573.7259061715685, 311.46264504956946, 524.4260496671722, 366.6362108726916, 312.6961521238275, 323.5739956047586, 397.91792278337874, 318.9314502498238, 317.6362412666009, 318.67886294147905, 365.7818190719974, 115.78770673869774, 71.23797872773703, 58.371449486606934, 73.10740572420515, 29.30601732698547, 34.853439267173975, 27.65229736811164, 63.185781344010806, 24.438804667143664, 23.6313606621795, 23.628113270042412, 23.623667518351525, 20.378180703416216, 184.6575554627726, 18.737138554173942, 17.95944956196053, 17.947365137330472, 66.40048167617323, 16.34804189414058, 16.33779557226906, 16.337823387191005, 15.534566686934655, 149.95689197229217, 14.72351717271336, 21.658188642676546, 14.71543346102307, 13.917128975828026, 13.90777389041383, 14.67273176106196, 13.893861793620964, 17.721924036010485, 49.40956971648706, 56.82971008557385, 176.13843825599488, 136.96687838518687, 53.71329378010438, 279.28710936433106, 50.3284727495055, 104.54914315663048, 43.02189143507984, 30.130681086543802, 100.27541748633094, 99.38184457556382, 180.9760280239652, 109.02194949493165, 73.89623691056772, 57.43109651294851, 223.92653246187297, 40.52409290113001, 131.231218960735, 150.25892493805318, 240.94861567741893, 102.30001929651034, 146.09739539123944, 98.7043750650287, 148.53489117441234, 221.26356892141322, 307.20422333264116, 171.05565067943806, 557.0857866255368, 173.04760704289458, 814.4954585428693, 394.7004921551325, 266.1706676853447, 224.95023284913984, 180.4916589732135, 195.92094849849616, 349.53484442008084, 170.80147792270387, 290.4821147786323, 254.33625284536984, 259.5464513077165, 184.42133260233365, 192.34917874168406, 189.78325219225007, 203.39059015700457, 180.70297820687094, 158.2056574094043, 34.190776382116326, 26.918654103585876, 23.351793939142844, 40.638047420513445, 18.963446470842555, 18.953664097267588, 18.95142655219754, 18.948681486428, 18.932593197464428, 17.19371710330086, 18.054322180425665, 17.167418623082607, 16.288102089960827, 16.256479916862453, 16.249146066939307, 15.377960413938489, 15.372173740281692, 14.514679425134837, 14.50784489118856, 14.499893342862107, 14.489963284279899, 16.201507103174517, 14.486007435871617, 16.175596589126084, 14.463804284346264, 14.4492690321652, 13.598561194732106, 13.5968475798068, 13.590941351620334, 16.13365521917245, 39.86950870806231, 27.94326220915023, 27.000291093700472, 41.225730604254125, 24.032603068879006, 42.294862223192396, 52.206504719419186, 27.103996443468734, 21.402951960396813, 40.68367505513198, 42.79695842892637, 134.95102455483874, 43.938000925359404, 144.36418561169933, 26.65735478585109, 34.202023884731396, 40.59113516075254, 122.47680807389543, 33.46012707874552, 31.21873282168444, 56.25183617685031, 2550.336101754482, 314.7468500447446, 930.6627937718711, 243.3877799979862, 682.8152078599375, 620.6885980589558, 109.39938038559278, 820.7162849743677, 567.1473725050341, 270.26108777172925, 618.4324212359317, 583.146937942353, 354.828504749401, 377.6945697323427, 206.4924082267283, 155.36549028707753, 277.6156511031915, 239.1003951578911, 684.9820047788958, 143.38998028932102, 388.7780154022253, 412.48068078809877, 324.31571329495506, 393.92473007112875, 670.6243590563826, 267.60125734922735, 386.8923732297532, 256.67434841019593, 351.2543962985708, 305.3437315683765, 322.0539478837204, 488.2323061537606, 349.42985352338076, 508.7365737472287, 504.8510796633503, 333.40538323658654, 349.4345794436125, 385.64368008407274, 313.8713545681594, 294.17088724077644, 55.727674896474205, 46.559450194348635, 35.09276790496413, 26.491586751134854, 21.608048933156205, 23.46477349385059, 20.522153209626282, 17.698962264786164, 16.756187903710956, 26.06782646240322, 26.978048711237218, 16.71500883413738, 17.618833988500096, 15.75588502358505, 40.7413170572896, 15.751163024544754, 15.744429184084776, 15.729479604951717, 16.655134965620494, 14.778811140795199, 15.689538508612246, 14.754391660043956, 15.662504929192295, 27.60633038103027, 19.333226165322273, 19.320386645188936, 13.775672902616982, 12.850970576268793, 12.850863724176225, 12.84213423200756, 94.05740282469786, 27.39977557226784, 42.80318252531949, 33.42256608396065, 24.459329026573165, 34.40862957360916, 124.9204576281707, 22.978833921756344, 21.300511341717627, 35.89276196682959, 20.3817927325533, 1014.5122570377482, 79.70002173356502, 586.6028087306527, 201.2235498834457, 495.1763764121477, 660.6264846574273, 289.468682405093, 840.8729008038318, 760.9698126045668, 588.511795837068, 248.2524067170202, 577.0638137431971, 246.4733690241938, 270.71740511532334, 250.76169967262874, 984.008596549346, 2436.7989699217073, 246.34428306185794, 250.78960641712837, 272.48223040052403, 499.86287897142915, 212.52771553660315, 124.73594672989947, 258.64554495305015, 253.41087173123663, 247.02834368260014, 434.2729458901141, 305.5232114722098, 315.15573549939927, 713.8093485309975, 395.3384437524626, 641.3260696397222, 497.16424842504466, 617.3033361047577, 316.1957798027624, 388.8799665316049, 443.3623936171647, 298.22304196984726, 288.2566040740657, 284.97548931235167, 448.5529099418955, 355.7918237524757, 336.5690848094979, 320.52764566337777, 302.69799897212346, 348.93139270428304, 304.0267122984171, 299.4888960449165], \"Total\": [3683.0, 1438.0, 2013.0, 984.0, 982.0, 568.0, 1650.0, 325.0, 691.0, 1494.0, 343.0, 450.0, 1176.0, 3058.0, 2792.0, 982.0, 192.0, 1078.0, 383.0, 936.0, 194.0, 243.0, 1395.0, 2757.0, 611.0, 2067.0, 158.0, 1139.0, 1423.0, 2448.0, 33.52661496714, 37.36322849263593, 33.52578615935263, 26.812073309143237, 25.8498884291936, 26.810105052928517, 29.651717592289724, 27.760733744341476, 46.859483909741066, 21.04331004869959, 50.635223205413645, 21.039201995186218, 18.163920114804426, 22.003387242425422, 17.194988361953133, 16.24376588590764, 16.243743212421457, 46.87371309393291, 16.24451307905275, 16.2445826619984, 19.11687794328627, 15.285983301151044, 18.146381606210074, 15.285188832793919, 19.103043969633077, 15.27425878945567, 15.273841159324238, 15.273359784909697, 14.318256773861185, 14.302221930873555, 25.733194058799945, 23.882587378017213, 29.512424152807327, 43.84384759987145, 340.12200581635847, 53.73034921400068, 31.29339238913117, 30.5014178970235, 92.97322906848143, 36.06724908974949, 1176.7919954192607, 74.62915742112453, 116.45360432412629, 456.7968252977222, 115.8461927933254, 58.85791815221586, 109.03382884552809, 80.56304911588619, 306.36613450254765, 2792.879853210571, 180.34852342426555, 58.63647448760906, 119.24300293051624, 162.9979211833328, 334.6409272652129, 468.63292985864786, 346.73414103855475, 365.40425454830137, 426.56029997125177, 1764.0174790150702, 1017.9938488636103, 257.82382986104784, 592.1188384758342, 513.5115894575259, 10155.630985112311, 3058.856999905104, 2732.9763231315956, 425.49020493040473, 487.87153438974843, 675.0506737560803, 677.3735447421247, 342.3739364414353, 809.8874704473917, 1277.8772098277886, 2448.646344694553, 1318.8908187709344, 754.0642890431099, 703.4086087362879, 2976.018382570818, 2757.2771150399217, 807.6161000933944, 2949.3691903541494, 1416.681041584909, 770.8778525537109, 926.9954311207312, 1858.374769261503, 1832.96400368475, 1123.920672472382, 2857.6612948845495, 1343.4349351450276, 1329.1195436480798, 1086.1259185131473, 1086.3815408901037, 1026.3485123865396, 46.27151560379807, 36.179092715633686, 39.557518725593425, 27.779241801745655, 36.203694251968145, 22.72850007891831, 25.257828768055433, 102.86022515969907, 22.73197257696474, 22.72790757384723, 21.895741247457558, 31.173485944748382, 24.4250317298817, 21.048201233934726, 21.05102719984045, 21.049593347126287, 21.05113997047406, 19.37356738688481, 44.71267761501008, 20.217635653292806, 18.517672388323994, 20.21926606368842, 37.95336022699985, 17.69225503015848, 23.600066671099416, 111.13696196112006, 18.537847016946383, 21.05598554958523, 21.07469395900424, 16.01091407458142, 167.1688253795152, 568.1592102692392, 35.40070234439895, 3683.2017563107174, 23.618955399314626, 76.22056448708477, 45.71805492795029, 216.34219462233, 48.17399792895022, 984.2103778296242, 982.4035853385781, 383.7525428091946, 1438.3981271306538, 216.98808821102665, 46.232952604921174, 691.3686636183945, 38.121515372410215, 35.55750199185165, 217.27236283990754, 334.5285620789558, 1650.9810215007328, 174.46919498143825, 294.0340362095219, 138.5994260937105, 220.7513955541193, 1494.0899876762373, 1395.6675200532816, 236.14503589495018, 226.44555600797605, 378.7894960773163, 193.74465480697756, 2757.2771150399217, 338.01590623134985, 10155.630985112311, 2448.646344694553, 1089.081715870069, 480.02767314303446, 786.1266642251717, 2976.018382570818, 472.66687098228454, 1226.753257181906, 1858.374769261503, 2857.6612948845495, 3058.856999905104, 908.0157047835951, 2949.3691903541494, 1343.4349351450276, 936.7978454643567, 1347.5521616850388, 2732.9763231315956, 1329.1195436480798, 1318.8908187709344, 1416.681041584909, 2792.879853210571, 117.26300428873427, 72.5339136358529, 59.49250747406341, 75.00854152181422, 30.182851582233777, 35.898145071759274, 28.556642138018415, 65.32070365693536, 25.30024078651935, 24.488651893719013, 24.489443769307286, 24.489422166846712, 21.23254640444576, 192.87929577472195, 19.606132520615507, 18.793368449197285, 18.79309505310203, 69.54036771186202, 17.16383436764132, 17.16531731536444, 17.16690349388578, 16.350266989959568, 158.04703532029473, 15.537062241980715, 22.865461818208164, 15.538019609191384, 14.72321641291916, 14.723493224754291, 15.541415287667071, 14.725679809431915, 18.815372946157495, 53.23644417036432, 61.462037279321684, 194.99425470551174, 152.41204921050175, 58.46921548040332, 325.8292304196603, 55.79236167281307, 120.81167433781098, 47.85561921421254, 32.904246536188595, 121.55823469487981, 125.30400226204641, 243.90643818902117, 139.41133794477548, 90.6107042581136, 69.21589735346134, 343.7359406818507, 46.27639356950293, 189.4863269749491, 232.69417840090833, 450.9015630968933, 165.40511617302596, 295.37749327486944, 173.3340359259514, 323.14031611147146, 611.589157415151, 1078.5965502618142, 422.38872427624403, 3058.856999905104, 441.8396047241506, 10155.630985112311, 2792.879853210571, 1310.7646711932505, 936.7978454643567, 627.8671744902224, 754.0642890431099, 2857.6612948845495, 615.86860516176, 2732.9763231315956, 2448.646344694553, 2757.2771150399217, 1026.3485123865396, 1318.8908187709344, 1832.96400368475, 2949.3691903541494, 2976.018382570818, 2067.5893218389883, 35.08074339208881, 27.879046346484042, 24.281393080721063, 42.34261204165595, 19.781684937506668, 19.781373555256966, 19.782338996707313, 19.780654553728954, 19.776976007817556, 17.979591034069532, 18.87984171268115, 17.981381004787703, 17.081691351359055, 17.074465804058843, 17.076341024867812, 16.17928303372743, 16.18065775383677, 15.280858079886698, 15.28104499769069, 15.281277061424875, 15.280124722777078, 17.08765842628069, 15.280596714295271, 17.074870210775487, 15.269570286420246, 15.276176893800672, 14.379976196633747, 14.379824146638313, 14.380352635560161, 17.081428885763536, 42.301166772929164, 29.61197449479052, 28.826257919689226, 45.63497752778374, 26.003225189866733, 47.46109643893397, 59.54420011921675, 29.775470120630537, 23.278256012458396, 47.91509213508312, 51.226286782348744, 194.65818062465684, 54.64047591387762, 218.23796226525855, 30.786984281329087, 41.78420121045682, 51.783728679890736, 203.7503328611462, 41.24112466361345, 37.827228387266736, 79.54332822258607, 10155.630985112311, 727.7493270831283, 2949.3691903541494, 526.9459802319395, 2013.7801748414831, 1832.96400368475, 195.8372271061945, 2857.6612948845495, 1764.0174790150702, 672.8681455063663, 2067.5893218389883, 1913.8021686277016, 995.8191698898056, 1086.1259185131473, 486.49322543840333, 328.306690522622, 744.7446952141161, 603.9920137484655, 2732.9763231315956, 295.99136350209415, 1277.8772098277886, 1395.5216395759696, 982.1640160026823, 1347.5521616850388, 3058.856999905104, 779.3982293325553, 1391.5876973075046, 751.2763550188616, 1279.4025061484895, 1026.3485123865396, 1123.920672472382, 2448.646344694553, 1329.1195436480798, 2792.879853210571, 2757.2771150399217, 1416.681041584909, 1858.374769261503, 2976.018382570818, 1423.460156457823, 1201.9002176571496, 56.66231492468419, 47.79072280302508, 36.102927158768516, 27.30696114270555, 22.408496740220013, 24.361644525616125, 21.413839281990423, 18.492175682275185, 17.51905509852689, 27.255941236581315, 28.21190419325833, 17.509573518577078, 18.479589822397948, 16.536093194123584, 42.76636502752973, 16.53543923717928, 16.531752612256664, 16.527015207676516, 17.510927149790003, 15.559766098391355, 16.52633694323379, 15.553736677300511, 16.51991725578619, 29.19006015264469, 20.442925303794414, 20.441238528001428, 14.579138172953812, 13.603631147847233, 13.604678700048044, 13.60123843244511, 100.63591869051028, 29.101227498341917, 45.83145917989288, 35.948345379521456, 26.2315712609512, 37.7982549637127, 160.71886512695494, 25.198142017908186, 23.25814969091259, 42.470640656419356, 22.219290381489685, 2013.7801748414831, 107.54193152512818, 1139.6326620695118, 326.67070404527686, 982.1640160026823, 1423.460156457823, 530.7969370936628, 2067.5893218389883, 1913.8021686277016, 1391.5876973075046, 485.84359251396097, 1395.5216395759696, 487.44550978833627, 558.4902459281614, 507.7887258043876, 2976.018382570818, 10155.630985112311, 505.2846067998156, 524.0334770934439, 598.5372347142991, 1347.5521616850388, 433.0034736962149, 211.77161999360294, 579.5848922958097, 565.6546236202219, 554.6810526746561, 1279.4025061484895, 768.9086348047555, 810.2499597712294, 2949.3691903541494, 1226.753257181906, 2857.6612948845495, 1858.374769261503, 2732.9763231315956, 857.6651938244743, 1343.4349351450276, 1832.96400368475, 810.1308361001758, 744.7446952141161, 751.2763550188616, 3058.856999905104, 1764.0174790150702, 1494.0899876762373, 1310.7646711932505, 1013.6795770406957, 2757.2771150399217, 1201.9002176571496, 2792.879853210571], \"Category\": [\"Default\", \"Default\", \"Default\", \"Default\", \"Default\", \"Default\", \"Default\", \"Default\", \"Default\", \"Default\", \"Default\", \"Default\", \"Default\", \"Default\", \"Default\", \"Default\", \"Default\", \"Default\", \"Default\", \"Default\", \"Default\", \"Default\", \"Default\", \"Default\", \"Default\", \"Default\", \"Default\", \"Default\", \"Default\", \"Default\", \"Topic1\", \"Topic1\", \"Topic1\", \"Topic1\", \"Topic1\", \"Topic1\", \"Topic1\", \"Topic1\", \"Topic1\", \"Topic1\", \"Topic1\", \"Topic1\", \"Topic1\", \"Topic1\", \"Topic1\", \"Topic1\", \"Topic1\", \"Topic1\", \"Topic1\", \"Topic1\", \"Topic1\", \"Topic1\", \"Topic1\", \"Topic1\", \"Topic1\", \"Topic1\", \"Topic1\", \"Topic1\", \"Topic1\", \"Topic1\", \"Topic1\", \"Topic1\", \"Topic1\", \"Topic1\", \"Topic1\", \"Topic1\", \"Topic1\", \"Topic1\", \"Topic1\", \"Topic1\", \"Topic1\", \"Topic1\", \"Topic1\", \"Topic1\", \"Topic1\", \"Topic1\", \"Topic1\", \"Topic1\", \"Topic1\", \"Topic1\", \"Topic1\", \"Topic1\", \"Topic1\", \"Topic1\", \"Topic1\", \"Topic1\", \"Topic1\", \"Topic1\", \"Topic1\", \"Topic1\", \"Topic1\", \"Topic1\", \"Topic1\", \"Topic1\", \"Topic1\", \"Topic1\", \"Topic1\", \"Topic1\", \"Topic1\", \"Topic1\", \"Topic1\", \"Topic1\", \"Topic1\", \"Topic1\", \"Topic1\", \"Topic1\", \"Topic1\", \"Topic1\", \"Topic1\", \"Topic1\", \"Topic1\", \"Topic1\", \"Topic1\", \"Topic1\", \"Topic1\", \"Topic1\", \"Topic1\", \"Topic1\", \"Topic1\", \"Topic1\", \"Topic1\", \"Topic1\", \"Topic1\", \"Topic1\", \"Topic2\", \"Topic2\", \"Topic2\", \"Topic2\", \"Topic2\", \"Topic2\", \"Topic2\", \"Topic2\", \"Topic2\", \"Topic2\", \"Topic2\", \"Topic2\", \"Topic2\", \"Topic2\", \"Topic2\", \"Topic2\", \"Topic2\", \"Topic2\", \"Topic2\", \"Topic2\", \"Topic2\", \"Topic2\", \"Topic2\", \"Topic2\", \"Topic2\", \"Topic2\", \"Topic2\", \"Topic2\", \"Topic2\", \"Topic2\", \"Topic2\", \"Topic2\", \"Topic2\", \"Topic2\", \"Topic2\", \"Topic2\", \"Topic2\", \"Topic2\", \"Topic2\", \"Topic2\", \"Topic2\", \"Topic2\", \"Topic2\", \"Topic2\", \"Topic2\", \"Topic2\", \"Topic2\", \"Topic2\", \"Topic2\", \"Topic2\", \"Topic2\", \"Topic2\", \"Topic2\", \"Topic2\", \"Topic2\", \"Topic2\", \"Topic2\", \"Topic2\", \"Topic2\", \"Topic2\", \"Topic2\", \"Topic2\", \"Topic2\", \"Topic2\", \"Topic2\", \"Topic2\", \"Topic2\", \"Topic2\", \"Topic2\", \"Topic2\", \"Topic2\", \"Topic2\", \"Topic2\", \"Topic2\", \"Topic2\", \"Topic2\", \"Topic2\", \"Topic2\", \"Topic2\", \"Topic2\", \"Topic2\", \"Topic2\", \"Topic2\", \"Topic2\", \"Topic3\", \"Topic3\", \"Topic3\", \"Topic3\", \"Topic3\", \"Topic3\", \"Topic3\", \"Topic3\", \"Topic3\", \"Topic3\", \"Topic3\", \"Topic3\", \"Topic3\", \"Topic3\", \"Topic3\", \"Topic3\", \"Topic3\", \"Topic3\", \"Topic3\", \"Topic3\", \"Topic3\", \"Topic3\", \"Topic3\", \"Topic3\", \"Topic3\", \"Topic3\", \"Topic3\", \"Topic3\", \"Topic3\", \"Topic3\", \"Topic3\", \"Topic3\", \"Topic3\", \"Topic3\", \"Topic3\", \"Topic3\", \"Topic3\", \"Topic3\", \"Topic3\", \"Topic3\", \"Topic3\", \"Topic3\", \"Topic3\", \"Topic3\", \"Topic3\", \"Topic3\", \"Topic3\", \"Topic3\", \"Topic3\", \"Topic3\", \"Topic3\", \"Topic3\", \"Topic3\", \"Topic3\", \"Topic3\", \"Topic3\", \"Topic3\", \"Topic3\", \"Topic3\", \"Topic3\", \"Topic3\", \"Topic3\", \"Topic3\", \"Topic3\", \"Topic3\", \"Topic3\", \"Topic3\", \"Topic3\", \"Topic3\", \"Topic3\", \"Topic3\", \"Topic3\", \"Topic3\", \"Topic3\", \"Topic3\", \"Topic3\", \"Topic3\", \"Topic3\", \"Topic4\", \"Topic4\", \"Topic4\", \"Topic4\", \"Topic4\", \"Topic4\", \"Topic4\", \"Topic4\", \"Topic4\", \"Topic4\", \"Topic4\", \"Topic4\", \"Topic4\", \"Topic4\", \"Topic4\", \"Topic4\", \"Topic4\", \"Topic4\", \"Topic4\", \"Topic4\", \"Topic4\", \"Topic4\", \"Topic4\", \"Topic4\", \"Topic4\", \"Topic4\", \"Topic4\", \"Topic4\", \"Topic4\", \"Topic4\", \"Topic4\", \"Topic4\", \"Topic4\", \"Topic4\", \"Topic4\", \"Topic4\", \"Topic4\", \"Topic4\", \"Topic4\", \"Topic4\", \"Topic4\", \"Topic4\", \"Topic4\", \"Topic4\", \"Topic4\", \"Topic4\", \"Topic4\", \"Topic4\", \"Topic4\", \"Topic4\", \"Topic4\", \"Topic4\", \"Topic4\", \"Topic4\", \"Topic4\", \"Topic4\", \"Topic4\", \"Topic4\", \"Topic4\", \"Topic4\", \"Topic4\", \"Topic4\", \"Topic4\", \"Topic4\", \"Topic4\", \"Topic4\", \"Topic4\", \"Topic4\", \"Topic4\", \"Topic4\", \"Topic4\", \"Topic4\", \"Topic4\", \"Topic4\", \"Topic4\", \"Topic4\", \"Topic4\", \"Topic4\", \"Topic4\", \"Topic4\", \"Topic4\", \"Topic4\", \"Topic4\", \"Topic4\", \"Topic4\", \"Topic4\", \"Topic4\", \"Topic4\", \"Topic4\", \"Topic4\", \"Topic4\", \"Topic5\", \"Topic5\", \"Topic5\", \"Topic5\", \"Topic5\", \"Topic5\", \"Topic5\", \"Topic5\", \"Topic5\", \"Topic5\", \"Topic5\", \"Topic5\", \"Topic5\", \"Topic5\", \"Topic5\", \"Topic5\", \"Topic5\", \"Topic5\", \"Topic5\", \"Topic5\", \"Topic5\", \"Topic5\", \"Topic5\", \"Topic5\", \"Topic5\", \"Topic5\", \"Topic5\", \"Topic5\", \"Topic5\", \"Topic5\", \"Topic5\", \"Topic5\", \"Topic5\", \"Topic5\", \"Topic5\", \"Topic5\", \"Topic5\", \"Topic5\", \"Topic5\", \"Topic5\", \"Topic5\", \"Topic5\", \"Topic5\", \"Topic5\", \"Topic5\", \"Topic5\", \"Topic5\", \"Topic5\", \"Topic5\", \"Topic5\", \"Topic5\", \"Topic5\", \"Topic5\", \"Topic5\", \"Topic5\", \"Topic5\", \"Topic5\", \"Topic5\", \"Topic5\", \"Topic5\", \"Topic5\", \"Topic5\", \"Topic5\", \"Topic5\", \"Topic5\", \"Topic5\", \"Topic5\", \"Topic5\", \"Topic5\", \"Topic5\", \"Topic5\", \"Topic5\", \"Topic5\", \"Topic5\", \"Topic5\", \"Topic5\", \"Topic5\", \"Topic5\", \"Topic5\", \"Topic5\", \"Topic5\", \"Topic5\", \"Topic5\", \"Topic5\", \"Topic5\", \"Topic5\", \"Topic5\", \"Topic5\", \"Topic5\"], \"logprob\": [30.0, 29.0, 28.0, 27.0, 26.0, 25.0, 24.0, 23.0, 22.0, 21.0, 20.0, 19.0, 18.0, 17.0, 16.0, 15.0, 14.0, 13.0, 12.0, 11.0, 10.0, 9.0, 8.0, 7.0, 6.0, 5.0, 4.0, 3.0, 2.0, 1.0, -8.545, -8.4394, -8.5486, -8.7727, -8.8102, -8.7742, -8.676, -8.7426, -8.2193, -9.0249, -8.1497, -9.0281, -9.1757, -8.9856, -9.2332, -9.2914, -9.2915, -8.232, -9.2917, -9.2917, -9.1304, -9.3545, -9.1837, -9.3554, -9.133, -9.3567, -9.3588, -9.3601, -9.4253, -9.4268, -8.8431, -8.9224, -8.7218, -8.348, -6.4577, -8.184, -8.6943, -8.718, -7.7146, -8.5675, -5.4621, -7.9252, -7.551, -6.3793, -7.5682, -8.1546, -7.6316, -7.8893, -6.7713, -4.9207, -7.2539, -8.1771, -7.5994, -7.3658, -6.8022, -6.5559, -6.7914, -6.7648, -6.6662, -5.5912, -6.0107, -7.0626, -6.4577, -6.5767, -4.4592, -5.3351, -5.4209, -6.7268, -6.6384, -6.4181, -6.4297, -6.8897, -6.3218, -6.042, -5.6331, -6.0305, -6.3888, -6.4358, -5.5583, -5.6061, -6.3632, -5.6727, -6.0957, -6.4112, -6.3251, -6.0142, -6.0328, -6.269, -5.9134, -6.2488, -6.2856, -6.3666, -6.3989, -6.4287, -7.9936, -8.2436, -8.1548, -8.5141, -8.2514, -8.7174, -8.6123, -7.2086, -8.7204, -8.7207, -8.7596, -8.4068, -8.6509, -8.8002, -8.8003, -8.8004, -8.8028, -8.8862, -8.0504, -8.845, -8.9328, -8.8468, -8.2173, -8.9805, -8.6931, -7.1436, -8.9367, -8.8099, -8.8098, -9.0849, -6.7485, -5.5698, -8.298, -3.7594, -8.6975, -7.5643, -8.0635, -6.5868, -8.0165, -5.1609, -5.1684, -6.0633, -4.8554, -6.6345, -8.0722, -5.5992, -8.2507, -8.317, -6.6941, -6.3635, -4.9835, -6.9375, -6.495, -7.1414, -6.7726, -5.1897, -5.298, -6.74, -6.7765, -6.3761, -6.9172, -4.8724, -6.5425, -4.0188, -5.0756, -5.7242, -6.3088, -5.9805, -5.1494, -6.3344, -5.7759, -5.539, -5.4226, -5.4548, -6.0657, -5.5446, -5.9026, -6.0617, -6.0275, -5.8207, -6.042, -6.046, -6.0428, -5.9049, -6.5335, -7.0193, -7.2185, -6.9934, -7.9075, -7.7342, -7.9656, -7.1392, -8.0891, -8.1227, -8.1229, -8.1231, -8.2708, -6.0668, -8.3548, -8.3972, -8.3979, -7.0896, -8.4912, -8.4918, -8.4918, -8.5422, -6.275, -8.5959, -8.2099, -8.5964, -8.6522, -8.6529, -8.5993, -8.6539, -8.4105, -7.3852, -7.2452, -6.114, -6.3656, -7.3016, -5.6531, -7.3667, -6.6356, -7.5236, -7.8798, -6.6774, -6.6863, -6.0869, -6.5938, -6.9826, -7.2347, -5.874, -7.5834, -6.4083, -6.2729, -5.8007, -6.6574, -6.301, -6.6932, -6.2845, -5.886, -5.5578, -6.1433, -4.9626, -6.1317, -4.5827, -5.3072, -5.7012, -5.8694, -6.0896, -6.0076, -5.4287, -6.1448, -5.6138, -5.7466, -5.7264, -6.0681, -6.026, -6.0394, -5.9702, -6.0885, -6.2214, -8.4578, -8.6969, -8.8391, -8.285, -9.0472, -9.0477, -9.0479, -9.048, -9.0488, -9.1452, -9.0963, -9.1467, -9.1993, -9.2012, -9.2017, -9.2568, -9.2572, -9.3146, -9.315, -9.3156, -9.3163, -9.2046, -9.3166, -9.2062, -9.3181, -9.3191, -9.3798, -9.3799, -9.3803, -9.2088, -8.3041, -8.6596, -8.6939, -8.2707, -8.8103, -8.2451, -8.0345, -8.6901, -8.9262, -8.2839, -8.2333, -7.0848, -8.207, -7.0174, -8.7067, -8.4575, -8.2862, -7.1818, -8.4794, -8.5487, -7.9599, -4.1458, -6.238, -5.1538, -6.4951, -5.4635, -5.5589, -7.2947, -5.2796, -5.6491, -6.3903, -5.5625, -5.6213, -6.1181, -6.0556, -6.6595, -6.944, -6.3635, -6.5129, -5.4603, -7.0242, -6.0267, -5.9675, -6.208, -6.0136, -5.4815, -6.4002, -6.0316, -6.4419, -6.1282, -6.2683, -6.215, -5.7989, -6.1334, -5.7578, -5.7655, -6.1804, -6.1334, -6.0348, -6.2408, -6.3056, -7.8868, -8.0665, -8.3493, -8.6304, -8.8342, -8.7518, -8.8858, -9.0338, -9.0885, -8.6466, -8.6122, -9.091, -9.0383, -9.15, -8.2, -9.1503, -9.1508, -9.1517, -9.0945, -9.2141, -9.1543, -9.2157, -9.156, -8.5892, -8.9454, -8.9461, -9.2844, -9.3538, -9.3538, -9.3545, -7.3634, -8.5967, -8.1506, -8.398, -8.7102, -8.369, -7.0796, -8.7727, -8.8485, -8.3267, -8.8926, -4.9851, -7.529, -5.5329, -6.6028, -5.7023, -5.4141, -6.2392, -5.1728, -5.2727, -5.5297, -6.3928, -5.5493, -6.4, -6.3062, -6.3828, -5.0156, -4.1088, -6.4005, -6.3826, -6.2997, -5.6929, -6.5482, -7.0811, -6.3518, -6.3722, -6.3978, -5.8336, -6.1852, -6.1542, -5.3366, -5.9275, -5.4437, -5.6983, -5.4819, -6.1509, -5.944, -5.8129, -6.2094, -6.2434, -6.2549, -5.8012, -6.0329, -6.0885, -6.1373, -6.1945, -6.0524, -6.1901, -6.2052], \"loglift\": [30.0, 29.0, 28.0, 27.0, 26.0, 25.0, 24.0, 23.0, 22.0, 21.0, 20.0, 19.0, 18.0, 17.0, 16.0, 15.0, 14.0, 13.0, 12.0, 11.0, 10.0, 9.0, 8.0, 7.0, 6.0, 5.0, 4.0, 3.0, 2.0, 1.0, 1.3887, 1.386, 1.3851, 1.3845, 1.3835, 1.383, 1.3805, 1.3798, 1.3796, 1.3745, 1.3717, 1.3715, 1.3709, 1.3693, 1.3682, 1.3669, 1.3668, 1.3666, 1.3665, 1.3665, 1.365, 1.3646, 1.3639, 1.3637, 1.3632, 1.3631, 1.361, 1.3598, 1.3592, 1.3588, 1.3551, 1.3505, 1.3394, 1.3174, 1.159, 1.2781, 1.3083, 1.3102, 1.1991, 1.2931, 0.9134, 1.2083, 1.1375, 0.9425, 1.1256, 1.2163, 1.1227, 1.1677, 0.95, 0.5905, 0.9972, 1.1975, 1.0655, 0.9864, 0.8307, 0.7403, 0.8061, 0.7802, 0.7241, 0.3795, 0.5097, 0.8312, 0.6046, 0.628, -0.2389, 0.0852, 0.1119, 0.666, 0.6175, 0.5132, 0.4981, 0.7204, 0.4274, 0.2511, 0.0096, 0.2309, 0.4317, 0.4543, -0.1106, -0.0821, 0.3887, -0.216, 0.0942, 0.3872, 0.289, -0.0956, -0.1004, 0.1524, -0.4252, -0.0057, -0.0319, 0.0891, 0.0565, 0.0836, 1.6179, 1.614, 1.6135, 1.6077, 1.6054, 1.605, 1.6046, 1.604, 1.6018, 1.6018, 1.6001, 1.5996, 1.5995, 1.599, 1.5987, 1.5987, 1.5963, 1.5959, 1.5953, 1.5945, 1.5945, 1.5925, 1.5924, 1.5924, 1.5917, 1.5916, 1.5895, 1.5889, 1.5882, 1.5878, 1.5785, 1.5338, 1.5813, 1.475, 1.5865, 1.548, 1.56, 1.4823, 1.5547, 1.3933, 1.3876, 1.4327, 1.3193, 1.4317, 1.5401, 1.3082, 1.5546, 1.5578, 1.3708, 1.2697, 1.0534, 1.3468, 1.2673, 1.3731, 1.2763, 0.947, 0.9069, 1.2415, 1.247, 1.1329, 1.2623, 0.6516, 1.0804, 0.2015, 0.5671, 0.7287, 0.9634, 0.7984, 0.2982, 0.9532, 0.558, 0.3796, 0.0656, -0.0346, 0.5691, -0.088, 0.3405, 0.5418, 0.2125, -0.2878, 0.2118, 0.2154, 0.1472, -0.3937, 2.148, 2.1427, 2.1417, 2.135, 2.1312, 2.1312, 2.1285, 2.1275, 2.1261, 2.1251, 2.1249, 2.1247, 2.1196, 2.1171, 2.1154, 2.1153, 2.1147, 2.1145, 2.112, 2.1113, 2.1112, 2.1095, 2.1082, 2.1069, 2.1065, 2.1063, 2.1044, 2.1037, 2.1032, 2.1026, 2.1008, 2.0861, 2.0823, 2.059, 2.0539, 2.0759, 2.0066, 2.0576, 2.0161, 2.0542, 2.0727, 1.9682, 1.9289, 1.8623, 1.9148, 1.9568, 1.9741, 1.7322, 2.028, 1.7934, 1.7233, 1.534, 1.6802, 1.4567, 1.5976, 1.3834, 1.144, 0.9048, 1.2568, 0.4576, 1.2233, -0.3625, 0.204, 0.5665, 0.7341, 0.9141, 0.8129, 0.0596, 0.8782, -0.0809, -0.1039, -0.2024, 0.4442, 0.2355, -0.1071, -0.5135, -0.6408, -0.4095, 1.4306, 1.4212, 1.4172, 1.4152, 1.414, 1.4135, 1.4134, 1.4133, 1.4126, 1.4116, 1.4116, 1.41, 1.4087, 1.4072, 1.4066, 1.4055, 1.405, 1.4048, 1.4044, 1.4038, 1.4032, 1.403, 1.4029, 1.4022, 1.4021, 1.4006, 1.4004, 1.4003, 1.3998, 1.3992, 1.3971, 1.3983, 1.3908, 1.3547, 1.3775, 1.341, 1.3248, 1.3623, 1.3723, 1.2927, 1.2765, 1.0899, 1.2383, 1.043, 1.3123, 1.256, 1.2128, 0.9473, 1.2472, 1.2643, 1.1098, 0.0745, 0.6181, 0.3028, 0.6838, 0.3747, 0.3734, 0.874, 0.2087, 0.3216, 0.5441, 0.2493, 0.2679, 0.4243, 0.4, 0.5993, 0.7081, 0.4695, 0.5296, 0.0725, 0.7315, 0.2663, 0.2374, 0.3482, 0.2264, -0.0613, 0.3873, 0.1762, 0.3823, 0.1636, 0.244, 0.2064, -0.1562, 0.1203, -0.2466, -0.2415, 0.0096, -0.2149, -0.5871, -0.0556, 0.0488, 1.5221, 1.5127, 1.5104, 1.5084, 1.5024, 1.5012, 1.4962, 1.4949, 1.4942, 1.4942, 1.494, 1.4923, 1.4911, 1.4904, 1.4902, 1.4902, 1.49, 1.4893, 1.4886, 1.4873, 1.4868, 1.486, 1.4855, 1.483, 1.4829, 1.4824, 1.4821, 1.4818, 1.4818, 1.4813, 1.4712, 1.4785, 1.4704, 1.4659, 1.4688, 1.4448, 1.2868, 1.4466, 1.4508, 1.3705, 1.4524, 0.8531, 1.2391, 0.8746, 1.0542, 0.8539, 0.7711, 0.9324, 0.6391, 0.6165, 0.6782, 0.8673, 0.6557, 0.8568, 0.8146, 0.8332, 0.432, 0.1114, 0.8204, 0.8018, 0.7518, 0.547, 0.8271, 1.0094, 0.7319, 0.7358, 0.7299, 0.4583, 0.6158, 0.5945, 0.12, 0.4064, 0.0445, 0.2202, 0.051, 0.5409, 0.299, 0.1195, 0.5394, 0.5896, 0.5694, -0.381, -0.0622, 0.0483, 0.1304, 0.3301, -0.5284, 0.1642, -0.694]}, \"token.table\": {\"Topic\": [1, 4, 1, 2, 3, 4, 5, 2, 3, 4, 5, 1, 2, 3, 4, 5, 5, 1, 2, 1, 2, 3, 4, 5, 1, 2, 3, 4, 5, 1, 2, 3, 4, 5, 1, 2, 3, 4, 5, 1, 2, 3, 4, 5, 5, 1, 2, 3, 4, 5, 1, 2, 3, 4, 5, 1, 2, 1, 2, 3, 4, 5, 1, 2, 3, 4, 5, 4, 1, 2, 3, 4, 5, 1, 2, 4, 5, 5, 3, 1, 4, 2, 3, 4, 5, 5, 1, 2, 3, 4, 5, 1, 2, 4, 1, 2, 3, 4, 5, 1, 2, 3, 5, 1, 2, 3, 4, 1, 2, 3, 4, 4, 4, 1, 2, 4, 5, 2, 2, 4, 1, 2, 3, 4, 5, 1, 2, 3, 4, 5, 1, 4, 5, 1, 2, 3, 4, 5, 1, 2, 3, 4, 5, 1, 1, 5, 2, 1, 3, 1, 2, 3, 4, 5, 1, 2, 3, 4, 5, 1, 2, 3, 4, 5, 1, 2, 3, 4, 5, 1, 2, 3, 4, 5, 1, 2, 3, 4, 5, 1, 2, 3, 4, 5, 1, 2, 3, 5, 1, 2, 3, 4, 5, 1, 2, 3, 4, 5, 1, 2, 3, 4, 5, 1, 2, 3, 4, 5, 1, 2, 3, 4, 5, 4, 5, 1, 2, 3, 4, 5, 2, 5, 3, 1, 2, 3, 4, 5, 1, 2, 3, 4, 5, 1, 2, 3, 4, 5, 1, 3, 4, 5, 1, 2, 3, 4, 3, 1, 2, 3, 4, 5, 5, 5, 4, 1, 2, 3, 4, 5, 1, 2, 3, 4, 5, 1, 1, 1, 2, 3, 4, 5, 1, 1, 2, 3, 4, 5, 1, 3, 4, 5, 1, 2, 3, 4, 5, 1, 2, 3, 4, 5, 4, 1, 2, 3, 4, 5, 2, 1, 2, 3, 4, 5, 1, 2, 3, 4, 5, 2, 4, 1, 2, 1, 3, 4, 5, 2, 1, 3, 1, 2, 3, 4, 5, 2, 3, 4, 4, 4, 2, 4, 1, 2, 4, 5, 2, 2, 1, 2, 3, 4, 5, 4, 3, 1, 2, 3, 4, 5, 1, 2, 3, 4, 5, 1, 2, 3, 4, 5, 1, 2, 3, 4, 5, 1, 2, 3, 4, 5, 1, 2, 3, 4, 5, 1, 2, 1, 2, 3, 4, 5, 1, 2, 3, 4, 5, 1, 3, 1, 2, 4, 1, 2, 3, 4, 5, 1, 5, 1, 2, 3, 4, 5, 1, 2, 3, 4, 5, 1, 2, 3, 4, 5, 1, 2, 5, 1, 2, 3, 4, 5, 1, 2, 3, 4, 5, 1, 1, 1, 5, 5, 1, 2, 3, 4, 5, 1, 2, 3, 4, 5, 1, 2, 3, 4, 5, 4, 2, 5, 1, 2, 3, 4, 5, 1, 2, 3, 4, 5, 1, 2, 5, 5, 1, 2, 3, 5, 1, 2, 3, 4, 5, 1, 2, 3, 4, 5, 1, 2, 3, 4, 5, 1, 2, 3, 4, 5, 5, 5, 2, 1, 1, 4, 1, 2, 3, 4, 5, 2, 5, 1, 2, 3, 4, 5, 1, 2, 3, 4, 5, 1, 2, 4, 1, 2, 3, 4, 5, 3, 4, 5, 1, 2, 3, 4, 5, 1, 2, 3, 4, 5, 2, 1, 2, 3, 4, 5, 5, 4, 3, 1, 2, 3, 4, 5, 3, 1, 4, 4, 3, 2, 4, 1, 2, 3, 4, 5, 2, 5, 1, 2, 3, 5, 1, 2, 3, 4, 5, 3, 2, 1, 3, 5, 1, 1, 2, 3, 4, 5, 4, 1, 4, 5, 1, 2, 3, 4, 5, 4, 5, 1, 2, 1, 3, 4, 5, 1, 2, 3, 4, 5, 1, 2, 3, 4, 5, 1, 3, 4, 5, 1, 4, 1, 4, 5, 1, 2, 3, 4, 5, 1, 2, 3, 4, 5, 4, 5, 3, 1, 2, 3, 4, 5, 2, 4, 1, 2, 3, 4, 5, 1, 2, 3, 4, 5, 1, 5, 4, 1, 2, 3, 4, 5, 3, 2, 1, 2, 3, 4, 5, 1, 2, 3, 4, 5, 1, 2, 3, 4, 5, 1, 2, 3, 4, 5, 4, 1, 2, 3, 4, 5, 5, 3, 1, 2, 3, 4, 1, 2, 3, 4, 5, 1, 1, 2, 3, 4, 5, 2, 5, 1, 2, 3, 4, 5, 1, 2, 3, 4, 5, 1, 2, 3, 4, 5, 1, 2, 4, 5, 1, 3, 5, 1, 2, 3, 4, 5, 1, 1, 2, 3, 4, 5, 1, 2, 3, 4, 5, 1, 2, 3, 4, 5, 1, 2, 3, 4, 5, 1, 2, 3, 4, 5, 1, 2, 3, 4, 5, 1, 2, 4, 5, 1, 2, 5, 1, 4, 4, 1, 2, 3, 4, 5, 3, 1, 2, 3, 4, 5, 1, 2, 3, 4, 5, 2, 5, 3, 5, 3, 3, 4, 1, 2, 3, 4, 5, 1, 2, 3, 4, 5, 1, 2, 3, 4, 5, 3, 5, 1, 5, 1, 2, 3, 4, 5, 1, 2, 3, 4, 5, 1, 2, 3, 4, 5, 4, 1, 2, 3, 4, 5, 4, 1, 2, 3, 4, 5, 3, 2, 4, 5, 1, 2, 3, 4, 5, 1, 4, 5, 1, 2, 3, 4, 5, 1, 2, 3, 4, 5, 1, 2, 3, 4, 5, 2, 4, 5, 2, 5, 2, 1, 3, 5, 1, 2, 3, 4, 5, 1, 2, 3, 4, 5, 3, 1, 2, 3, 4, 5, 1, 2, 3, 4, 5, 1, 2, 4, 5, 1, 5, 1, 2, 1, 2, 3, 4, 5, 1, 2, 3, 4, 5, 1, 2, 3, 4, 5, 2, 3, 4, 5, 5, 1, 2, 3, 4, 5, 1, 2, 3, 4, 5, 3, 1, 2, 3, 4, 5, 5, 1, 2, 3, 4, 5, 1, 2, 3, 4, 5, 1, 2, 3, 4, 5, 1, 2, 3, 4, 5, 1, 1, 2, 3, 4, 5, 1, 2, 2, 2, 1, 2, 3, 4, 5, 4, 1, 2, 3, 4, 5, 1, 2, 1, 2, 3, 4, 5, 4, 1, 2, 1, 2, 3, 4, 5, 4, 2, 2, 2, 3, 5, 4, 2, 1, 2, 3, 4, 5, 1, 2, 3, 4, 5, 3, 1, 2, 3, 4, 5, 1, 2, 3, 4, 5, 1, 2, 3, 4, 5, 1, 2, 3, 4, 5, 2, 3, 4, 5, 1, 2, 3, 4, 5, 4, 3, 4, 5, 1, 3, 1, 2, 3, 4, 5, 1, 2, 3, 4, 5, 5, 2, 3, 4, 5, 1, 2, 3, 4, 5, 1, 2, 3, 4, 5, 1, 1, 2, 3, 4, 5, 1, 2, 3, 4, 5, 1, 2, 3, 4, 5, 2, 1, 1, 3, 1, 2, 3, 4, 5, 1, 2, 3, 4, 5, 1, 1, 2, 3, 4, 5, 3, 1, 2, 5, 1, 2, 3, 4, 5, 3], \"Freq\": [0.06716938445966834, 0.9067866902055227, 0.6503150422438573, 0.030675237841691384, 0.06135047568338277, 0.23926685516519278, 0.01840514270501483, 0.018784124589535982, 0.9204221048872632, 0.037568249179071964, 0.018784124589535982, 0.33177883295530625, 0.054167972727396936, 0.49428275113749703, 0.08463745738655772, 0.037240481250085396, 0.9817704531921224, 0.9326475347428841, 0.03886031394762017, 0.19122396263185248, 0.2375037064201999, 0.0801525775398187, 0.2510922269367785, 0.23996539491958008, 0.04671938363210097, 0.09618696630138436, 0.05908627929942182, 0.4328413483562296, 0.36551047194526054, 0.16752628437893569, 0.07919424352458779, 0.09137797329760129, 0.4721195287042733, 0.18884781148170932, 0.26682082198058726, 0.2251741857455221, 0.09458727551692778, 0.23505643841146975, 0.17858642317748302, 0.04682393334725712, 0.7776844582022704, 0.027483613051650917, 0.07939710437143599, 0.0682000768318745, 0.9555536214136459, 0.5016875691770252, 0.06798569862679314, 0.0586083608851665, 0.2109900991865994, 0.16175907604305953, 0.16027951440139626, 0.4312282173180423, 0.03434561022887062, 0.151375096934652, 0.22261043666860592, 0.9842926293735248, 0.94165691387257, 0.5588079184701665, 0.07769521861082529, 0.08367177388858107, 0.2091794347214527, 0.07171866333306949, 0.24503334313671363, 0.3422299025809434, 0.10373078192787544, 0.19929378575119375, 0.10903983769583757, 0.9162228878361915, 0.10101915963491531, 0.14387577281336425, 0.015305933278017473, 0.12244746622413978, 0.6152985177763024, 0.14877917639280497, 0.0836882867209528, 0.027896095573650935, 0.7438958819640249, 0.9708974340216546, 0.9507201148725839, 0.9843169625656653, 0.9164596677118497, 0.019311085267375343, 0.019311085267375343, 0.791754495962389, 0.1737997674063781, 0.9676186867794013, 0.22062288338262867, 0.28358112083572024, 0.03981973992759639, 0.18779850317204244, 0.2674379830272352, 0.02916579266030431, 0.9624711577900423, 0.9366897878979639, 0.06678373319982281, 0.04623489221526195, 0.08219536393824346, 0.6935233832289291, 0.11815583566122498, 0.10113283606298495, 0.01444754800899785, 0.8235102365128775, 0.0577901920359914, 0.017923600471770093, 0.017923600471770093, 0.8961800235885046, 0.05377080141531028, 0.021069888288119395, 0.06320966486435818, 0.021069888288119395, 0.8849353081010146, 0.9161945872769975, 0.9270327713620412, 0.8872315135643261, 0.05545196959777038, 0.02772598479888519, 0.02772598479888519, 0.9677998653884319, 0.9859061249654996, 0.9735760204719465, 0.7732519375473788, 0.01470060717770682, 0.05586230727528591, 0.11760485742165457, 0.03822157866203773, 0.6050347068738624, 0.016145589087926102, 0.07053073127883508, 0.2430336041656245, 0.06458235635170441, 0.03248125866639217, 0.8769939839925887, 0.06496251733278434, 0.039042455067993496, 0.05856368260199025, 0.019521227533996748, 0.8394127839618601, 0.05856368260199025, 0.0202708617204554, 0.016892384767046166, 0.02702781562727387, 0.4831222043375204, 0.4459589578500188, 0.9725967709878512, 0.04892071479084548, 0.9294935810260642, 0.9500724031248975, 0.015309081868621694, 0.9644721577231667, 0.6267011212311503, 0.07833764015389379, 0.13056273358982298, 0.10771425521160395, 0.058753230115420337, 0.15887117231587158, 0.20716240971585018, 0.12247777601443845, 0.28729786887958275, 0.22430929835787156, 0.05523021816098139, 0.7640180178935759, 0.01841007272032713, 0.04602518180081783, 0.11506295450204457, 0.1907140237942296, 0.1594494297296018, 0.03595428317432197, 0.274346812917109, 0.3392208456012117, 0.02649643519517187, 0.6756590974768827, 0.0971535957156302, 0.10598574078068748, 0.0971535957156302, 0.4058954544485143, 0.05777344059668635, 0.13036058391047176, 0.331826940863019, 0.07406851358549532, 0.02872115901955734, 0.13129672694654784, 0.00615453407561943, 0.3282418173663696, 0.5046717942007932, 0.04321857961978351, 0.021609289809891755, 0.8859808822055619, 0.06482786942967526, 0.13249883495423176, 0.21936893204343005, 0.023691844660690443, 0.10968446602171503, 0.5150782524379738, 0.22727879434872317, 0.12074185949775919, 0.4048403524336631, 0.14204924646795197, 0.10416944740983144, 0.21740457108369485, 0.26175913581792626, 0.06081951679466579, 0.12970349990464639, 0.3306431189279068, 0.22297709720797035, 0.08919083888318814, 0.28668483926739047, 0.2994263876792745, 0.10033969374358666, 0.04332510526922358, 0.12997531580767074, 0.00984661483391445, 0.32296896655239393, 0.49430006466250537, 0.03425823704270091, 0.9592306371956254, 0.011036223680056615, 0.04414489472022646, 0.8166805523241895, 0.04414489472022646, 0.08828978944045292, 0.045005937760869, 0.90011875521738, 0.9577985930012567, 0.08658044508702731, 0.7647939316020745, 0.021645111271756827, 0.050505259634099256, 0.07936540799644169, 0.06380357674732914, 0.1668708930314762, 0.04417170697892017, 0.5987720279364734, 0.12269918605255603, 0.18391752380516443, 0.3425050892419529, 0.03744428628368617, 0.2169565999378287, 0.21915920501333963, 0.05287196776682779, 0.05287196776682779, 0.8195155003858308, 0.05287196776682779, 0.8947575785910947, 0.031955627806824816, 0.031955627806824816, 0.031955627806824816, 0.9320259769444508, 0.05739905885202736, 0.024599596650868867, 0.7420878323012109, 0.13119784880463398, 0.045099260526592924, 0.9694504782418829, 0.9441070357879837, 0.9363483047737027, 0.1072319104508795, 0.0817005032006701, 0.07659422175062822, 0.556584678054565, 0.18382613220150773, 0.09932814908636942, 0.024832037271592354, 0.8691213045057324, 0.008277345757197452, 0.008277345757197452, 0.9233887114377379, 0.9368258845709627, 0.5309188319107431, 0.20798882074853853, 0.04378712015758706, 0.17788517564019743, 0.04105042514773787, 0.9422582091426625, 0.3739734185766196, 0.09283028120696231, 0.2599247873794945, 0.1273100999409769, 0.14587615618236935, 0.04849528271387264, 0.07274292407080897, 0.8001721647788986, 0.04849528271387264, 0.024699306906378875, 0.1296713612584891, 0.004116551151063146, 0.32932409208505165, 0.51045234273183, 0.02530892143527834, 0.006327230358819585, 0.9490845538229378, 0.01265446071763917, 0.01265446071763917, 0.9369688727052027, 0.17817461503054602, 0.18597788284210276, 0.036415249787264875, 0.20288496310047574, 0.39796665838939477, 0.96794772746161, 0.49945390638475295, 0.10514819081784273, 0.11098975697438955, 0.1577222862267641, 0.1255936723657566, 0.08258292346666471, 0.6864705513166504, 0.041291461733332355, 0.08774435618333125, 0.09806722161666434, 0.9321848950610216, 0.02824802712306126, 0.04233887498805379, 0.9314552497371834, 0.033588493858271486, 0.033588493858271486, 0.8733008403150586, 0.05038274078740723, 0.9745735179708515, 0.9165747544924842, 0.9566645344479333, 0.03344133062807568, 0.8993957868919301, 0.012320490231396303, 0.02640105049584922, 0.02640105049584922, 0.9084429532092959, 0.06488878237209256, 0.021629594124030854, 0.9735863149114304, 0.9604995298696377, 0.038456768062359155, 0.9229624334966197, 0.8155232381115558, 0.016990067460657413, 0.1189304722246019, 0.033980134921314825, 0.970986543558445, 0.9498486761829094, 0.3728913102374229, 0.10371811278126994, 0.1494034719825436, 0.20002778893530632, 0.1753330001778611, 0.9691926884214052, 0.9690845443394729, 0.09206647321834918, 0.5566387426819928, 0.058752946724867576, 0.1641448305406094, 0.12840850212032912, 0.3824235254715936, 0.12794839142172276, 0.18481434316471065, 0.24025864611412387, 0.06539584450443608, 0.026318662117215428, 0.12662752528094215, 0.003972628244107989, 0.33916313634071954, 0.5040272084712011, 0.08173770207406823, 0.13590706676220812, 0.07641749661362592, 0.2988988158684862, 0.4067538902029076, 0.05893049017416511, 0.7823530592087437, 0.029465245087082554, 0.07518717711876238, 0.05486631843801579, 0.2714988760494549, 0.1456287771801658, 0.10611142055841229, 0.25064249338797384, 0.22576119477427717, 0.032078542700434316, 0.9623562810130295, 0.2590831827715764, 0.07933167224400983, 0.06627709326714745, 0.35649042590662644, 0.24000341349770063, 0.23549424240719402, 0.24000850903480797, 0.06169497724405722, 0.26257984217287766, 0.20013248715755147, 0.028760273576448822, 0.9490890280228111, 0.9305036830035169, 0.04295854463774285, 0.9021294373926, 0.5099940374913234, 0.10882717954835772, 0.087488516891817, 0.15363837112709325, 0.14083517353316882, 0.9234324751286159, 0.9685278535154838, 0.17536208063671865, 0.06982008766091576, 0.27765662767480453, 0.25330078314192694, 0.22569749267133235, 0.1257176462621353, 0.06285882313106765, 0.037715293878640595, 0.7040188190679577, 0.06285882313106765, 0.256625909733552, 0.09271645771018652, 0.12086252522935029, 0.39570059629883175, 0.13410773347366264, 0.8852047498629502, 0.032785361106035193, 0.032785361106035193, 0.13974462717344668, 0.6733150218356977, 0.025408114031535763, 0.13974462717344668, 0.021173428359613135, 0.8173748988720773, 0.08039753103659776, 0.013399588506099628, 0.05359835402439851, 0.04019876551829888, 0.9671221625763855, 0.969712401581928, 0.9813421452679698, 0.960276240880398, 0.9740475937503403, 0.1738825069686599, 0.04904378401680151, 0.11740784658567634, 0.4012673237738305, 0.2556221469966624, 0.01374646266332726, 0.11913600974883626, 0.03665723376887269, 0.6598302078397085, 0.1695397061810362, 0.16078977534866934, 0.5035258754339907, 0.03173482408197421, 0.15021150065467792, 0.1544428105322745, 0.953397823664476, 0.03436281167373357, 0.9277959151908064, 0.11980536746544915, 0.5006391891852289, 0.030787971527433858, 0.12315188610973543, 0.22555535662489587, 0.21882016172079818, 0.21549209842466435, 0.06822529757074315, 0.24461265226583523, 0.2529328105061697, 0.0524638115893857, 0.9181167028142496, 0.02623190579469285, 0.988311191917158, 0.7819962214858258, 0.0248252768725659, 0.18618957654424426, 0.01241263843628295, 0.02865835427584766, 0.7451172111720392, 0.045853366841356255, 0.1260967588137297, 0.05158503769652579, 0.08046040281470468, 0.23519194668913676, 0.4611000007458076, 0.08664966456968197, 0.13616375860950022, 0.08027515679633336, 0.15110617749898045, 0.018888272187372556, 0.16527238163950986, 0.5902585058553923, 0.22377148696244362, 0.3724689094172279, 0.09429592643474123, 0.18315170326747818, 0.12657414740663342, 0.9556272041422736, 0.9703719695150376, 0.939697808028844, 0.9234311861766812, 0.9543985100398197, 0.916856187659104, 0.5450862134138222, 0.08940567521602376, 0.07210135098066432, 0.18169540447127408, 0.11247810752983634, 0.9490054773229543, 0.9521381696090092, 0.07087390936052877, 0.718863937799649, 0.017356875761762147, 0.08823078512229092, 0.10558766088405307, 0.2874346225239104, 0.04752855962993794, 0.3915448007609173, 0.1652183263326414, 0.10637344298128967, 0.9148689331720541, 0.03388403456192793, 0.03388403456192793, 0.187676709180798, 0.22277072797070332, 0.2029349782198873, 0.1419019020635302, 0.24489521807738276, 0.9800140920341888, 0.039685465670020646, 0.9127657104104748, 0.21377481650701385, 0.09866529992631409, 0.09249871868091945, 0.4234385788504313, 0.17060874778925145, 0.7428887058048327, 0.0275143965112901, 0.06420025852634356, 0.1100575860451604, 0.0550287930225802, 0.9719487735731979, 0.3247049444851018, 0.12189919842796179, 0.09600910318662478, 0.2837122936863182, 0.17367938891063583, 0.9570428077113655, 0.9607131035851776, 0.9749126816563567, 0.06923048861059475, 0.1557685993738382, 0.5711515310374067, 0.1615378067580544, 0.0403844516895136, 0.9577846594482549, 0.0346905936520109, 0.9366460286042942, 0.9455165007806181, 0.9321121017482513, 0.033770122292112764, 0.9455634241791575, 0.1335068241828198, 0.23270981159644288, 0.28462913211198393, 0.13443395490631163, 0.213240066403115, 0.0233828617268799, 0.9586973308020759, 0.041516172333251534, 0.9133557913315338, 0.020758086166625767, 0.020758086166625767, 0.03610988721215739, 0.8487181009413833, 0.03909641923722303, 0.029050811516547672, 0.04697000366694156, 0.9800149565182766, 0.9368609393647096, 0.04179237533313589, 0.8985360696624216, 0.04179237533313589, 0.9165998162455293, 0.40471757315618057, 0.10117939328904514, 0.09823242066897586, 0.24066943063899085, 0.15520722465698186, 0.9472273655608968, 0.1675274337480501, 0.8137046782048147, 0.9806742136923353, 0.12279221115550702, 0.1504857736714299, 0.024558442231101405, 0.30462918767515146, 0.3976377561248547, 0.04299568165522296, 0.9029093147596822, 0.02634812817676693, 0.9485326143636095, 0.912328688965639, 0.022808217224140975, 0.04561643444828195, 0.022808217224140975, 0.04355431451354864, 0.15555112326267373, 0.006222044930506949, 0.024888179722027795, 0.7777556163133685, 0.2643833476278478, 0.14008371404162087, 0.0947044827323634, 0.20223353083473436, 0.298911023624022, 0.8747384055295339, 0.09305727718399297, 0.037222910873597186, 0.9681118943103697, 0.9780209159802875, 0.973550534872169, 0.9506063967909054, 0.9816082605781763, 0.9643984793629271, 0.2061092357809579, 0.08269053172050407, 0.03455723713692708, 0.28756558046085745, 0.3887689177904296, 0.015345461773212056, 0.006138184709284822, 0.8562767669452328, 0.052174570028920994, 0.06752003180213305, 0.038122001539748346, 0.9149280369539602, 0.950861306232824, 0.027707157137970246, 0.12666128977357827, 0.009895413263560802, 0.3483185468773402, 0.48685433256719146, 0.9502004396495768, 0.960452654418796, 0.2644778752406856, 0.1876517928160118, 0.18209416132146092, 0.2193629842849197, 0.1467868553560789, 0.43825730583896894, 0.13104752772635836, 0.1414310750052228, 0.18224915741179346, 0.10705795297863703, 0.04363814802731477, 0.9382201825872676, 0.9816202677612473, 0.010256712450428251, 0.005128356225214126, 0.9025906956376862, 0.05128356225214126, 0.030770137351284758, 0.9486075726515555, 0.9720444137109584, 0.26404286334458776, 0.1130220374463918, 0.1792763352597939, 0.2971700122512888, 0.14517485844407224, 0.0941827092357602, 0.02354567730894005, 0.0470913546178801, 0.02354567730894005, 0.8476443831218419, 0.25180302517276926, 0.15533303500917583, 0.3613536919687143, 0.148792696693, 0.08338931353124177, 0.6239097651658332, 0.017513256566058476, 0.05253976969817543, 0.25832053434936253, 0.048161455556660814, 0.9271115394131441, 0.07074028420167021, 0.13285370447630748, 0.02760596456650545, 0.3226447108710324, 0.44687155142030693, 0.964024774225287, 0.974980738699342, 0.017995813136404394, 0.9537780962294329, 0.017995813136404394, 0.008997906568202197, 0.037954554641818954, 0.007590910928363791, 0.06262501515900128, 0.4611478388981003, 0.43078419518464517, 0.9635141676018544, 0.3258924519465681, 0.08852983930831967, 0.11290762114684248, 0.3438550280381112, 0.12958715608898966, 0.020924563206997603, 0.9834544707288874, 0.10361777952440383, 0.09984986026897097, 0.013187717394015032, 0.2373789130922706, 0.5444643324100492, 0.08711167603634581, 0.19810881163104452, 0.029505567689730033, 0.22058924415655312, 0.46436143435503696, 0.0896784412474752, 0.690523997605559, 0.0298928137491584, 0.08369987849764353, 0.1046248481220544, 0.0059819765900116185, 0.939170324631824, 0.03589185954006971, 0.011963953180023237, 0.027817692008980915, 0.027817692008980915, 0.9179838362963701, 0.7556657478378158, 0.09445821847972698, 0.06869688616707417, 0.06869688616707417, 0.008587110770884272, 0.9359213150328833, 0.12110166923054722, 0.1468984745104271, 0.02293049358211545, 0.2952301048697364, 0.4134654624025192, 0.18185787478048548, 0.16411564309458446, 0.5344847295377684, 0.07984004258655461, 0.04213780025401493, 0.4556859179112156, 0.12852679735957362, 0.1421584273825587, 0.18500069316908324, 0.08957928300818768, 0.02749031685144354, 0.1323607848402837, 0.006108959300320787, 0.3298838022173225, 0.503989142276465, 0.17848094778544324, 0.18749513706753634, 0.023436892133442043, 0.16586108279051293, 0.4453009505353988, 0.12390429706229103, 0.3391064972231123, 0.04238831215288904, 0.1719987281588382, 0.32198814039213786, 0.8015488722796925, 0.03410846265019968, 0.1364338506007987, 0.01705423132509984, 0.02187319652106717, 0.918674253884821, 0.02187319652106717, 0.023640009869419366, 0.9456003947767746, 0.9370495823682944, 0.06181737384752894, 0.15036658503452985, 0.026731837339471973, 0.3074161294039277, 0.45444123477102355, 0.9608104761403649, 0.12768945693003034, 0.02394177317438069, 0.7900785147545628, 0.031922364232507584, 0.02394177317438069, 0.0502111241681999, 0.007173017738314271, 0.7818589334762556, 0.04303810642988563, 0.11476828381302834, 0.9679729613699756, 0.9539204599217559, 0.9235629306177157, 0.0684120689346456, 0.9654334755427839, 0.9732224959842728, 0.013331815013483189, 0.030532400503769593, 0.13739580226696319, 0.009541375157427999, 0.34539778069889354, 0.4789770329028855, 0.10418960180191174, 0.6976173338041046, 0.022649913435198205, 0.10418960180191174, 0.07247972299263425, 0.10204171844487189, 0.16456023608363143, 0.03305576794693033, 0.27809961294482693, 0.4232575504509123, 0.9892293029980335, 0.9681516270035095, 0.9211732234778697, 0.04187151015808498, 0.08898788004913287, 0.7265026144636239, 0.04032263314726333, 0.07647395941722356, 0.06813134566261736, 0.10604244769868248, 0.48077352976902665, 0.07451631459907418, 0.1719607259978635, 0.1662287017979347, 0.5585209097142327, 0.12023714028570288, 0.11635852285713182, 0.1473874622857003, 0.06205787885713697, 0.9366753953628255, 0.08975961675838054, 0.6019174300267871, 0.06599971820469157, 0.13463942513757082, 0.10823953785569418, 0.960534442800742, 0.44416759425689795, 0.09288675925524481, 0.08106480807730457, 0.2195505218760332, 0.16044076598633195, 0.9805074372775314, 0.08765206463758414, 0.8984336625352375, 0.973384652475104, 0.354871767115099, 0.06575898559960301, 0.05612189288241981, 0.32142538650840435, 0.20181205925395407, 0.9600263565598468, 0.04266783806932652, 0.9557953170638577, 0.40007467386871354, 0.07971967671184697, 0.11515064413933453, 0.30411580375260144, 0.10186403135402669, 0.3578432871342949, 0.0941041170318561, 0.09162769289943884, 0.2773595028307338, 0.17830253753404315, 0.04608547908065228, 0.8111044318194801, 0.027651287448391366, 0.05530257489678273, 0.05991112280484796, 0.9183873206798564, 0.03935945660056528, 0.03935945660056528, 0.9616959281714962, 0.022365021585383633, 0.9608724253082237, 0.030391214061084325, 0.9117364218325298, 0.030391214061084325, 0.24117282610714846, 0.27318033080655396, 0.04987215848512021, 0.1466390331577415, 0.2895562634434591, 0.04157010530734998, 0.13625756739631384, 0.009237801179411106, 0.3233230412793887, 0.4919129128036414, 0.9788524628141022, 0.28394599890240757, 0.33411690848290815, 0.24017988628963047, 0.08646475906426697, 0.055508240386936816, 0.01968348313365036, 0.05248928835640096, 0.8988790631033665, 0.02624464417820048, 0.00656116104455012, 0.08348100403779096, 0.02087025100944774, 0.8556802913873574, 0.04174050201889548, 0.0489166782708143, 0.9294168871454717, 0.9479567179012277, 0.01974909828960891, 0.046905226655266155, 0.8130239286912799, 0.007817537775877691, 0.06775199405760667, 0.0651461481323141, 0.12395764067359105, 0.4021736786298732, 0.04774664677797581, 0.17537710643448806, 0.250669895584373, 0.07643488907412997, 0.24043596174774867, 0.020036330145645723, 0.2923820028660894, 0.37104315084529116, 0.0437340827817299, 0.9621498211980577, 0.9682917048118074, 0.023616870849068473, 0.9678344683271862, 0.09450583600254192, 0.1583971054127111, 0.025290294141525303, 0.34208450496694753, 0.37935441212287957, 0.05480375958318564, 0.12728615128997955, 0.04066085388429903, 0.33059042071147465, 0.44726939272728927, 0.9508791834177918, 0.20073548277531983, 0.05818419790588981, 0.6516630165459658, 0.052365778115300826, 0.04072893853412286, 0.9675804201252267, 0.47239630353623896, 0.12456220939015257, 0.10576036646333709, 0.16451612560963547, 0.13631336121941223, 0.11249351448100692, 0.5083040283956609, 0.07916210278293079, 0.14999135264134256, 0.14999135264134256, 0.7044438494135158, 0.05031741781525113, 0.05870365411779298, 0.0922485993279604, 0.0922485993279604, 0.659833514245389, 0.03881373613208171, 0.0887171111590439, 0.11644120839624512, 0.09426193060648415, 0.9812911413340673, 0.21601449074870244, 0.1407180111162976, 0.03949979259404845, 0.23453001852716265, 0.36784181853207615, 0.9777726591380747, 0.9807176768519306, 0.9725205542285349, 0.9667521705494817, 0.2651626253374542, 0.1335020162289266, 0.06444924921396457, 0.34802594575540863, 0.18874422984089623, 0.9370717762775672, 0.06581207780847256, 0.07403858753453164, 0.8226509726059071, 0.02467952917817721, 0.00822650972605907, 0.916628704958041, 0.9501371199995378, 0.19563505372167936, 0.17766510944568456, 0.06882827713258391, 0.31566071926322964, 0.24208566439736406, 0.945422378596705, 0.9603178747481997, 0.02134039721662666, 0.050135163871065425, 0.12533790967766356, 0.016114874101413885, 0.3240880235951015, 0.48523676460924037, 0.9684692820708731, 0.9501999613988498, 0.9590906177902715, 0.032540411748975345, 0.9274017348457974, 0.032540411748975345, 0.9604844107073726, 0.9674095554329869, 0.094544694462, 0.07305726390245455, 0.6446229167863637, 0.07735475001436365, 0.10743715279772728, 0.015553768941089056, 0.005184589647029686, 0.9591490847004919, 0.015553768941089056, 0.010369179294059372, 0.9800457821916957, 0.02110970255140793, 0.08443881020563172, 0.6913427585586097, 0.07916138456777974, 0.12665821530844756, 0.07822223677401323, 0.6903962637010732, 0.01700483408130722, 0.06801933632522889, 0.14284060628298068, 0.750995763453459, 0.043160676060543614, 0.09495348733319596, 0.07768921690897851, 0.043160676060543614, 0.06008998856045713, 0.8551267602834284, 0.004622306812342857, 0.009244613624685713, 0.06933460218514284, 0.9500673136016211, 0.9653739908480279, 0.05291249561441531, 0.8995124254450603, 0.08579477907809283, 0.5709790469679971, 0.06508569447303594, 0.15975579552472458, 0.11537918565674553, 0.9161537968145834, 0.018301451136263244, 0.8052638499955828, 0.1647130602263692, 0.9504208203802015, 0.9785772923356749, 0.3055597887742922, 0.24111169436780377, 0.1455768720711268, 0.14633508494649725, 0.16074112957853584, 0.3122365724432715, 0.12990293490121071, 0.08295006686462852, 0.30441109443717446, 0.17059542053291527, 0.9708223816238005, 0.009936809968171907, 0.04968404984085953, 0.009936809968171907, 0.9340601370081592, 0.8066838244884141, 0.07529049028558532, 0.03226735297953657, 0.07529049028558532, 0.01075578432651219, 0.13758282468455788, 0.14924238609850346, 0.0641275877767007, 0.279829473934694, 0.36844214068068043, 0.9788688825880151, 0.04232033544039523, 0.19951015279043463, 0.6166677449886161, 0.06650338426347821, 0.0785949086750197, 0.21986247367098413, 0.09656490779097814, 0.10365724565133247, 0.3387955239446182, 0.2416850517028436, 0.12487500830504372, 0.07922177946233956, 0.03625403466920624, 0.37328228289034576, 0.3867097031381999, 0.9397735880607536, 0.969783592741274, 0.9233847561433571, 0.9321926358229442, 0.35803337595662693, 0.0972916782490834, 0.08042778735257561, 0.23868891730441796, 0.22441947116121905, 0.2829381181329007, 0.15125622667482114, 0.06139223317978034, 0.28649708817230823, 0.21887665742356469, 0.9415763417750695, 0.4509383812998761, 0.08403851651497692, 0.1168340351549679, 0.28696078809992115, 0.06149159744998311, 0.9651630641324723, 0.0281234604227586, 0.9280741939510337, 0.0281234604227586, 0.25681585106039934, 0.17581300198041674, 0.12610670822679107, 0.22643978265540587, 0.21447345267768117, 0.9419501372577863], \"Term\": [\"acts\", \"acts\", \"advertisement\", \"advertisement\", \"advertisement\", \"advertisement\", \"advertisement\", \"advisors\", \"advisors\", \"advisors\", \"advisors\", \"ago\", \"ago\", \"ago\", \"ago\", \"ago\", \"agot\", \"agroforestry\", \"agroforestry\", \"ai\", \"ai\", \"ai\", \"ai\", \"ai\", \"alert\", \"alert\", \"alert\", \"alert\", \"alert\", \"algorithm\", \"algorithm\", \"algorithm\", \"algorithm\", \"algorithm\", \"also\", \"also\", \"also\", \"also\", \"also\", \"analysis\", \"analysis\", \"analysis\", \"analysis\", \"analysis\", \"ang\", \"app\", \"app\", \"app\", \"app\", \"app\", \"application\", \"application\", \"application\", \"application\", \"application\", \"appmaster\", \"arcspan\", \"article\", \"article\", \"article\", \"article\", \"article\", \"artificial\", \"artificial\", \"artificial\", \"artificial\", \"artificial\", \"asterra\", \"automation\", \"automation\", \"automation\", \"automation\", \"automation\", \"aws\", \"aws\", \"aws\", \"aws\", \"azteca\", \"bhatt\", \"bike\", \"brainbox\", \"breast\", \"breast\", \"breast\", \"breast\", \"brokersstock\", \"business\", \"business\", \"business\", \"business\", \"business\", \"cagr\", \"cagr\", \"calf\", \"cancer\", \"cancer\", \"cancer\", \"cancer\", \"cancer\", \"cap\", \"cap\", \"cap\", \"cap\", \"capitalization\", \"capitalization\", \"capitalization\", \"capitalization\", \"cardiac\", \"cardiac\", \"cardiac\", \"cardiac\", \"cardiologs\", \"cardiology\", \"caribbean\", \"caribbean\", \"caribbean\", \"caribbean\", \"catheter\", \"catheters\", \"chadwick\", \"chatbot\", \"chatbot\", \"chatbot\", \"chatbot\", \"chatbot\", \"chatgpt\", \"chatgpt\", \"chatgpt\", \"chatgpt\", \"chatgpt\", \"clearance\", \"clearance\", \"clearance\", \"clinic\", \"clinic\", \"clinic\", \"clinic\", \"clinic\", \"clinical\", \"clinical\", \"clinical\", \"clinical\", \"clinical\", \"cna\", \"codie\", \"codie\", \"cognitiveartificial\", \"coin\", \"coin\", \"comment\", \"comment\", \"comment\", \"comment\", \"comment\", \"company\", \"company\", \"company\", \"company\", \"company\", \"competitive\", \"competitive\", \"competitive\", \"competitive\", \"competitive\", \"content\", \"content\", \"content\", \"content\", \"content\", \"corporation\", \"corporation\", \"corporation\", \"corporation\", \"corporation\", \"could\", \"could\", \"could\", \"could\", \"could\", \"courtesy\", \"courtesy\", \"courtesy\", \"courtesy\", \"courtesy\", \"cryptocurrencies\", \"cryptocurrencies\", \"cryptocurrencies\", \"cryptocurrencies\", \"customer\", \"customer\", \"customer\", \"customer\", \"customer\", \"daily\", \"daily\", \"daily\", \"daily\", \"daily\", \"data\", \"data\", \"data\", \"data\", \"data\", \"day\", \"day\", \"day\", \"day\", \"day\", \"dc\", \"dc\", \"dc\", \"dc\", \"dc\", \"ddn\", \"ddn\", \"decentralized\", \"decentralized\", \"decentralized\", \"decentralized\", \"decentralized\", \"decisioning\", \"decisioning\", \"deskwbfo\", \"detailed\", \"detailed\", \"detailed\", \"detailed\", \"detailed\", \"detection\", \"detection\", \"detection\", \"detection\", \"detection\", \"development\", \"development\", \"development\", \"development\", \"development\", \"diabetes\", \"diabetes\", \"diabetes\", \"diabetes\", \"discourse\", \"discourse\", \"discourse\", \"discourse\", \"dml\", \"dollar\", \"dollar\", \"dollar\", \"dollar\", \"dollar\", \"drc\", \"drcs\", \"dropdown\", \"drug\", \"drug\", \"drug\", \"drug\", \"drug\", \"earnings\", \"earnings\", \"earnings\", \"earnings\", \"earnings\", \"editionall\", \"editions\", \"education\", \"education\", \"education\", \"education\", \"education\", \"edx\", \"email\", \"email\", \"email\", \"email\", \"email\", \"emotion\", \"emotion\", \"emotion\", \"emotion\", \"endorsed\", \"endorsed\", \"endorsed\", \"endorsed\", \"endorsed\", \"etf\", \"etf\", \"etf\", \"etf\", \"etf\", \"evart\", \"experience\", \"experience\", \"experience\", \"experience\", \"experience\", \"extraitclaude\", \"facebook\", \"facebook\", \"facebook\", \"facebook\", \"facebook\", \"factor\", \"factor\", \"factor\", \"factor\", \"factor\", \"factors\", \"factors\", \"fatbrain\", \"fatbrain\", \"fda\", \"fda\", \"fda\", \"fda\", \"fei\", \"filmora\", \"fleettrackr\", \"forecast\", \"forecast\", \"forecast\", \"forecast\", \"forecast\", \"forecasts\", \"forecasts\", \"forecasts\", \"francois\", \"gadgetsmobileandroidiphonephone\", \"gai\", \"gai\", \"gates\", \"gates\", \"gates\", \"gates\", \"genesys\", \"geographical\", \"get\", \"get\", \"get\", \"get\", \"get\", \"gifting\", \"girls\", \"global\", \"global\", \"global\", \"global\", \"global\", \"google\", \"google\", \"google\", \"google\", \"google\", \"gray\", \"gray\", \"gray\", \"gray\", \"gray\", \"group\", \"group\", \"group\", \"group\", \"group\", \"growth\", \"growth\", \"growth\", \"growth\", \"growth\", \"ha\", \"ha\", \"ha\", \"ha\", \"ha\", \"hailo\", \"hailo\", \"health\", \"health\", \"health\", \"health\", \"health\", \"help\", \"help\", \"help\", \"help\", \"help\", \"hits\", \"hits\", \"hohem\", \"holographic\", \"holographic\", \"home\", \"home\", \"home\", \"home\", \"home\", \"homelocal\", \"homepagethe\", \"hour\", \"hour\", \"hour\", \"hour\", \"hour\", \"hr\", \"hr\", \"hr\", \"hr\", \"hr\", \"human\", \"human\", \"human\", \"human\", \"human\", \"hyderabad\", \"hyderabad\", \"hyderabad\", \"ibm\", \"ibm\", \"ibm\", \"ibm\", \"ibm\", \"icon\", \"icon\", \"icon\", \"icon\", \"icon\", \"icona\", \"iconan\", \"iconthe\", \"ikapture\", \"illuminate\", \"image\", \"image\", \"image\", \"image\", \"image\", \"imaging\", \"imaging\", \"imaging\", \"imaging\", \"imaging\", \"impact\", \"impact\", \"impact\", \"impact\", \"impact\", \"impartner\", \"impulse\", \"impulse\", \"industry\", \"industry\", \"industry\", \"industry\", \"industry\", \"information\", \"information\", \"information\", \"information\", \"information\", \"infotech\", \"infotech\", \"infotech\", \"inmind\", \"insider\", \"insider\", \"insider\", \"insider\", \"insights\", \"insights\", \"insights\", \"insights\", \"insights\", \"insurance\", \"insurance\", \"insurance\", \"insurance\", \"insurance\", \"integration\", \"integration\", \"integration\", \"integration\", \"integration\", \"intelligence\", \"intelligence\", \"intelligence\", \"intelligence\", \"intelligence\", \"invaryant\", \"iqiyi\", \"ironclad\", \"issueseducationuniversity\", \"itchannelwisesubscribe\", \"jina\", \"job\", \"job\", \"job\", \"job\", \"job\", \"kaga\", \"kakaclo\", \"key\", \"key\", \"key\", \"key\", \"key\", \"last\", \"last\", \"last\", \"last\", \"last\", \"learner\", \"learner\", \"learner\", \"learning\", \"learning\", \"learning\", \"learning\", \"learning\", \"learnings\", \"lidar\", \"lidar\", \"life\", \"life\", \"life\", \"life\", \"life\", \"lifestyle\", \"lifestyle\", \"lifestyle\", \"lifestyle\", \"lifestyle\", \"lig\", \"like\", \"like\", \"like\", \"like\", \"like\", \"linkedinfollow\", \"lirio\", \"lisk\", \"llc\", \"llc\", \"llc\", \"llc\", \"llc\", \"lml\", \"lng\", \"lng\", \"lowlight\", \"lowsiposoptionssec\", \"lunit\", \"lunit\", \"machine\", \"machine\", \"machine\", \"machine\", \"machine\", \"magellan\", \"magellan\", \"manufacturers\", \"manufacturers\", \"manufacturers\", \"manufacturers\", \"market\", \"market\", \"market\", \"market\", \"market\", \"marketsratingsdividendsearningsinsider\", \"marketwhat\", \"matrix\", \"matrix\", \"matrix\", \"mattersthe\", \"may\", \"may\", \"may\", \"may\", \"may\", \"mayo\", \"mbzuai\", \"mbzuai\", \"mcoder\", \"media\", \"media\", \"media\", \"media\", \"media\", \"mediatek\", \"mediatek\", \"michel\", \"michel\", \"mint\", \"mint\", \"mint\", \"mint\", \"ml\", \"ml\", \"ml\", \"ml\", \"ml\", \"model\", \"model\", \"model\", \"model\", \"model\", \"modi\", \"modi\", \"modi\", \"moflix\", \"morningstar\", \"mrp\", \"msu\", \"mubert\", \"multifamily\", \"music\", \"music\", \"music\", \"music\", \"music\", \"nasdaq\", \"nasdaq\", \"nasdaq\", \"nasdaq\", \"nasdaq\", \"navina\", \"navina\", \"nebula\", \"necessarily\", \"necessarily\", \"necessarily\", \"necessarily\", \"necessarily\", \"nephrostomy\", \"networklinkedinpinterestfacebookinstagramtiktoktwitterwhatsappyoutubeeditors\", \"new\", \"new\", \"new\", \"new\", \"new\", \"news\", \"news\", \"news\", \"news\", \"news\", \"nord\", \"nord\", \"novant\", \"nyse\", \"nyse\", \"nyse\", \"nyse\", \"nyse\", \"nysearca\", \"octane\", \"one\", \"one\", \"one\", \"one\", \"one\", \"oneplus\", \"oneplus\", \"oneplus\", \"oneplus\", \"oneplus\", \"open\", \"open\", \"open\", \"open\", \"open\", \"openai\", \"openai\", \"openai\", \"openai\", \"openai\", \"orbbec\", \"original\", \"original\", \"original\", \"original\", \"original\", \"osf\", \"otcmkts\", \"overview\", \"overview\", \"overview\", \"overview\", \"patient\", \"patient\", \"patient\", \"patient\", \"patient\", \"pedego\", \"people\", \"people\", \"people\", \"people\", \"people\", \"perthera\", \"perthera\", \"photos\", \"photos\", \"photos\", \"photos\", \"photos\", \"platform\", \"platform\", \"platform\", \"platform\", \"platform\", \"player\", \"player\", \"player\", \"player\", \"player\", \"players\", \"players\", \"players\", \"players\", \"podcastwtoc\", \"podcastwtoc\", \"podcastwtoc\", \"politics\", \"politics\", \"politics\", \"politics\", \"politics\", \"postmedia\", \"press\", \"press\", \"press\", \"press\", \"press\", \"price\", \"price\", \"price\", \"price\", \"price\", \"privacy\", \"privacy\", \"privacy\", \"privacy\", \"privacy\", \"prnewswire\", \"prnewswire\", \"prnewswire\", \"prnewswire\", \"prnewswire\", \"process\", \"process\", \"process\", \"process\", \"process\", \"product\", \"product\", \"product\", \"product\", \"product\", \"programme\", \"programme\", \"programme\", \"programme\", \"projected\", \"projected\", \"projected\", \"prostate\", \"prostate\", \"prostatid\", \"provided\", \"provided\", \"provided\", \"provided\", \"provided\", \"purchases\", \"quarter\", \"quarter\", \"quarter\", \"quarter\", \"quarter\", \"quote\", \"quote\", \"quote\", \"quote\", \"quote\", \"qwiet\", \"qynapse\", \"ratings\", \"ratings\", \"ratingsdividendsearningsguidancehighs\", \"reaches\", \"reaches\", \"reflect\", \"reflect\", \"reflect\", \"reflect\", \"reflect\", \"region\", \"region\", \"region\", \"region\", \"region\", \"release\", \"release\", \"release\", \"release\", \"release\", \"renalytix\", \"renesas\", \"replicant\", \"replicant\", \"report\", \"report\", \"report\", \"report\", \"report\", \"research\", \"research\", \"research\", \"research\", \"research\", \"reserved\", \"reserved\", \"reserved\", \"reserved\", \"reserved\", \"retinaai\", \"revenue\", \"revenue\", \"revenue\", \"revenue\", \"revenue\", \"reviewsappshow\", \"right\", \"right\", \"right\", \"right\", \"right\", \"rnlx\", \"roche\", \"roche\", \"sagemaker\", \"said\", \"said\", \"said\", \"said\", \"said\", \"salmon\", \"salmon\", \"savvi\", \"say\", \"say\", \"say\", \"say\", \"say\", \"search\", \"search\", \"search\", \"search\", \"search\", \"segment\", \"segment\", \"segment\", \"segment\", \"segment\", \"segmentation\", \"segmentation\", \"segmentation\", \"segmented\", \"segmented\", \"segments\", \"sells\", \"sells\", \"sells\", \"service\", \"service\", \"service\", \"service\", \"service\", \"serviceprivacy\", \"serviceprivacy\", \"serviceprivacy\", \"serviceprivacy\", \"serviceprivacy\", \"ses\", \"share\", \"share\", \"share\", \"share\", \"share\", \"shares\", \"shares\", \"shares\", \"shares\", \"shares\", \"shield\", \"shield\", \"shield\", \"shield\", \"siia\", \"siia\", \"simplycodes\", \"simplycodes\", \"size\", \"size\", \"size\", \"size\", \"size\", \"software\", \"software\", \"software\", \"software\", \"software\", \"solution\", \"solution\", \"solution\", \"solution\", \"solution\", \"soun\", \"soun\", \"standigm\", \"standigm\", \"starfilled\", \"statement\", \"statement\", \"statement\", \"statement\", \"statement\", \"station\", \"station\", \"station\", \"station\", \"station\", \"steth\", \"stock\", \"stock\", \"stock\", \"stock\", \"stock\", \"stocksbest\", \"story\", \"story\", \"story\", \"story\", \"story\", \"study\", \"study\", \"study\", \"study\", \"study\", \"submit\", \"submit\", \"submit\", \"submit\", \"submit\", \"subscribe\", \"subscribe\", \"subscribe\", \"subscribe\", \"subscribe\", \"suburb\", \"support\", \"support\", \"support\", \"support\", \"support\", \"suzuki\", \"svealand\", \"swot\", \"symphonyai\", \"system\", \"system\", \"system\", \"system\", \"system\", \"syte\", \"tab\", \"tab\", \"tab\", \"tab\", \"tab\", \"taim\", \"tcl\", \"technology\", \"technology\", \"technology\", \"technology\", \"technology\", \"techsmarthow\", \"telangana\", \"telangana\", \"television\", \"television\", \"television\", \"television\", \"television\", \"terarecon\", \"tifin\", \"toc\", \"tops\", \"tops\", \"tops\", \"tosocial\", \"traceable\", \"trade\", \"trade\", \"trade\", \"trade\", \"trade\", \"traded\", \"traded\", \"traded\", \"traded\", \"traded\", \"tradescryptocurrencies\", \"trading\", \"trading\", \"trading\", \"trading\", \"trading\", \"trend\", \"trend\", \"trend\", \"trend\", \"trend\", \"trending\", \"trending\", \"trending\", \"trending\", \"trending\", \"trends\", \"trends\", \"trends\", \"trends\", \"trends\", \"trustible\", \"tse\", \"twitterfollow\", \"twitterfollow\", \"type\", \"type\", \"type\", \"type\", \"type\", \"ultrasight\", \"ultrasound\", \"ultrasound\", \"ultrasound\", \"undergraduate\", \"updatesprivacy\", \"us\", \"us\", \"us\", \"us\", \"us\", \"use\", \"use\", \"use\", \"use\", \"use\", \"vantagepoint\", \"venturebeat\", \"venturebeat\", \"venturebeat\", \"venturebeat\", \"videos\", \"videos\", \"videos\", \"videos\", \"videos\", \"view\", \"view\", \"view\", \"view\", \"view\", \"vivint\", \"volume\", \"volume\", \"volume\", \"volume\", \"volume\", \"wa\", \"wa\", \"wa\", \"wa\", \"wa\", \"weather\", \"weather\", \"weather\", \"weather\", \"weather\", \"weaviate\", \"wkar\", \"wkms\", \"wkrb\", \"work\", \"work\", \"work\", \"work\", \"work\", \"world\", \"world\", \"world\", \"world\", \"world\", \"worldpolitics\", \"would\", \"would\", \"would\", \"would\", \"would\", \"wvtf\", \"xx\", \"xx\", \"xx\", \"year\", \"year\", \"year\", \"year\", \"year\", \"zacks\"]}, \"R\": 30, \"lambda.step\": 0.01, \"plot.opts\": {\"xlab\": \"PC1\", \"ylab\": \"PC2\"}, \"topic.order\": [1, 2, 3, 4, 5]};\n",
       "\n",
       "function LDAvis_load_lib(url, callback){\n",
       "  var s = document.createElement('script');\n",
       "  s.src = url;\n",
       "  s.async = true;\n",
       "  s.onreadystatechange = s.onload = callback;\n",
       "  s.onerror = function(){console.warn(\"failed to load library \" + url);};\n",
       "  document.getElementsByTagName(\"head\")[0].appendChild(s);\n",
       "}\n",
       "\n",
       "if(typeof(LDAvis) !== \"undefined\"){\n",
       "   // already loaded: just create the visualization\n",
       "   !function(LDAvis){\n",
       "       new LDAvis(\"#\" + \"ldavis_el1046418850014567686139572330\", ldavis_el1046418850014567686139572330_data);\n",
       "   }(LDAvis);\n",
       "}else if(typeof define === \"function\" && define.amd){\n",
       "   // require.js is available: use it to load d3/LDAvis\n",
       "   require.config({paths: {d3: \"https://d3js.org/d3.v5\"}});\n",
       "   require([\"d3\"], function(d3){\n",
       "      window.d3 = d3;\n",
       "      LDAvis_load_lib(\"https://cdn.jsdelivr.net/gh/bmabey/pyLDAvis@3.4.0/pyLDAvis/js/ldavis.v3.0.0.js\", function(){\n",
       "        new LDAvis(\"#\" + \"ldavis_el1046418850014567686139572330\", ldavis_el1046418850014567686139572330_data);\n",
       "      });\n",
       "    });\n",
       "}else{\n",
       "    // require.js not available: dynamically load d3 & LDAvis\n",
       "    LDAvis_load_lib(\"https://d3js.org/d3.v5.js\", function(){\n",
       "         LDAvis_load_lib(\"https://cdn.jsdelivr.net/gh/bmabey/pyLDAvis@3.4.0/pyLDAvis/js/ldavis.v3.0.0.js\", function(){\n",
       "                 new LDAvis(\"#\" + \"ldavis_el1046418850014567686139572330\", ldavis_el1046418850014567686139572330_data);\n",
       "            })\n",
       "         });\n",
       "}\n",
       "</script>"
      ],
      "text/plain": [
       "<IPython.core.display.HTML object>"
      ]
     },
     "execution_count": 16,
     "metadata": {},
     "output_type": "execute_result"
    }
   ],
   "source": [
    "%%time\n",
    "\n",
    "lda_display_pos = gensimvis.prepare(lda_model_pos, doc_term_matrix_text_pos, dictionary_text_pos, sort_topics=False, mds='mmds')\n",
    "pyLDAvis.display(lda_display_pos)"
   ]
  },
  {
   "cell_type": "code",
   "execution_count": 17,
   "id": "a3148449-68b3-4495-80c1-315166121553",
   "metadata": {},
   "outputs": [
    {
     "name": "stdout",
     "output_type": "stream",
     "text": [
      "CPU times: total: 31.2 ms\n",
      "Wall time: 1.21 s\n"
     ]
    },
    {
     "data": {
      "text/html": [
       "\n",
       "<link rel=\"stylesheet\" type=\"text/css\" href=\"https://cdn.jsdelivr.net/gh/bmabey/pyLDAvis@3.4.0/pyLDAvis/js/ldavis.v1.0.0.css\">\n",
       "\n",
       "\n",
       "<div id=\"ldavis_el1046418850017900646434471594\" style=\"background-color:white;\"></div>\n",
       "<script type=\"text/javascript\">\n",
       "\n",
       "var ldavis_el1046418850017900646434471594_data = {\"mdsDat\": {\"x\": [0.07526508775043914, -0.007907215324013927, -0.13136181312276574, -0.06070012301335013, 0.12470406370969066], \"y\": [0.08861350267006457, -0.11734818085046783, -0.03652331127199412, 0.11463546782287493, -0.04937747837047751], \"topics\": [1, 2, 3, 4, 5], \"cluster\": [1, 1, 1, 1, 1], \"Freq\": [21.23815497990816, 15.345565778673206, 19.86644012236892, 29.191991135863265, 14.357847983186447]}, \"tinfo\": {\"Term\": [\"ai\", \"cancer\", \"news\", \"lunit\", \"purity\", \"tumor\", \"ernie\", \"climate\", \"prostate\", \"error\", \"kong\", \"hong\", \"health\", \"page\", \"houston\", \"cooky\", \"delhi\", \"patient\", \"depression\", \"game\", \"rebekah\", \"delay\", \"article\", \"texas\", \"scope\", \"technology\", \"breast\", \"personal\", \"wildfire\", \"via\", \"houston\", \"passenger\", \"psychotic\", \"msn\", \"ooda\", \"solehdin\", \"july\", \"texas\", \"accountsign\", \"historyai\", \"temporarily\", \"cisos\", \"semafor\", \"bernardino\", \"truthgpt\", \"dame\", \"michiana\", \"dgca\", \"texans\", \"pannun\", \"sfj\", \"seattle\", \"tournament\", \"snap\", \"infoaccurate\", \"psychological\", \"restricts\", \"bend\", \"submenu\", \"soldier\", \"tennis\", \"rebekah\", \"jan\", \"flight\", \"game\", \"driver\", \"fox\", \"variable\", \"camera\", \"player\", \"italy\", \"satellite\", \"incident\", \"fraud\", \"air\", \"tesla\", \"illness\", \"battlefield\", \"technology\", \"state\", \"said\", \"child\", \"jones\", \"ha\", \"police\", \"news\", \"data\", \"new\", \"india\", \"ai\", \"year\", \"read\", \"information\", \"face\", \"wa\", \"one\", \"openai\", \"using\", \"day\", \"intelligence\", \"musk\", \"company\", \"artificial\", \"use\", \"also\", \"law\", \"chatgpt\", \"say\", \"us\", \"make\", \"prostate\", \"hqr\", \"malware\", \"newsroomport\", \"rundowncoastlinethe\", \"wilmington\", \"whqr\", \"pat\", \"christians\", \"clearview\", \"fitr\", \"hibercell\", \"ul\", \"urological\", \"survey\", \"surpassing\", \"pursuit\", \"cnil\", \"watchdog\", \"hindu\", \"causal\", \"aiml\", \"session\", \"firefly\", \"sep\", \"hamden\", \"seriescultural\", \"mwc\", \"reportsemploymentfinancial\", \"erny\", \"christian\", \"breast\", \"platforms\", \"videos\", \"fear\", \"generative\", \"small\", \"cancer\", \"health\", \"ai\", \"detection\", \"bing\", \"chat\", \"hyderabad\", \"chatbots\", \"news\", \"pm\", \"us\", \"google\", \"day\", \"new\", \"technology\", \"artificial\", \"world\", \"media\", \"intelligence\", \"press\", \"data\", \"chatgpt\", \"medical\", \"gray\", \"group\", \"company\", \"study\", \"wa\", \"public\", \"said\", \"one\", \"may\", \"climate\", \"lunit\", \"purity\", \"cooky\", \"val\", \"parliament\", \"digitalocean\", \"kilmer\", \"terrafuse\", \"tps\", \"league\", \"sensitivity\", \"von\", \"kong\", \"practical\", \"aip\", \"uscap\", \"wei\", \"suggesting\", \"newsletterssign\", \"box\", \"pathologist\", \"ngs\", \"tissue\", \"abstract\", \"tbs\", \"reporting\", \"colucci\", \"effectiveness\", \"slide\", \"wildfire\", \"tumor\", \"scope\", \"hong\", \"opens\", \"assessment\", \"ai\", \"application\", \"death\", \"judge\", \"law\", \"personal\", \"risk\", \"case\", \"system\", \"group\", \"may\", \"platform\", \"state\", \"data\", \"right\", \"california\", \"new\", \"artificial\", \"use\", \"news\", \"intelligence\", \"wa\", \"said\", \"ha\", \"email\", \"time\", \"chatgpt\", \"ernie\", \"dunya\", \"ctv\", \"poop\", \"prescott\", \"api\", \"laredo\", \"error\", \"navigationchevron\", \"roomba\", \"jail\", \"unprocessable\", \"heart\", \"cartoon\", \"vacuum\", \"geeky\", \"suisse\", \"li\", \"cardiac\", \"orleans\", \"iphone\", \"khan\", \"beijing\", \"mayor\", \"clothing\", \"youmore\", \"hood\", \"bbc\", \"australian\", \"lensa\", \"west\", \"pledge\", \"entity\", \"bot\", \"fake\", \"apple\", \"chatgpt\", \"min\", \"china\", \"request\", \"wa\", \"tv\", \"software\", \"news\", \"company\", \"risk\", \"chinese\", \"twitter\", \"say\", \"u\", \"may\", \"ai\", \"could\", \"data\", \"us\", \"ha\", \"time\", \"might\", \"chatbot\", \"said\", \"using\", \"technology\", \"new\", \"artificial\", \"microsoft\", \"intelligence\", \"use\", \"first\", \"get\", \"year\", \"tech\", \"depression\", \"kejriwal\", \"suicidal\", \"ideation\", \"slaughterbots\", \"nhs\", \"safetylit\", \"fracture\", \"bone\", \"vertebra\", \"ship\", \"linguistic\", \"weibo\", \"prone\", \"funding\", \"knowhow\", \"websites\", \"twin\", \"roundup\", \"plagiarizing\", \"governance\", \"newsbloombergnasastudiosabc\", \"aarp\", \"newscnafrance\", \"si\", \"techyahoo\", \"newstrendingukraine\", \"kingdomindianewsfront\", \"studiorumbleteaser\", \"internationalveuerwibbitz\", \"delay\", \"ist\", \"launches\", \"apr\", \"scientific\", \"page\", \"space\", \"news\", \"launch\", \"newsal\", \"via\", \"lung\", \"cancer\", \"one\", \"article\", \"work\", \"ai\", \"patient\", \"new\", \"model\", \"government\", \"musk\", \"said\", \"people\", \"twitter\", \"wa\", \"digital\", \"delhi\", \"future\", \"technology\", \"million\", \"may\", \"search\", \"group\", \"artificial\", \"might\", \"intelligence\", \"system\"], \"Freq\": [335.0, 73.0, 262.0, 20.0, 19.0, 21.0, 20.0, 14.0, 11.0, 21.0, 13.0, 17.0, 47.0, 24.0, 12.0, 11.0, 19.0, 24.0, 9.0, 18.0, 15.0, 10.0, 37.0, 13.0, 14.0, 90.0, 13.0, 37.0, 13.0, 21.0, 11.796443096146165, 10.244051805600582, 9.425572300790193, 7.140890396619037, 7.140088718103292, 6.33861439056108, 5.586828599901329, 11.788048996769906, 4.813031138222648, 4.812787665488236, 4.812230373300653, 4.811863108613098, 4.806556499315426, 4.805349185174619, 4.0417241331068405, 4.0372196591217895, 4.036780677324849, 4.036018283340359, 4.035337655996507, 4.034019340215059, 4.032019940292884, 4.030623055448924, 4.030784761542698, 4.023409775994716, 4.016700800290583, 4.017035632400009, 3.261620133770963, 3.2609248889271085, 3.260544148731739, 3.2603927205676535, 7.1316251856020205, 12.571008890168711, 8.692758654742665, 8.692744950836413, 14.128489811496308, 9.469094993452979, 6.363254470799155, 6.330799966419282, 11.022912403842524, 11.80040717942801, 5.590144488417452, 5.588937631073521, 7.917806410563811, 11.742404939419302, 10.246452729975944, 9.470713881578222, 7.868383729462641, 6.367430964627907, 31.565106246614313, 21.876614454847143, 34.29155138389867, 10.224002077160073, 11.799246915365336, 27.33929662722983, 17.252116177277802, 53.76966614119819, 31.205643649685342, 34.3583314326587, 11.02654119821807, 51.550755221490036, 19.56467045637502, 14.913603045364189, 17.17171079132823, 11.807432715366566, 23.458624454772174, 17.227494825711606, 14.081049628832936, 14.92972980224161, 14.140721918216896, 15.676740695166268, 13.364888969662909, 14.896970157549191, 14.892282508017237, 13.347866890910353, 12.569406446730971, 12.576662208294561, 13.374663509195626, 12.621257460020006, 11.84275224974687, 11.82385364943153, 10.804286612166154, 7.287087245038133, 6.5694042141537246, 5.858752062273326, 5.857794896321226, 5.857753969225343, 5.857702480298265, 5.856239006563227, 5.854441514916629, 5.146032431936392, 5.144780194825266, 5.143417718601036, 5.1435200363407425, 5.119668450986091, 4.424626685612766, 4.423951388530697, 4.409170765886928, 3.7173731329767707, 3.714198642588048, 3.7139329465220343, 3.7137174191541993, 3.7135447992255965, 3.7125486865209627, 3.7124532999829776, 3.69968833681144, 3.0014833029950374, 3.000630105068769, 3.0005571624220746, 3.0005449503047545, 3.0005043532660967, 6.569960690634842, 9.427574359713113, 4.428183712325103, 4.416985530799986, 9.434469915254928, 8.716514917217234, 7.99896324910832, 28.70158616103714, 18.709887894306664, 63.05059402418408, 5.137337404404628, 5.860354160042807, 6.580159458883077, 5.800519405976476, 7.941128641824653, 33.80408338489979, 10.892443576697893, 15.842443140728653, 10.140010140836665, 12.985626229791201, 19.45701599033546, 15.852883510865489, 15.195817469670333, 10.84347298624512, 12.283624877774436, 13.745897204514002, 10.152460559472908, 15.22452452685993, 13.617194690251317, 9.439935662898643, 8.71063989861469, 10.86236216122397, 11.576207946812135, 8.751567654612026, 10.915492792938904, 8.732087017086222, 9.465193622088432, 8.73197083694307, 8.742621783589367, 13.940781965810917, 19.6246961691274, 18.145445025868597, 10.888177663648293, 8.5920531019996, 8.558671216543384, 6.297150600056051, 6.291135160710234, 6.287464708658766, 7.666994070803302, 6.240971318988432, 5.519981730568892, 5.517906792831765, 12.42752508843523, 6.172429579393099, 6.162021989100014, 6.146093765453614, 4.754690768663422, 4.751713814129944, 4.751352751035242, 4.7493094330247505, 4.66086563927328, 4.657967734056394, 4.656007738298526, 4.6549232671336105, 3.9872107816287707, 3.9862792815737995, 3.984543614957611, 4.639549670584161, 4.636952580063927, 11.665295685196671, 18.0074223553381, 12.048617358276466, 13.189320361372939, 9.353826155669942, 12.965133935757637, 111.24486408786314, 12.421479738537188, 13.95634314425217, 10.885421619907667, 20.099308265943172, 17.835060661680227, 30.540054833462303, 14.708813161593694, 20.30881544711422, 17.867459771849088, 21.01393022358776, 11.519251004559742, 16.617578125612376, 23.208773382470515, 15.598482881985955, 10.12848809358714, 23.76991756145705, 19.121470783467103, 17.07946712809933, 26.370867397516506, 16.097792549066547, 17.86986799859671, 17.13247204498879, 15.300515669906511, 12.441617231468689, 12.475724661463133, 12.576314703179099, 19.94717858299514, 11.714843627056311, 11.70579350211617, 10.85355603250329, 10.853360136916962, 10.067821347225763, 10.054634183765394, 19.975205464990285, 8.410717351274512, 8.38561006696021, 7.584432907497672, 6.767619889745672, 6.756848143979537, 6.742118302776839, 6.738383101356768, 5.941147084828133, 5.936282972304803, 5.935396419202577, 5.93474280604435, 5.933802883952261, 12.53264240144464, 5.11382131787846, 5.11117609959257, 5.111306068779653, 5.110740043551851, 5.109348682592551, 5.1087694720849, 5.106846618773593, 11.707770038352578, 5.0974166321997085, 15.830309773711855, 8.412682585842475, 10.956078489904137, 24.069248671243606, 11.711017384418236, 10.863812924484845, 50.58248063158098, 8.408256726906506, 15.307920287764384, 17.50184788387491, 54.605357231655226, 12.52512176896698, 14.189677959514771, 89.38719622492545, 34.86757596155287, 39.39428596373382, 16.96165575864946, 26.639464062388527, 26.235984453082757, 21.07629060480405, 31.471374365103888, 70.30166688987347, 22.461194544200968, 34.863537498696274, 27.424482975331394, 28.383449634487413, 21.639535622169237, 18.384666412550818, 16.662881084494774, 30.59528158489189, 23.339833967035222, 27.446953203675903, 31.90723953320059, 26.078559746131766, 17.4982552090513, 24.364468342802827, 22.474588277045637, 19.973594349366834, 17.5207053455408, 18.273948989788607, 17.53353525070431, 8.498382222659105, 7.076150985869894, 5.712605969522815, 5.711376893457188, 5.015879805488504, 5.0150997436438365, 4.310115300175604, 4.294406287516711, 4.282420016559108, 4.27660259572386, 3.6237544472324443, 3.6229469010234956, 3.62225546853331, 3.62222829298211, 3.616698068312951, 3.6153612164817694, 3.606410578118417, 3.5974318377646197, 2.926383481483301, 2.926018155607513, 2.926042860654058, 2.925700695759406, 2.9255086140225166, 2.925520040106544, 2.925360383743245, 2.925360383743245, 2.925203197884601, 2.9251970216229646, 2.9251093187077286, 2.925065467250111, 8.503669720245957, 7.08278243798881, 7.788017637679476, 7.778828595616962, 5.711257691607607, 11.295440035300294, 8.52162843620588, 59.56412415313684, 7.80883534515085, 5.7144335253410015, 9.902126055492324, 8.674326623145229, 21.82662204420861, 18.28140339587818, 12.698590329390264, 10.59492102899512, 39.78842366444456, 9.160350239082709, 21.768251430736093, 12.813019163978659, 10.56152968808453, 12.005490248562635, 17.05998960043687, 11.278372553894492, 12.025828678131031, 15.58617916747044, 8.567636026760978, 7.7673432194780645, 8.485056938178749, 12.0434384353085, 8.51600989099532, 11.311595900488575, 9.198819084684517, 9.516116497110238, 9.235619722018354, 8.478658948749686, 8.553809229835752, 8.511619186598063], \"Total\": [335.0, 73.0, 262.0, 20.0, 19.0, 21.0, 20.0, 14.0, 11.0, 21.0, 13.0, 17.0, 47.0, 24.0, 12.0, 11.0, 19.0, 24.0, 9.0, 18.0, 15.0, 10.0, 37.0, 13.0, 14.0, 90.0, 13.0, 37.0, 13.0, 21.0, 12.431537737384993, 10.874985710461425, 10.097410546558077, 7.7621622614957495, 7.762258698608399, 6.981121502317866, 6.205170873985585, 13.198247658660996, 5.426641585010036, 5.426595124107131, 5.426666905608052, 5.427057639317906, 5.426135071444478, 5.4270815306596445, 4.648964432417299, 4.648403935663688, 4.6483893554349835, 4.648328113333486, 4.648133252026321, 4.648599342163882, 4.648608257178981, 4.64785933290833, 4.648807490841637, 4.647196335039689, 4.646713396805797, 4.648711398761123, 3.8697884919069776, 3.8700838724142086, 3.869991178226793, 3.8698372901635554, 8.477938408279652, 15.51357104728826, 10.749968238147245, 10.801729274055742, 18.555573574089095, 12.245660231017204, 7.806866940295275, 7.80895276634425, 15.672988605523724, 17.149434736142613, 6.920455582323999, 6.972021338865247, 10.77770453633582, 18.287233776168648, 15.384438613257036, 13.929736284090062, 11.335255281669038, 8.37948491941266, 90.6472649457778, 52.80122612850741, 108.54448823630466, 17.05488498178446, 21.766733506578753, 84.20087689922984, 41.083284640169715, 262.8959373016768, 110.28696250727987, 131.2607559483879, 20.430088741210803, 335.93630388785533, 58.25395105878197, 35.97872099529791, 54.92551265259718, 24.163119780249616, 122.43552164543345, 69.56694354597593, 41.43031306921635, 61.541017544032336, 52.7153774477363, 78.4387080213854, 46.21918316711536, 74.56168027124596, 84.5237502293048, 64.56587388665407, 41.594183576567424, 43.21709957268752, 94.51739033055973, 59.51412733972946, 71.74557571756034, 42.81084828734762, 11.500185966999183, 7.920518173563135, 7.204270318733393, 6.48764411640284, 6.487830743043878, 6.487790575357115, 6.487817592582434, 6.487891172362427, 6.487973672427641, 5.771221533951446, 5.771574876023322, 5.771514188272927, 5.771719702730184, 5.770451206150259, 5.0553222423561746, 5.055860337001834, 5.056574712295604, 4.338477413457322, 4.338747263598907, 4.338808469295054, 4.338829413818387, 4.338739586282545, 4.338694742054549, 4.338963193238162, 4.339803081324986, 3.6223970059080233, 3.6223533190302426, 3.6223209641870997, 3.622314353739288, 3.62234339384505, 7.971781764904249, 13.924141385668769, 5.82256301562751, 5.8245240365643545, 15.471407444697022, 14.087105423388907, 12.622817927849246, 73.91886640366161, 47.025190797275556, 335.93630388785533, 7.245238864598939, 8.965945660280326, 11.029362122390937, 8.97497945396795, 16.49148191242987, 262.8959373016768, 30.497683506929746, 71.74557571756034, 30.202645614606038, 52.7153774477363, 131.2607559483879, 90.6472649457778, 84.5237502293048, 36.436522046029495, 50.12334188025911, 78.4387080213854, 35.7397911876616, 110.28696250727987, 94.51739033055973, 31.053797940489268, 24.45237366581933, 55.66565471794268, 74.56168027124596, 33.89184728497261, 122.43552164543345, 42.340988873970375, 108.54448823630466, 69.56694354597593, 81.24538642985796, 14.593385699958086, 20.696395643142434, 19.16423337698401, 11.517497109673691, 9.211546722990324, 9.210989775046976, 6.905904064890039, 6.905736086531164, 6.905850068509044, 8.4281452863693, 6.909418367948405, 6.1369182226874335, 6.137168880983269, 13.879864302220994, 6.8945641402890905, 6.893708066983379, 6.8921048242574106, 5.368612841002088, 5.368216290955889, 5.368586601879575, 5.367570009913707, 5.359483757969985, 5.359189241296617, 5.3590303455256345, 5.3589454851283165, 4.5998125580491696, 4.599768330778022, 4.5999307295676894, 5.357506504317029, 5.357230853057799, 13.779605484310935, 21.980777064436065, 14.494821096014874, 17.128290266784706, 12.774013123927237, 20.104442268984155, 335.93630388785533, 19.56230612141258, 23.56901223497512, 17.475262509104702, 43.21709957268752, 37.33290935573358, 88.78250280124003, 31.23500703833711, 58.23826520199358, 55.66565471794268, 81.24538642985796, 24.23704239705178, 52.80122612850741, 110.28696250727987, 48.69855788791699, 19.345856089354637, 131.2607559483879, 84.5237502293048, 64.56587388665407, 262.8959373016768, 78.4387080213854, 122.43552164543345, 108.54448823630466, 84.20087689922984, 37.14824844088261, 49.30047182453362, 94.51739033055973, 20.59118649479854, 12.327782777379966, 12.3272714459004, 11.495945242714955, 11.498849029235465, 10.675120114798709, 10.673660223947063, 21.371339828296332, 9.02149161824002, 9.017299378669497, 8.194706858878599, 7.36895927982624, 7.368006388057611, 7.367051796300065, 7.3648633537757755, 6.5422817504819335, 6.541639108577535, 6.541693251637227, 6.541738341503201, 6.541674220506377, 13.921480668823838, 5.715481011943511, 5.715175676832294, 5.715377661565549, 5.7153509040222765, 5.715174522764205, 5.715153996489747, 5.714944183379994, 13.104461005396423, 5.714126048275738, 17.85691666992384, 9.71921142536581, 12.992334115810062, 31.626886083940377, 14.650491795090062, 13.740426799781307, 94.51739033055973, 10.504426837668808, 22.380181518436068, 26.994612353790444, 122.43552164543345, 17.553400677789664, 20.88782652338911, 262.8959373016768, 74.56168027124596, 88.78250280124003, 28.399637899461972, 56.51482701705743, 59.51412733972946, 42.345885342880294, 81.24538642985796, 335.93630388785533, 49.324862275337594, 110.28696250727987, 71.74557571756034, 84.20087689922984, 49.30047182453362, 35.68365312474354, 29.32682396826933, 108.54448823630466, 61.541017544032336, 90.6472649457778, 131.2607559483879, 84.5237502293048, 32.96347974941286, 78.4387080213854, 64.56587388665407, 52.23094072512889, 36.25654494191679, 58.25395105878197, 45.07333524014008, 9.139773208826268, 7.745279261339482, 6.345523549573681, 6.345648592376145, 5.646949947197697, 5.647096083263, 4.949887392844131, 4.951774393144825, 4.953178887276074, 4.954804904857762, 4.2497358190594845, 4.249808431259133, 4.249890386901317, 4.249943796999076, 4.250204906047095, 4.25112523957216, 4.25124499142572, 4.252908247021541, 3.5512934856992078, 3.551152373280749, 3.5512842376496296, 3.551286721568936, 3.5512069430722826, 3.551309425487623, 3.551227802343751, 3.551363521356225, 3.55135931382366, 3.5513939681509896, 3.5513603351024168, 3.5513985235211782, 10.69553597547353, 9.894487849927328, 11.630342920145422, 12.194029036865516, 8.60736303334609, 24.17050114686613, 16.302210158199323, 262.8959373016768, 14.666775109535378, 9.457945472550447, 21.602593657939632, 17.986283906432078, 73.91886640366161, 69.56694354597593, 37.25916024574526, 27.843191058520247, 335.93630388785533, 24.39383885951532, 131.2607559483879, 47.72555099401212, 34.44102642704452, 46.21918316711536, 108.54448823630466, 48.20739717321417, 56.51482701705743, 122.43552164543345, 26.384966598160553, 19.996665372165783, 25.986479570619828, 90.6472649457778, 27.28289636049079, 81.24538642985796, 39.77180597300044, 55.66565471794268, 84.5237502293048, 35.68365312474354, 78.4387080213854, 58.23826520199358], \"Category\": [\"Default\", \"Default\", \"Default\", \"Default\", \"Default\", \"Default\", \"Default\", \"Default\", \"Default\", \"Default\", \"Default\", \"Default\", \"Default\", \"Default\", \"Default\", \"Default\", \"Default\", \"Default\", \"Default\", \"Default\", \"Default\", \"Default\", \"Default\", \"Default\", \"Default\", \"Default\", \"Default\", \"Default\", \"Default\", \"Default\", \"Topic1\", \"Topic1\", \"Topic1\", \"Topic1\", \"Topic1\", \"Topic1\", \"Topic1\", \"Topic1\", \"Topic1\", \"Topic1\", \"Topic1\", \"Topic1\", \"Topic1\", \"Topic1\", \"Topic1\", \"Topic1\", \"Topic1\", \"Topic1\", \"Topic1\", \"Topic1\", \"Topic1\", \"Topic1\", \"Topic1\", \"Topic1\", \"Topic1\", \"Topic1\", \"Topic1\", \"Topic1\", \"Topic1\", \"Topic1\", \"Topic1\", \"Topic1\", \"Topic1\", \"Topic1\", \"Topic1\", \"Topic1\", \"Topic1\", \"Topic1\", \"Topic1\", \"Topic1\", \"Topic1\", \"Topic1\", \"Topic1\", \"Topic1\", \"Topic1\", \"Topic1\", \"Topic1\", \"Topic1\", \"Topic1\", \"Topic1\", \"Topic1\", \"Topic1\", \"Topic1\", \"Topic1\", \"Topic1\", \"Topic1\", \"Topic1\", \"Topic1\", \"Topic1\", \"Topic1\", \"Topic1\", \"Topic1\", \"Topic1\", \"Topic1\", \"Topic1\", \"Topic1\", \"Topic1\", \"Topic1\", \"Topic1\", \"Topic1\", \"Topic1\", \"Topic1\", \"Topic1\", \"Topic1\", \"Topic1\", \"Topic1\", \"Topic1\", \"Topic1\", \"Topic1\", \"Topic1\", \"Topic2\", \"Topic2\", \"Topic2\", \"Topic2\", \"Topic2\", \"Topic2\", \"Topic2\", \"Topic2\", \"Topic2\", \"Topic2\", \"Topic2\", \"Topic2\", \"Topic2\", \"Topic2\", \"Topic2\", \"Topic2\", \"Topic2\", \"Topic2\", \"Topic2\", \"Topic2\", \"Topic2\", \"Topic2\", \"Topic2\", \"Topic2\", \"Topic2\", \"Topic2\", \"Topic2\", \"Topic2\", \"Topic2\", \"Topic2\", \"Topic2\", \"Topic2\", \"Topic2\", \"Topic2\", \"Topic2\", \"Topic2\", \"Topic2\", \"Topic2\", \"Topic2\", \"Topic2\", \"Topic2\", \"Topic2\", \"Topic2\", \"Topic2\", \"Topic2\", \"Topic2\", \"Topic2\", \"Topic2\", \"Topic2\", \"Topic2\", \"Topic2\", \"Topic2\", \"Topic2\", \"Topic2\", \"Topic2\", \"Topic2\", \"Topic2\", \"Topic2\", \"Topic2\", \"Topic2\", \"Topic2\", \"Topic2\", \"Topic2\", \"Topic2\", \"Topic2\", \"Topic2\", \"Topic2\", \"Topic2\", \"Topic2\", \"Topic3\", \"Topic3\", \"Topic3\", \"Topic3\", \"Topic3\", \"Topic3\", \"Topic3\", \"Topic3\", \"Topic3\", \"Topic3\", \"Topic3\", \"Topic3\", \"Topic3\", \"Topic3\", \"Topic3\", \"Topic3\", \"Topic3\", \"Topic3\", \"Topic3\", \"Topic3\", \"Topic3\", \"Topic3\", \"Topic3\", \"Topic3\", \"Topic3\", \"Topic3\", \"Topic3\", \"Topic3\", \"Topic3\", \"Topic3\", \"Topic3\", \"Topic3\", \"Topic3\", \"Topic3\", \"Topic3\", \"Topic3\", \"Topic3\", \"Topic3\", \"Topic3\", \"Topic3\", \"Topic3\", \"Topic3\", \"Topic3\", \"Topic3\", \"Topic3\", \"Topic3\", \"Topic3\", \"Topic3\", \"Topic3\", \"Topic3\", \"Topic3\", \"Topic3\", \"Topic3\", \"Topic3\", \"Topic3\", \"Topic3\", \"Topic3\", \"Topic3\", \"Topic3\", \"Topic3\", \"Topic3\", \"Topic3\", \"Topic3\", \"Topic4\", \"Topic4\", \"Topic4\", \"Topic4\", \"Topic4\", \"Topic4\", \"Topic4\", \"Topic4\", \"Topic4\", \"Topic4\", \"Topic4\", \"Topic4\", \"Topic4\", \"Topic4\", \"Topic4\", \"Topic4\", \"Topic4\", \"Topic4\", \"Topic4\", \"Topic4\", \"Topic4\", \"Topic4\", \"Topic4\", \"Topic4\", \"Topic4\", \"Topic4\", \"Topic4\", \"Topic4\", \"Topic4\", \"Topic4\", \"Topic4\", \"Topic4\", \"Topic4\", \"Topic4\", \"Topic4\", \"Topic4\", \"Topic4\", \"Topic4\", \"Topic4\", \"Topic4\", \"Topic4\", \"Topic4\", \"Topic4\", \"Topic4\", \"Topic4\", \"Topic4\", \"Topic4\", \"Topic4\", \"Topic4\", \"Topic4\", \"Topic4\", \"Topic4\", \"Topic4\", \"Topic4\", \"Topic4\", \"Topic4\", \"Topic4\", \"Topic4\", \"Topic4\", \"Topic4\", \"Topic4\", \"Topic4\", \"Topic4\", \"Topic4\", \"Topic4\", \"Topic4\", \"Topic4\", \"Topic4\", \"Topic4\", \"Topic4\", \"Topic4\", \"Topic5\", \"Topic5\", \"Topic5\", \"Topic5\", \"Topic5\", \"Topic5\", \"Topic5\", \"Topic5\", \"Topic5\", \"Topic5\", \"Topic5\", \"Topic5\", \"Topic5\", \"Topic5\", \"Topic5\", \"Topic5\", \"Topic5\", \"Topic5\", \"Topic5\", \"Topic5\", \"Topic5\", \"Topic5\", \"Topic5\", \"Topic5\", \"Topic5\", \"Topic5\", \"Topic5\", \"Topic5\", \"Topic5\", \"Topic5\", \"Topic5\", \"Topic5\", \"Topic5\", \"Topic5\", \"Topic5\", \"Topic5\", \"Topic5\", \"Topic5\", \"Topic5\", \"Topic5\", \"Topic5\", \"Topic5\", \"Topic5\", \"Topic5\", \"Topic5\", \"Topic5\", \"Topic5\", \"Topic5\", \"Topic5\", \"Topic5\", \"Topic5\", \"Topic5\", \"Topic5\", \"Topic5\", \"Topic5\", \"Topic5\", \"Topic5\", \"Topic5\", \"Topic5\", \"Topic5\", \"Topic5\", \"Topic5\", \"Topic5\", \"Topic5\", \"Topic5\", \"Topic5\", \"Topic5\", \"Topic5\"], \"logprob\": [30.0, 29.0, 28.0, 27.0, 26.0, 25.0, 24.0, 23.0, 22.0, 21.0, 20.0, 19.0, 18.0, 17.0, 16.0, 15.0, 14.0, 13.0, 12.0, 11.0, 10.0, 9.0, 8.0, 7.0, 6.0, 5.0, 4.0, 3.0, 2.0, 1.0, -6.5002, -6.6413, -6.7246, -7.0021, -7.0023, -7.1213, -7.2476, -6.5009, -7.3967, -7.3967, -7.3968, -7.3969, -7.398, -7.3982, -7.5713, -7.5724, -7.5725, -7.5727, -7.5729, -7.5732, -7.5737, -7.5741, -7.574, -7.5758, -7.5775, -7.5774, -7.7858, -7.786, -7.7861, -7.7861, -7.0034, -6.4366, -6.8055, -6.8055, -6.3198, -6.7199, -7.1174, -7.1226, -6.568, -6.4998, -7.247, -7.2472, -6.8989, -6.5048, -6.641, -6.7198, -6.9051, -7.1168, -5.5159, -5.8826, -5.4331, -6.6432, -6.4999, -5.6597, -6.12, -4.9833, -5.5274, -5.4311, -6.5677, -5.0254, -5.9943, -6.2657, -6.1247, -6.4992, -5.8127, -6.1215, -6.3231, -6.2646, -6.3189, -6.2158, -6.3753, -6.2668, -6.2671, -6.3766, -6.4367, -6.4361, -6.3746, -6.4326, -6.4963, -6.4979, -6.2631, -6.6569, -6.7606, -6.8751, -6.8752, -6.8752, -6.8752, -6.8755, -6.8758, -7.0048, -7.005, -7.0053, -7.0053, -7.0099, -7.1558, -7.156, -7.1593, -7.33, -7.3308, -7.3309, -7.331, -7.331, -7.3313, -7.3313, -7.3348, -7.5439, -7.5442, -7.5442, -7.5442, -7.5442, -6.7605, -6.3994, -7.155, -7.1575, -6.3986, -6.4778, -6.5637, -5.2861, -5.714, -4.4991, -7.0065, -6.8748, -6.7589, -6.8851, -6.5709, -5.1224, -6.2549, -5.8803, -6.3265, -6.0792, -5.6748, -5.8797, -5.922, -6.2594, -6.1347, -6.0223, -6.3253, -5.9201, -6.0317, -6.3981, -6.4785, -6.2577, -6.1941, -6.4738, -6.2528, -6.476, -6.3954, -6.476, -6.4748, -6.2664, -5.9244, -6.0028, -6.5135, -6.7504, -6.7543, -7.0611, -7.0621, -7.0627, -6.8643, -7.0701, -7.1928, -7.1932, -6.3813, -7.0811, -7.0828, -7.0854, -7.3421, -7.3427, -7.3428, -7.3432, -7.362, -7.3626, -7.3631, -7.3633, -7.5181, -7.5184, -7.5188, -7.3666, -7.3672, -6.4446, -6.0104, -6.4123, -6.3218, -6.6654, -6.3389, -4.1895, -6.3818, -6.2653, -6.5138, -5.9005, -6.02, -5.4822, -6.2128, -5.8902, -6.0182, -5.856, -6.4572, -6.0907, -5.7567, -6.154, -6.5859, -5.7328, -5.9504, -6.0633, -5.6289, -6.1225, -6.0181, -6.0602, -6.1733, -6.3802, -6.3774, -6.3694, -6.293, -6.8252, -6.826, -6.9016, -6.9016, -6.9767, -6.978, -6.2916, -7.1566, -7.1596, -7.26, -7.3739, -7.3755, -7.3777, -7.3783, -7.5042, -7.505, -7.5051, -7.5052, -7.5054, -6.7577, -7.6541, -7.6546, -7.6546, -7.6547, -7.655, -7.6551, -7.6555, -6.8258, -7.6573, -6.5241, -7.1563, -6.8922, -6.1051, -6.8255, -6.9006, -5.3625, -7.1569, -6.5577, -6.4238, -5.2859, -6.7583, -6.6336, -4.7931, -5.7345, -5.6125, -6.4551, -6.0037, -6.0189, -6.2379, -5.837, -5.0333, -6.1743, -5.7346, -5.9746, -5.9403, -6.2116, -6.3746, -6.4729, -5.8652, -6.1359, -5.9738, -5.8232, -6.025, -6.424, -6.0929, -6.1737, -6.2917, -6.4227, -6.3806, -6.422, -6.4366, -6.6197, -6.8338, -6.834, -6.9639, -6.964, -7.1155, -7.1192, -7.122, -7.1233, -7.289, -7.2892, -7.2894, -7.2894, -7.2909, -7.2913, -7.2938, -7.2963, -7.5027, -7.5028, -7.5028, -7.5029, -7.503, -7.503, -7.5031, -7.5031, -7.5031, -7.5031, -7.5031, -7.5032, -6.436, -6.6188, -6.5239, -6.5251, -6.834, -6.1521, -6.4339, -4.4894, -6.5212, -6.8335, -6.2837, -6.4161, -5.4933, -5.6706, -6.035, -6.2161, -4.8929, -6.3616, -5.496, -6.026, -6.2193, -6.0911, -5.7397, -6.1536, -6.0894, -5.8301, -6.4285, -6.5265, -6.4382, -6.088, -6.4345, -6.1506, -6.3574, -6.3235, -6.3534, -6.4389, -6.4301, -6.435], \"loglift\": [30.0, 29.0, 28.0, 27.0, 26.0, 25.0, 24.0, 23.0, 22.0, 21.0, 20.0, 19.0, 18.0, 17.0, 16.0, 15.0, 14.0, 13.0, 12.0, 11.0, 10.0, 9.0, 8.0, 7.0, 6.0, 5.0, 4.0, 3.0, 2.0, 1.0, 1.4969, 1.4896, 1.4805, 1.4659, 1.4658, 1.4528, 1.4444, 1.4364, 1.4294, 1.4293, 1.4292, 1.4291, 1.4281, 1.4277, 1.4094, 1.4084, 1.4083, 1.4081, 1.408, 1.4076, 1.4071, 1.4069, 1.4067, 1.4052, 1.4037, 1.4033, 1.3784, 1.3781, 1.378, 1.378, 1.3764, 1.339, 1.337, 1.3322, 1.2768, 1.2922, 1.3449, 1.3395, 1.1974, 1.1755, 1.3359, 1.3283, 1.241, 1.1064, 1.1429, 1.1635, 1.1843, 1.2748, 0.4944, 0.6683, 0.3971, 1.0377, 0.937, 0.4245, 0.6817, -0.0377, 0.2869, 0.209, 0.9327, -0.325, 0.4583, 0.6687, 0.3867, 0.8333, -0.103, 0.1536, 0.4702, 0.133, 0.2335, -0.0608, 0.3086, -0.0611, -0.1868, -0.027, 0.3527, 0.315, -0.4061, -0.0015, -0.252, 0.2627, 1.8119, 1.791, 1.7821, 1.7724, 1.7722, 1.7722, 1.7722, 1.7719, 1.7716, 1.7597, 1.7594, 1.7591, 1.7591, 1.7547, 1.7411, 1.7408, 1.7373, 1.7198, 1.7189, 1.7188, 1.7188, 1.7187, 1.7185, 1.7184, 1.7148, 1.6863, 1.686, 1.686, 1.686, 1.686, 1.6809, 1.4844, 1.6006, 1.5977, 1.3797, 1.3943, 1.4181, 0.9283, 0.9527, 0.2014, 1.5305, 1.4491, 1.3578, 1.4379, 1.1436, -0.1768, 0.8448, 0.3639, 0.7829, 0.4733, -0.0346, 0.1307, 0.1583, 0.6623, 0.4681, 0.1328, 0.6158, -0.1058, -0.0631, 0.6836, 0.8422, 0.2403, 0.0117, 0.5204, -0.5431, 0.2956, -0.5652, -0.201, -0.3549, 1.5704, 1.563, 1.5615, 1.5599, 1.5465, 1.5427, 1.5239, 1.5229, 1.5223, 1.5215, 1.5144, 1.5102, 1.5098, 1.5056, 1.5055, 1.5039, 1.5016, 1.4947, 1.4941, 1.494, 1.4938, 1.4765, 1.4759, 1.4755, 1.4753, 1.4732, 1.473, 1.4725, 1.4723, 1.4717, 1.4496, 1.4168, 1.4313, 1.3548, 1.3045, 1.1775, 0.511, 1.162, 1.0921, 1.1428, 0.8506, 0.8774, 0.549, 0.863, 0.5627, 0.4798, 0.2638, 0.8723, 0.4601, 0.0576, 0.4777, 0.969, -0.0926, 0.1299, 0.2863, -0.6834, 0.0325, -0.3083, -0.23, -0.0892, 0.5223, 0.242, -0.4008, 1.1995, 1.1803, 1.1795, 1.1738, 1.1735, 1.1727, 1.1715, 1.1637, 1.1612, 1.1586, 1.1539, 1.1461, 1.1447, 1.1426, 1.1424, 1.1349, 1.1342, 1.134, 1.1339, 1.1337, 1.1262, 1.12, 1.1196, 1.1196, 1.1195, 1.1192, 1.1191, 1.1188, 1.1186, 1.1171, 1.1108, 1.0869, 1.0608, 0.9582, 1.0073, 0.9964, 0.6061, 1.0087, 0.8515, 0.7979, 0.4238, 0.8938, 0.8446, 0.1525, 0.4712, 0.4187, 0.7159, 0.4792, 0.4122, 0.5336, 0.2829, -0.3329, 0.4446, 0.0796, 0.2696, 0.1439, 0.4079, 0.5681, 0.666, -0.035, 0.2617, 0.0366, -0.1831, 0.0554, 0.598, 0.0621, 0.176, 0.27, 0.504, 0.0719, 0.2871, 1.8681, 1.8505, 1.8358, 1.8356, 1.8224, 1.8222, 1.8025, 1.7984, 1.7954, 1.7937, 1.7815, 1.7813, 1.7811, 1.7811, 1.7795, 1.7789, 1.7764, 1.7735, 1.7473, 1.7472, 1.7472, 1.7471, 1.7471, 1.747, 1.747, 1.747, 1.7469, 1.7469, 1.7469, 1.7468, 1.7115, 1.6066, 1.5398, 1.4913, 1.5307, 1.1801, 1.2922, 0.4562, 1.3105, 1.437, 1.1608, 1.2116, 0.721, 0.6045, 0.8645, 0.9747, -0.1925, 0.9614, 0.1441, 0.6259, 0.7588, 0.5928, 0.0904, 0.4882, 0.3934, -0.1203, 0.8161, 0.9952, 0.8216, -0.0776, 0.7766, -0.0308, 0.4768, 0.1745, -0.2731, 0.5037, -0.2751, 0.0178]}, \"token.table\": {\"Topic\": [5, 3, 1, 1, 2, 3, 4, 5, 2, 3, 1, 2, 3, 4, 1, 2, 3, 4, 5, 4, 1, 3, 4, 5, 1, 3, 4, 1, 2, 4, 5, 1, 2, 3, 4, 5, 1, 2, 3, 4, 5, 1, 3, 4, 5, 1, 4, 1, 5, 4, 4, 1, 1, 2, 4, 5, 1, 3, 4, 5, 3, 1, 2, 3, 1, 2, 3, 4, 5, 1, 2, 4, 1, 2, 3, 4, 5, 4, 4, 1, 2, 3, 4, 5, 2, 1, 2, 4, 5, 1, 2, 3, 4, 5, 2, 3, 4, 5, 1, 2, 3, 4, 5, 1, 3, 4, 5, 1, 2, 3, 4, 5, 2, 3, 4, 5, 2, 3, 2, 1, 2, 3, 4, 2, 3, 1, 2, 3, 4, 5, 3, 1, 2, 3, 4, 5, 4, 1, 1, 2, 3, 4, 5, 1, 2, 3, 4, 5, 1, 2, 3, 4, 5, 1, 5, 1, 2, 5, 5, 1, 2, 5, 1, 1, 2, 3, 4, 5, 3, 1, 2, 4, 3, 1, 2, 3, 4, 5, 2, 3, 4, 4, 2, 1, 4, 1, 2, 3, 4, 5, 1, 3, 4, 1, 2, 3, 4, 5, 2, 1, 2, 3, 4, 5, 2, 1, 2, 3, 1, 4, 5, 1, 2, 4, 5, 5, 1, 3, 4, 5, 1, 2, 3, 4, 1, 2, 3, 4, 1, 2, 3, 4, 5, 1, 2, 3, 4, 5, 5, 1, 2, 3, 4, 5, 1, 2, 3, 5, 1, 2, 3, 4, 5, 1, 2, 3, 4, 5, 2, 1, 2, 3, 4, 5, 4, 2, 2, 1, 3, 4, 4, 1, 2, 2, 4, 5, 1, 5, 1, 2, 4, 5, 1, 2, 3, 4, 5, 1, 1, 2, 3, 4, 5, 1, 2, 3, 4, 5, 5, 3, 4, 2, 5, 1, 2, 4, 1, 2, 1, 3, 4, 1, 2, 3, 5, 1, 5, 4, 3, 5, 5, 3, 4, 4, 1, 2, 3, 4, 5, 3, 4, 5, 1, 2, 3, 4, 5, 3, 4, 4, 5, 2, 3, 4, 5, 3, 5, 1, 2, 3, 4, 5, 2, 1, 2, 3, 4, 5, 4, 1, 2, 3, 4, 5, 1, 2, 3, 4, 5, 1, 1, 2, 3, 4, 5, 1, 2, 3, 4, 5, 1, 2, 3, 4, 5, 2, 3, 4, 1, 2, 3, 4, 5, 1, 1, 2, 3, 4, 5, 2, 4, 1, 2, 3, 4, 5, 1, 2, 3, 4, 5, 1, 5, 5, 5, 3, 2, 5, 3, 5, 1, 2, 3, 4, 5, 1, 1, 2, 3, 4, 5, 3, 5, 4, 1, 2, 4, 5, 1, 3, 1, 2, 3, 1, 2, 4, 5, 1, 2, 3, 4, 5, 1, 2, 3, 4, 5, 5, 1, 2, 3, 4, 5, 2, 3, 1, 2, 4, 5, 4, 5, 1, 2, 3, 4, 5, 1, 2, 3, 4, 5, 4, 3, 4, 1, 2, 3, 4, 5, 5, 2, 1, 1, 1, 2, 3, 4, 5, 3, 5, 2, 1, 2, 3, 4, 5, 1, 3, 3, 2, 1, 2, 3, 4, 5, 1, 1, 2, 3, 4, 5, 1, 2, 3, 4, 5, 4, 5, 2, 5, 1, 2, 3, 4, 5, 1, 3, 1, 2, 3, 4, 5, 1, 2, 3, 5, 1, 3, 5, 1, 2, 3, 4, 5, 1, 1, 3, 2, 2, 2, 1, 5, 5, 5, 3, 1, 2, 4, 1, 1, 2, 3, 4, 1, 1, 1, 3, 4, 5, 1, 2, 3, 4, 5, 5, 1, 2, 3, 4, 5, 1, 3, 5, 4, 2, 2, 1, 2, 3, 4, 5, 3, 1, 2, 3, 4, 5, 1, 2, 3, 4, 5, 5, 1, 1, 2, 3, 1, 2, 3, 4, 5, 1, 1, 3, 1, 2, 3, 4, 5, 3, 1, 3, 1, 2, 3, 5, 2, 3, 4, 5, 1, 2, 3, 4, 5, 1, 2, 3, 4, 5, 2, 4, 2, 1, 2, 3, 4, 5, 3, 1, 2, 3, 4, 5, 1, 2, 3, 4, 5, 4, 3, 1, 4, 5, 1, 3, 4, 5, 2, 3, 3, 1, 2, 3, 4, 5, 2, 5, 3, 5, 4, 5, 2, 1, 2, 3, 2, 1, 2, 3, 4, 5, 1, 2, 3, 4, 5, 1, 2, 3, 4, 5, 4], \"Freq\": [0.8447832097908063, 0.9330193811218213, 0.9213801799277579, 0.1547912488117361, 0.18753555144498796, 0.3304197811173597, 0.2083728349388755, 0.11907019139364315, 0.9219267302067377, 0.8703588753252127, 0.6500074686757064, 0.13000149373514128, 0.13000149373514128, 0.06500074686757064, 0.31254369919460817, 0.168292761104789, 0.2404182301496986, 0.1202091150748493, 0.168292761104789, 0.9367576095127208, 0.07277794311424998, 0.07277794311424998, 0.8005573742567499, 0.07277794311424998, 0.10223743497249707, 0.6134246098349825, 0.25559358743124266, 0.0820073494147633, 0.1640146988295266, 0.0820073494147633, 0.6560587953181064, 0.24155133772849158, 0.18787326267771567, 0.026839037525387955, 0.21471230020310364, 0.3489074878300434, 0.1774649132262405, 0.1774649132262405, 0.2247888900865713, 0.3076058495921502, 0.10647894793574429, 0.04974025076750007, 0.6466232599775009, 0.19896100307000028, 0.09948050153500014, 0.07630989169170709, 0.915718700300485, 0.7160344648511588, 0.2386781549503863, 0.8748991835372303, 0.8748637457057683, 0.7751769984583206, 0.9213054883648055, 0.6691987914426426, 0.3345993957213213, 0.8075621920854427, 0.15809333826699173, 0.0632373353067967, 0.7588480236815603, 0.03161866765339835, 0.9315202206520234, 0.07181771373201053, 0.6463594235880947, 0.21545314119603157, 0.1033813128125424, 0.1033813128125424, 0.5169065640627121, 0.2067626256250848, 0.0516906564062712, 0.7018444456804623, 0.06380404051640566, 0.191412121549217, 0.040585037974167223, 0.39232203375028313, 0.1623401518966689, 0.10822676793111259, 0.29762361181055963, 0.9171874029161006, 0.9501765690741568, 0.16007680081080558, 0.12806144064864447, 0.48023040243241677, 0.12806144064864447, 0.12806144064864447, 0.9219076433981763, 0.09066707475039551, 0.6346695232527686, 0.18133414950079102, 0.18133414950079102, 0.20459085533748234, 0.13639390355832154, 0.06819695177916077, 0.5796740901228666, 0.034098475889580385, 0.48509891606346695, 0.24254945803173347, 0.24254945803173347, 0.06063736450793337, 0.13754082666199882, 0.14812089025138334, 0.13754082666199882, 0.5395832430586107, 0.0423202543575381, 0.5863422714770894, 0.11726845429541789, 0.17590268144312682, 0.11726845429541789, 0.13404717015046091, 0.044682390050153634, 0.044682390050153634, 0.6702358507523045, 0.08936478010030727, 0.03521171655568696, 0.21127029933412178, 0.5985991814466783, 0.14084686622274784, 0.8780972944865957, 0.12544247064094224, 0.9247879697013238, 0.9213095441950051, 0.8663677127252113, 0.959338722887329, 0.8748369232204385, 0.9219824419490086, 0.8695783121881768, 0.20117572384946125, 0.160940579079569, 0.1475288641562716, 0.46941002231540957, 0.026823429846594832, 0.9550686138884256, 0.2027375148901327, 0.12164250893407962, 0.14191626042309288, 0.44602253275829196, 0.08109500595605308, 0.9734514286201397, 0.8605104150504274, 0.28108490156262794, 0.13600882333675546, 0.2085468624496917, 0.31735392111909605, 0.05440352933470218, 0.2655771556199146, 0.24660735878992068, 0.2276375619599268, 0.2086677651299329, 0.0569093904899817, 0.08485718366390042, 0.08485718366390042, 0.594000285647303, 0.12728577549585063, 0.12728577549585063, 0.18699390143572983, 0.8414725564607842, 0.5000833795978519, 0.10001667591957036, 0.40006670367828145, 0.8752952417106378, 0.13802167446626415, 0.6901083723313207, 0.13802167446626415, 0.860524451474544, 0.11370111039705266, 0.07580074026470178, 0.18950185066175443, 0.2653025909264562, 0.341103331191158, 0.8688217999587193, 0.7349542474813873, 0.16332316610697495, 0.9734110518250363, 0.9332699822148692, 0.08075750879006242, 0.08075750879006242, 0.3230300351602497, 0.34994920475693714, 0.13459584798343738, 0.0769684639485313, 0.0769684639485313, 0.8466531034338443, 0.9712893428968808, 0.8281931539393773, 0.0467916381487682, 0.9358327629753641, 0.4966246125969432, 0.08277076876615719, 0.041385384383078594, 0.33108307506462875, 0.08277076876615719, 0.13651418860015854, 0.06825709430007927, 0.8190851316009513, 0.19390608195948456, 0.5817182458784537, 0.06463536065316151, 0.06463536065316151, 0.06463536065316151, 0.9218792190340765, 0.21060313766678487, 0.1148744387273372, 0.2297488774546744, 0.3829147957577907, 0.07658295915155813, 0.8663146727544588, 0.8331999230546125, 0.09257776922829028, 0.09257776922829028, 0.7685541518622405, 0.12809235864370677, 0.8077912445965937, 0.6561954720367836, 0.0546829560030653, 0.1093659120061306, 0.2187318240122612, 0.9411310956582095, 0.23088929701672894, 0.07696309900557631, 0.3463339455250934, 0.30785239602230524, 0.754490285309721, 0.05389216323640864, 0.1616764897092259, 0.9171112203411315, 0.07098690397671717, 0.6388821357904545, 0.14197380795343434, 0.14197380795343434, 0.24823104392373999, 0.08274368130791332, 0.1103249084105511, 0.49646208784747997, 0.05516245420527555, 0.13243872907827633, 0.33109682269569085, 0.09932904680870726, 0.26487745815655267, 0.13243872907827633, 0.8447648228758817, 0.2322811144129569, 0.20324597511133727, 0.058070278603239225, 0.2322811144129569, 0.3193865323178157, 0.08179165046850619, 0.36806242710827786, 0.44985407757678403, 0.12268747570275929, 0.21557278111258873, 0.19760838268653969, 0.3233591716688831, 0.10778639055629437, 0.1796439842604906, 0.32066174361002364, 0.08313452612111724, 0.17814541311667978, 0.33253810448446897, 0.08313452612111724, 0.8281808965464271, 0.10632599071325148, 0.40403876471035566, 0.1275911888559018, 0.21265198142650296, 0.17012158514120237, 0.9500534651199418, 0.866323782095077, 0.9219120936790046, 0.9213880685124227, 0.7589782633010188, 0.1751488299925428, 0.874867064486977, 0.9652868577885387, 0.8837805616511792, 0.6685252073025443, 0.33426260365127214, 0.9455298245176359, 0.705762667113224, 0.264661000167459, 0.742273085426391, 0.09278413567829888, 0.09278413567829888, 0.09278413567829888, 0.5384215477151215, 0.24473706714323706, 0.09789482685729484, 0.04894741342864742, 0.09789482685729484, 0.8608234806884463, 0.3095100833655332, 0.1274453284446313, 0.18206475492090188, 0.291303607873443, 0.07282590196836075, 0.20398092222066927, 0.1784833069430856, 0.20398092222066927, 0.3059713833310039, 0.11473926874912646, 0.844737637899767, 0.07183143975765657, 0.9338087168495354, 0.20213274606372772, 0.707464611223047, 0.8669949439925607, 0.14449915733209345, 0.9762399238640681, 0.8372117759439212, 0.18604706132087137, 0.5512999916304913, 0.3675333277536608, 0.0918833319384152, 0.1716712409005006, 0.11444749393366707, 0.6294612166351689, 0.057223746966833536, 0.9669354997384941, 0.903776321525353, 0.8748170083238163, 0.8688429335870949, 0.8447387214440562, 0.9409273485442095, 0.8645617665065942, 0.07204681387554952, 0.9368857346202887, 0.06818131406063938, 0.13636262812127875, 0.13636262812127875, 0.20454394218191813, 0.545450512485115, 0.17196397507211186, 0.17196397507211186, 0.6878559002884475, 0.3008068595194616, 0.04627797838760948, 0.46277978387609475, 0.13883393516282844, 0.04627797838760948, 0.8683798954529893, 0.8750244495409357, 0.9171937248048654, 0.9412188960279511, 0.055597921460718736, 0.055597921460718736, 0.38918545022503115, 0.5003812931464686, 0.9663518394627724, 0.04831759197313862, 0.28030278492627997, 0.09343426164209331, 0.14015139246313998, 0.3970956119788966, 0.11679282705261665, 0.9716459391866203, 0.11077552086936064, 0.11077552086936064, 0.2584762153618415, 0.3815601274389089, 0.1353923032847741, 0.8748328275178943, 0.13965549257913554, 0.23940941584994663, 0.23940941584994663, 0.23940941584994663, 0.13965549257913554, 0.2898196226190232, 0.2898196226190232, 0.1610109014550129, 0.1610109014550129, 0.06440436058200516, 0.8605131141441767, 0.15168301520378955, 0.15168301520378955, 0.09100980912227373, 0.5157222516928844, 0.06067320608151582, 0.1401201828333246, 0.056048073133329844, 0.056048073133329844, 0.5044326581999685, 0.22419229253331938, 0.1466119999558597, 0.07330599997792984, 0.1466119999558597, 0.2932239999117194, 0.3298769999006843, 0.09519795943687345, 0.09519795943687345, 0.7615836754949876, 0.16762509459563327, 0.08381254729781663, 0.25143764189344986, 0.23048450506899573, 0.27239077871790407, 0.9018105734176082, 0.2812684930626254, 0.08654415171157705, 0.12981622756736558, 0.2163603792789426, 0.25963245513473115, 0.8281982821677545, 0.8867713165997154, 0.2590263918133223, 0.1447500424839154, 0.18284215892705105, 0.24378954523606805, 0.16760531234979678, 0.20540446746438018, 0.129328738773869, 0.09889844729766453, 0.33853699267277476, 0.22822718607153353, 0.3171936239965459, 0.6343872479930918, 0.8447642320118324, 0.844758831339535, 0.9313438286064845, 0.9248349466072099, 0.8447469644433063, 0.9329769438763625, 0.8854108246571403, 0.24436893635789692, 0.12937178983653366, 0.12937178983653366, 0.2299942930427265, 0.2587435796730673, 0.9017993694612297, 0.3379168285938518, 0.07241074898439681, 0.14482149796879362, 0.36205374492198406, 0.07241074898439681, 0.7045554057825364, 0.23485180192751215, 0.9171963931177778, 0.28960922065563366, 0.16549098323179068, 0.08274549161589534, 0.45510020388742434, 0.8604742430088705, 0.9770936913187596, 0.91954143814463, 0.9247997293110002, 0.9329256745231471, 0.04099395776773894, 0.28695770437417256, 0.28695770437417256, 0.3689456199096504, 0.22818074911773106, 0.08297481786099312, 0.14520593125673795, 0.3111555669787242, 0.22818074911773106, 0.2410741663405288, 0.18750212937596683, 0.4821483326810576, 0.08035805544684294, 0.026786018482280977, 0.8447961913919327, 0.041259159579703546, 0.12377747873911064, 0.4951099149564426, 0.16503663831881418, 0.16503663831881418, 0.6869826894555149, 0.17174567236387872, 0.6997315179555087, 0.058310959829625725, 0.17493287948887717, 0.058310959829625725, 0.823112045810743, 0.10288900572634288, 0.19673625371043896, 0.3606831318024714, 0.06557875123681298, 0.16394687809203246, 0.19673625371043896, 0.4137935938884991, 0.048681599280999896, 0.07302239892149984, 0.4137935938884991, 0.048681599280999896, 0.956859115780041, 0.8702508059847303, 0.9566174816308, 0.11192007191639425, 0.27980017979098565, 0.27980017979098565, 0.11192007191639425, 0.19586012585368995, 0.9411889170921358, 0.9565062714260003, 0.8604535013866415, 0.8913176262866569, 0.23617776216246142, 0.21255998594621528, 0.18894220972996914, 0.30703109081119984, 0.07085332864873842, 0.9392496765155114, 0.05218053758419508, 0.791049322434329, 0.4169130971042679, 0.11117682589447143, 0.05558841294723572, 0.36132468415703217, 0.05558841294723572, 0.8379759863395458, 0.12891938251377627, 0.8696090134007738, 0.8281997935665419, 0.03704442897323492, 0.11113328691970475, 0.14817771589293968, 0.6667997215182285, 0.07408885794646984, 0.7752361676288003, 0.14374142281812474, 0.08213795589607129, 0.32855182358428514, 0.32855182358428514, 0.12320693384410693, 0.09010784498731504, 0.06758088374048628, 0.3491678993258458, 0.43927574431316085, 0.0563174031170719, 0.8871835861326809, 0.8447626229937838, 0.9248083431327304, 0.8080991914649719, 0.3132356193525088, 0.08291531100507588, 0.1566178096762544, 0.2855971823508169, 0.1566178096762544, 0.8605825639909113, 0.14343042733181854, 0.21843553087472853, 0.1176191320094692, 0.16802733144209886, 0.43687106174945706, 0.06721093257683955, 0.1161796006658328, 0.1161796006658328, 0.1161796006658328, 0.6970776039949969, 0.06899015816586618, 0.8278818979903942, 0.06899015816586618, 0.20114751654553717, 0.10057375827276858, 0.12571719784096072, 0.35200815395469004, 0.22629095611372932, 0.8606112434769102, 0.9214661880263445, 0.9776894171114643, 0.9217008064750163, 0.828190884704517, 0.9219362591307443, 0.8604725928072523, 0.9412349779627587, 0.8447782476866311, 0.8854337379918257, 0.9333180027413045, 0.15844322649916986, 0.6337729059966795, 0.15844322649916986, 0.8607340236176697, 0.14362432571147385, 0.09574955047431591, 0.09574955047431591, 0.6702468533202114, 0.7752263919791852, 0.8594607611410122, 0.12268275163868407, 0.12268275163868407, 0.1840241274580261, 0.5520723823740783, 0.4166569910035136, 0.09469477068261674, 0.3219622203208969, 0.09469477068261674, 0.09469477068261674, 0.8447467215160761, 0.059011241942152404, 0.26555058873968584, 0.26555058873968584, 0.23604496776860961, 0.1770337258264572, 0.7751955655295788, 0.9314080746753364, 0.9455484568177366, 0.9172013161246809, 0.7911610949229726, 0.7912453070717976, 0.18887925253006085, 0.0858542056954822, 0.3434168227819288, 0.22322093480825372, 0.15453757025186796, 0.8696006520962332, 0.19967459590132672, 0.15530246347880966, 0.19967459590132672, 0.39934919180265344, 0.0887442648450341, 0.3530167183658695, 0.17650835918293475, 0.04412708979573369, 0.2978578561212024, 0.13238126938720107, 0.8447459636163448, 0.9213758808068497, 0.8256724291796835, 0.11795320416852623, 0.8688285932184139, 0.6460998124048772, 0.07178886804498635, 0.07178886804498635, 0.1435777360899727, 0.07178886804498635, 0.8605605267999208, 0.9092116097795242, 0.07576763414829368, 0.1419864707363015, 0.06085134460127207, 0.24340537840508827, 0.44624319374266186, 0.10141890766878679, 0.9330046067334931, 0.8604357155851651, 0.9492005332345501, 0.8604066686567744, 0.09098859399451863, 0.8188973459506675, 0.09098859399451863, 0.17090705414113305, 0.11393803609408872, 0.7405972346115767, 0.9405328701368855, 0.10616682942671074, 0.07077788628447383, 0.14155577256894766, 0.47775073242019833, 0.21233365885342148, 0.16530531699408488, 0.1416902717092156, 0.11807522642434634, 0.49591595098225466, 0.0708451358546078, 0.8662929347790158, 0.9499306122051281, 0.8664833686958314, 0.16725770028301407, 0.22301026704401877, 0.13938141690251174, 0.37632982563678163, 0.08362885014150703, 0.8705613383711803, 0.20134475408513183, 0.10841640604584021, 0.26329698611132624, 0.3407372761440693, 0.06195223202619441, 0.2437398762421756, 0.11374527557968195, 0.1787425759109288, 0.37373447690466927, 0.08124662541405854, 0.9504589106071167, 0.9770346143430677, 0.7683488656583194, 0.12805814427638657, 0.8072971745221174, 0.2777444271278422, 0.09258147570928073, 0.1388722135639211, 0.4629073785464036, 0.68675139374297, 0.1716878484357425, 0.9776494856759925, 0.18785397971845733, 0.08984320769143611, 0.14701615804053184, 0.44921603845718056, 0.13068102936936163, 0.9219250988779829, 0.9409008438863314, 0.9313392766587945, 0.9412007453953378, 0.8960113493136572, 0.11200141866420715, 0.92481021767009, 0.07257101817164298, 0.07257101817164298, 0.8708522180597157, 0.9248140688742461, 0.1436616942215022, 0.0718308471107511, 0.0718308471107511, 0.2873233884430044, 0.39506965910913105, 0.16466994276842137, 0.30189489507543915, 0.1372249523070178, 0.2744499046140356, 0.10977996184561424, 0.34332435202238415, 0.06866487040447683, 0.17166217601119207, 0.30899191682014576, 0.10299730560671524, 0.874863922367448], \"Term\": [\"aarp\", \"abstract\", \"accountsign\", \"ai\", \"ai\", \"ai\", \"ai\", \"ai\", \"aiml\", \"aip\", \"air\", \"air\", \"air\", \"air\", \"also\", \"also\", \"also\", \"also\", \"also\", \"api\", \"apple\", \"apple\", \"apple\", \"apple\", \"application\", \"application\", \"application\", \"apr\", \"apr\", \"apr\", \"apr\", \"article\", \"article\", \"article\", \"article\", \"article\", \"artificial\", \"artificial\", \"artificial\", \"artificial\", \"artificial\", \"assessment\", \"assessment\", \"assessment\", \"assessment\", \"australian\", \"australian\", \"battlefield\", \"battlefield\", \"bbc\", \"beijing\", \"bend\", \"bernardino\", \"bing\", \"bing\", \"bone\", \"bot\", \"bot\", \"bot\", \"bot\", \"box\", \"breast\", \"breast\", \"breast\", \"california\", \"california\", \"california\", \"california\", \"california\", \"camera\", \"camera\", \"camera\", \"cancer\", \"cancer\", \"cancer\", \"cancer\", \"cancer\", \"cardiac\", \"cartoon\", \"case\", \"case\", \"case\", \"case\", \"case\", \"causal\", \"chat\", \"chat\", \"chat\", \"chat\", \"chatbot\", \"chatbot\", \"chatbot\", \"chatbot\", \"chatbot\", \"chatbots\", \"chatbots\", \"chatbots\", \"chatbots\", \"chatgpt\", \"chatgpt\", \"chatgpt\", \"chatgpt\", \"chatgpt\", \"child\", \"child\", \"child\", \"child\", \"china\", \"china\", \"china\", \"china\", \"china\", \"chinese\", \"chinese\", \"chinese\", \"chinese\", \"christian\", \"christian\", \"christians\", \"cisos\", \"clearview\", \"climate\", \"clothing\", \"cnil\", \"colucci\", \"company\", \"company\", \"company\", \"company\", \"company\", \"cooky\", \"could\", \"could\", \"could\", \"could\", \"could\", \"ctv\", \"dame\", \"data\", \"data\", \"data\", \"data\", \"data\", \"day\", \"day\", \"day\", \"day\", \"day\", \"death\", \"death\", \"death\", \"death\", \"death\", \"delay\", \"delay\", \"delhi\", \"delhi\", \"delhi\", \"depression\", \"detection\", \"detection\", \"detection\", \"dgca\", \"digital\", \"digital\", \"digital\", \"digital\", \"digital\", \"digitalocean\", \"driver\", \"driver\", \"dunya\", \"effectiveness\", \"email\", \"email\", \"email\", \"email\", \"email\", \"entity\", \"entity\", \"entity\", \"ernie\", \"erny\", \"error\", \"error\", \"face\", \"face\", \"face\", \"face\", \"face\", \"fake\", \"fake\", \"fake\", \"fear\", \"fear\", \"fear\", \"fear\", \"fear\", \"firefly\", \"first\", \"first\", \"first\", \"first\", \"first\", \"fitr\", \"flight\", \"flight\", \"flight\", \"fox\", \"fox\", \"fracture\", \"fraud\", \"fraud\", \"fraud\", \"fraud\", \"funding\", \"future\", \"future\", \"future\", \"future\", \"game\", \"game\", \"game\", \"geeky\", \"generative\", \"generative\", \"generative\", \"generative\", \"get\", \"get\", \"get\", \"get\", \"get\", \"google\", \"google\", \"google\", \"google\", \"google\", \"governance\", \"government\", \"government\", \"government\", \"government\", \"government\", \"gray\", \"gray\", \"gray\", \"gray\", \"group\", \"group\", \"group\", \"group\", \"group\", \"ha\", \"ha\", \"ha\", \"ha\", \"ha\", \"hamden\", \"health\", \"health\", \"health\", \"health\", \"health\", \"heart\", \"hibercell\", \"hindu\", \"historyai\", \"hong\", \"hong\", \"hood\", \"houston\", \"hqr\", \"hyderabad\", \"hyderabad\", \"ideation\", \"illness\", \"illness\", \"incident\", \"incident\", \"incident\", \"incident\", \"india\", \"india\", \"india\", \"india\", \"india\", \"infoaccurate\", \"information\", \"information\", \"information\", \"information\", \"information\", \"intelligence\", \"intelligence\", \"intelligence\", \"intelligence\", \"intelligence\", \"internationalveuerwibbitz\", \"iphone\", \"iphone\", \"ist\", \"ist\", \"italy\", \"italy\", \"jail\", \"jan\", \"jan\", \"jones\", \"jones\", \"jones\", \"judge\", \"judge\", \"judge\", \"judge\", \"july\", \"kejriwal\", \"khan\", \"kilmer\", \"kingdomindianewsfront\", \"knowhow\", \"kong\", \"kong\", \"laredo\", \"launch\", \"launch\", \"launch\", \"launch\", \"launch\", \"launches\", \"launches\", \"launches\", \"law\", \"law\", \"law\", \"law\", \"law\", \"league\", \"lensa\", \"li\", \"linguistic\", \"lung\", \"lung\", \"lung\", \"lung\", \"lunit\", \"lunit\", \"make\", \"make\", \"make\", \"make\", \"make\", \"malware\", \"may\", \"may\", \"may\", \"may\", \"may\", \"mayor\", \"media\", \"media\", \"media\", \"media\", \"media\", \"medical\", \"medical\", \"medical\", \"medical\", \"medical\", \"michiana\", \"microsoft\", \"microsoft\", \"microsoft\", \"microsoft\", \"microsoft\", \"might\", \"might\", \"might\", \"might\", \"might\", \"million\", \"million\", \"million\", \"million\", \"million\", \"min\", \"min\", \"min\", \"model\", \"model\", \"model\", \"model\", \"model\", \"msn\", \"musk\", \"musk\", \"musk\", \"musk\", \"musk\", \"mwc\", \"navigationchevron\", \"new\", \"new\", \"new\", \"new\", \"new\", \"news\", \"news\", \"news\", \"news\", \"news\", \"newsal\", \"newsal\", \"newsbloombergnasastudiosabc\", \"newscnafrance\", \"newsletterssign\", \"newsroomport\", \"newstrendingukraine\", \"ngs\", \"nhs\", \"one\", \"one\", \"one\", \"one\", \"one\", \"ooda\", \"openai\", \"openai\", \"openai\", \"openai\", \"openai\", \"opens\", \"opens\", \"orleans\", \"page\", \"page\", \"page\", \"page\", \"pannun\", \"parliament\", \"passenger\", \"pat\", \"pathologist\", \"patient\", \"patient\", \"patient\", \"patient\", \"people\", \"people\", \"people\", \"people\", \"people\", \"personal\", \"personal\", \"personal\", \"personal\", \"personal\", \"plagiarizing\", \"platform\", \"platform\", \"platform\", \"platform\", \"platform\", \"platforms\", \"platforms\", \"player\", \"player\", \"player\", \"player\", \"pledge\", \"pledge\", \"pm\", \"pm\", \"pm\", \"pm\", \"pm\", \"police\", \"police\", \"police\", \"police\", \"police\", \"poop\", \"practical\", \"prescott\", \"press\", \"press\", \"press\", \"press\", \"press\", \"prone\", \"prostate\", \"psychological\", \"psychotic\", \"public\", \"public\", \"public\", \"public\", \"public\", \"purity\", \"purity\", \"pursuit\", \"read\", \"read\", \"read\", \"read\", \"read\", \"rebekah\", \"rebekah\", \"reporting\", \"reportsemploymentfinancial\", \"request\", \"request\", \"request\", \"request\", \"request\", \"restricts\", \"right\", \"right\", \"right\", \"right\", \"right\", \"risk\", \"risk\", \"risk\", \"risk\", \"risk\", \"roomba\", \"roundup\", \"rundowncoastlinethe\", \"safetylit\", \"said\", \"said\", \"said\", \"said\", \"said\", \"satellite\", \"satellite\", \"say\", \"say\", \"say\", \"say\", \"say\", \"scientific\", \"scientific\", \"scientific\", \"scientific\", \"scope\", \"scope\", \"scope\", \"search\", \"search\", \"search\", \"search\", \"search\", \"seattle\", \"semafor\", \"sensitivity\", \"sep\", \"seriescultural\", \"session\", \"sfj\", \"ship\", \"si\", \"slaughterbots\", \"slide\", \"small\", \"small\", \"small\", \"snap\", \"software\", \"software\", \"software\", \"software\", \"soldier\", \"solehdin\", \"space\", \"space\", \"space\", \"space\", \"state\", \"state\", \"state\", \"state\", \"state\", \"studiorumbleteaser\", \"study\", \"study\", \"study\", \"study\", \"study\", \"submenu\", \"suggesting\", \"suicidal\", \"suisse\", \"surpassing\", \"survey\", \"system\", \"system\", \"system\", \"system\", \"system\", \"tbs\", \"tech\", \"tech\", \"tech\", \"tech\", \"tech\", \"technology\", \"technology\", \"technology\", \"technology\", \"technology\", \"techyahoo\", \"temporarily\", \"tennis\", \"tennis\", \"terrafuse\", \"tesla\", \"tesla\", \"tesla\", \"tesla\", \"tesla\", \"texans\", \"texas\", \"texas\", \"time\", \"time\", \"time\", \"time\", \"time\", \"tissue\", \"tournament\", \"tps\", \"truthgpt\", \"tumor\", \"tumor\", \"tumor\", \"tv\", \"tv\", \"tv\", \"twin\", \"twitter\", \"twitter\", \"twitter\", \"twitter\", \"twitter\", \"u\", \"u\", \"u\", \"u\", \"u\", \"ul\", \"unprocessable\", \"urological\", \"us\", \"us\", \"us\", \"us\", \"us\", \"uscap\", \"use\", \"use\", \"use\", \"use\", \"use\", \"using\", \"using\", \"using\", \"using\", \"using\", \"vacuum\", \"val\", \"variable\", \"variable\", \"vertebra\", \"via\", \"via\", \"via\", \"via\", \"videos\", \"videos\", \"von\", \"wa\", \"wa\", \"wa\", \"wa\", \"wa\", \"watchdog\", \"websites\", \"wei\", \"weibo\", \"west\", \"west\", \"whqr\", \"wildfire\", \"wildfire\", \"wildfire\", \"wilmington\", \"work\", \"work\", \"work\", \"work\", \"work\", \"world\", \"world\", \"world\", \"world\", \"world\", \"year\", \"year\", \"year\", \"year\", \"year\", \"youmore\"]}, \"R\": 30, \"lambda.step\": 0.01, \"plot.opts\": {\"xlab\": \"PC1\", \"ylab\": \"PC2\"}, \"topic.order\": [1, 2, 3, 4, 5]};\n",
       "\n",
       "function LDAvis_load_lib(url, callback){\n",
       "  var s = document.createElement('script');\n",
       "  s.src = url;\n",
       "  s.async = true;\n",
       "  s.onreadystatechange = s.onload = callback;\n",
       "  s.onerror = function(){console.warn(\"failed to load library \" + url);};\n",
       "  document.getElementsByTagName(\"head\")[0].appendChild(s);\n",
       "}\n",
       "\n",
       "if(typeof(LDAvis) !== \"undefined\"){\n",
       "   // already loaded: just create the visualization\n",
       "   !function(LDAvis){\n",
       "       new LDAvis(\"#\" + \"ldavis_el1046418850017900646434471594\", ldavis_el1046418850017900646434471594_data);\n",
       "   }(LDAvis);\n",
       "}else if(typeof define === \"function\" && define.amd){\n",
       "   // require.js is available: use it to load d3/LDAvis\n",
       "   require.config({paths: {d3: \"https://d3js.org/d3.v5\"}});\n",
       "   require([\"d3\"], function(d3){\n",
       "      window.d3 = d3;\n",
       "      LDAvis_load_lib(\"https://cdn.jsdelivr.net/gh/bmabey/pyLDAvis@3.4.0/pyLDAvis/js/ldavis.v3.0.0.js\", function(){\n",
       "        new LDAvis(\"#\" + \"ldavis_el1046418850017900646434471594\", ldavis_el1046418850017900646434471594_data);\n",
       "      });\n",
       "    });\n",
       "}else{\n",
       "    // require.js not available: dynamically load d3 & LDAvis\n",
       "    LDAvis_load_lib(\"https://d3js.org/d3.v5.js\", function(){\n",
       "         LDAvis_load_lib(\"https://cdn.jsdelivr.net/gh/bmabey/pyLDAvis@3.4.0/pyLDAvis/js/ldavis.v3.0.0.js\", function(){\n",
       "                 new LDAvis(\"#\" + \"ldavis_el1046418850017900646434471594\", ldavis_el1046418850017900646434471594_data);\n",
       "            })\n",
       "         });\n",
       "}\n",
       "</script>"
      ],
      "text/plain": [
       "<IPython.core.display.HTML object>"
      ]
     },
     "execution_count": 17,
     "metadata": {},
     "output_type": "execute_result"
    }
   ],
   "source": [
    "%%time\n",
    "\n",
    "lda_display_neg = gensimvis.prepare(lda_model_neg, doc_term_matrix_text_neg, dictionary_text_neg, sort_topics=False, mds='mmds')\n",
    "pyLDAvis.display(lda_display_neg)"
   ]
  },
  {
   "cell_type": "raw",
   "id": "16b19350",
   "metadata": {},
   "source": [
    "### Name Entity Recognition"
   ]
  },
  {
   "cell_type": "code",
   "execution_count": 24,
   "id": "9b7e4619-a47b-4619-83a0-da3228c7fd95",
   "metadata": {},
   "outputs": [],
   "source": [
    "def extract_entities_title(text):\n",
    "    import spacy\n",
    "    nlp = spacy.load(\"en_core_web_sm\")\n",
    "    doc = nlp(str(text))\n",
    "    org_entities = []\n",
    "    for ent in doc.ents:\n",
    "        if ent.label_ in [\"ORG\",\"PERSON\"]:\n",
    "            org_entities.append(ent.text)\n",
    "    return org_entities\n",
    "\n",
    "def extract_entities_text(text):\n",
    "    import spacy\n",
    "    nlp = spacy.load(\"en_core_web_sm\")\n",
    "    doc = nlp(str(text).lower())\n",
    "    org_entities = []\n",
    "    for ent in doc.ents:\n",
    "        if ent.label_ in [\"PERSON\", \"ORG\", \"LOC\"]:\n",
    "            org_entities.append(ent.text)\n",
    "    return org_entities"
   ]
  },
  {
   "cell_type": "code",
   "execution_count": 25,
   "id": "f5ac8f70-31fe-4318-9901-95bc164e2204",
   "metadata": {},
   "outputs": [],
   "source": [
    "nlp = spacy.load(\"en_core_web_sm\")"
   ]
  },
  {
   "cell_type": "code",
   "execution_count": 26,
   "id": "26de5f92-6a7a-4830-8525-56d7a1bea7e5",
   "metadata": {},
   "outputs": [
    {
     "data": {
      "application/vnd.jupyter.widget-view+json": {
       "model_id": "78e8f316652c462dbc904cdf80cd0fcb",
       "version_major": 2,
       "version_minor": 0
      },
      "text/plain": [
       "VBox(children=(HBox(children=(IntProgress(value=0, description='0.00%', max=128), Label(value='0 / 128'))), HB…"
      ]
     },
     "metadata": {},
     "output_type": "display_data"
    },
    {
     "ename": "EOFError",
     "evalue": "",
     "output_type": "error",
     "traceback": [
      "\u001b[1;31m---------------------------------------------------------------------------\u001b[0m",
      "\u001b[1;31mBrokenPipeError\u001b[0m                           Traceback (most recent call last)",
      "File \u001b[1;32m~\\anaconda3\\lib\\multiprocessing\\connection.py:317\u001b[0m, in \u001b[0;36mPipeConnection._recv_bytes\u001b[1;34m(self, maxsize)\u001b[0m\n\u001b[0;32m    316\u001b[0m \u001b[38;5;28;01mfinally\u001b[39;00m:\n\u001b[1;32m--> 317\u001b[0m     nread, err \u001b[38;5;241m=\u001b[39m \u001b[43mov\u001b[49m\u001b[38;5;241;43m.\u001b[39;49m\u001b[43mGetOverlappedResult\u001b[49m\u001b[43m(\u001b[49m\u001b[38;5;28;43;01mTrue\u001b[39;49;00m\u001b[43m)\u001b[49m\n\u001b[0;32m    318\u001b[0m     \u001b[38;5;28;01mif\u001b[39;00m err \u001b[38;5;241m==\u001b[39m \u001b[38;5;241m0\u001b[39m:\n",
      "\u001b[1;31mBrokenPipeError\u001b[0m: [WinError 109] The pipe has been ended",
      "\nDuring handling of the above exception, another exception occurred:\n",
      "\u001b[1;31mEOFError\u001b[0m                                  Traceback (most recent call last)",
      "Input \u001b[1;32mIn [26]\u001b[0m, in \u001b[0;36m<cell line: 1>\u001b[1;34m()\u001b[0m\n\u001b[1;32m----> 1\u001b[0m df_pos[\u001b[38;5;124m\"\u001b[39m\u001b[38;5;124ment_text\u001b[39m\u001b[38;5;124m\"\u001b[39m] \u001b[38;5;241m=\u001b[39m \u001b[43mdf_pos\u001b[49m\u001b[43m[\u001b[49m\u001b[38;5;124;43m\"\u001b[39;49m\u001b[38;5;124;43mclean_text\u001b[39;49m\u001b[38;5;124;43m\"\u001b[39;49m\u001b[43m]\u001b[49m\u001b[38;5;241;43m.\u001b[39;49m\u001b[43mparallel_apply\u001b[49m\u001b[43m(\u001b[49m\u001b[43mextract_entities_text\u001b[49m\u001b[43m)\u001b[49m\n",
      "File \u001b[1;32m~\\anaconda3\\lib\\site-packages\\pandarallel\\core.py:428\u001b[0m, in \u001b[0;36mparallelize_with_pipe.<locals>.closure\u001b[1;34m(data, user_defined_function, *user_defined_function_args, **user_defined_function_kwargs)\u001b[0m\n\u001b[0;32m    423\u001b[0m generation \u001b[38;5;241m=\u001b[39m count()\n\u001b[0;32m    425\u001b[0m \u001b[38;5;28;01mwhile\u001b[39;00m \u001b[38;5;28many\u001b[39m(\n\u001b[0;32m    426\u001b[0m     (worker_status \u001b[38;5;241m==\u001b[39m WorkerStatus\u001b[38;5;241m.\u001b[39mRunning \u001b[38;5;28;01mfor\u001b[39;00m worker_status \u001b[38;5;129;01min\u001b[39;00m workers_status)\n\u001b[0;32m    427\u001b[0m ):\n\u001b[1;32m--> 428\u001b[0m     message: Tuple[\u001b[38;5;28mint\u001b[39m, WorkerStatus, Any] \u001b[38;5;241m=\u001b[39m \u001b[43mmaster_workers_queue\u001b[49m\u001b[38;5;241;43m.\u001b[39;49m\u001b[43mget\u001b[49m\u001b[43m(\u001b[49m\u001b[43m)\u001b[49m\n\u001b[0;32m    429\u001b[0m     worker_index, worker_status, payload \u001b[38;5;241m=\u001b[39m message\n\u001b[0;32m    430\u001b[0m     workers_status[worker_index] \u001b[38;5;241m=\u001b[39m worker_status\n",
      "File \u001b[1;32m<string>:2\u001b[0m, in \u001b[0;36mget\u001b[1;34m(self, *args, **kwds)\u001b[0m\n",
      "File \u001b[1;32m~\\anaconda3\\lib\\multiprocessing\\managers.py:810\u001b[0m, in \u001b[0;36mBaseProxy._callmethod\u001b[1;34m(self, methodname, args, kwds)\u001b[0m\n\u001b[0;32m    807\u001b[0m     conn \u001b[38;5;241m=\u001b[39m \u001b[38;5;28mself\u001b[39m\u001b[38;5;241m.\u001b[39m_tls\u001b[38;5;241m.\u001b[39mconnection\n\u001b[0;32m    809\u001b[0m conn\u001b[38;5;241m.\u001b[39msend((\u001b[38;5;28mself\u001b[39m\u001b[38;5;241m.\u001b[39m_id, methodname, args, kwds))\n\u001b[1;32m--> 810\u001b[0m kind, result \u001b[38;5;241m=\u001b[39m \u001b[43mconn\u001b[49m\u001b[38;5;241;43m.\u001b[39;49m\u001b[43mrecv\u001b[49m\u001b[43m(\u001b[49m\u001b[43m)\u001b[49m\n\u001b[0;32m    812\u001b[0m \u001b[38;5;28;01mif\u001b[39;00m kind \u001b[38;5;241m==\u001b[39m \u001b[38;5;124m'\u001b[39m\u001b[38;5;124m#RETURN\u001b[39m\u001b[38;5;124m'\u001b[39m:\n\u001b[0;32m    813\u001b[0m     \u001b[38;5;28;01mreturn\u001b[39;00m result\n",
      "File \u001b[1;32m~\\anaconda3\\lib\\multiprocessing\\connection.py:255\u001b[0m, in \u001b[0;36m_ConnectionBase.recv\u001b[1;34m(self)\u001b[0m\n\u001b[0;32m    253\u001b[0m \u001b[38;5;28mself\u001b[39m\u001b[38;5;241m.\u001b[39m_check_closed()\n\u001b[0;32m    254\u001b[0m \u001b[38;5;28mself\u001b[39m\u001b[38;5;241m.\u001b[39m_check_readable()\n\u001b[1;32m--> 255\u001b[0m buf \u001b[38;5;241m=\u001b[39m \u001b[38;5;28;43mself\u001b[39;49m\u001b[38;5;241;43m.\u001b[39;49m\u001b[43m_recv_bytes\u001b[49m\u001b[43m(\u001b[49m\u001b[43m)\u001b[49m\n\u001b[0;32m    256\u001b[0m \u001b[38;5;28;01mreturn\u001b[39;00m _ForkingPickler\u001b[38;5;241m.\u001b[39mloads(buf\u001b[38;5;241m.\u001b[39mgetbuffer())\n",
      "File \u001b[1;32m~\\anaconda3\\lib\\multiprocessing\\connection.py:326\u001b[0m, in \u001b[0;36mPipeConnection._recv_bytes\u001b[1;34m(self, maxsize)\u001b[0m\n\u001b[0;32m    324\u001b[0m \u001b[38;5;28;01mexcept\u001b[39;00m \u001b[38;5;167;01mOSError\u001b[39;00m \u001b[38;5;28;01mas\u001b[39;00m e:\n\u001b[0;32m    325\u001b[0m     \u001b[38;5;28;01mif\u001b[39;00m e\u001b[38;5;241m.\u001b[39mwinerror \u001b[38;5;241m==\u001b[39m _winapi\u001b[38;5;241m.\u001b[39mERROR_BROKEN_PIPE:\n\u001b[1;32m--> 326\u001b[0m         \u001b[38;5;28;01mraise\u001b[39;00m \u001b[38;5;167;01mEOFError\u001b[39;00m\n\u001b[0;32m    327\u001b[0m     \u001b[38;5;28;01melse\u001b[39;00m:\n\u001b[0;32m    328\u001b[0m         \u001b[38;5;28;01mraise\u001b[39;00m\n",
      "\u001b[1;31mEOFError\u001b[0m: "
     ]
    }
   ],
   "source": [
    "df_pos[\"ent_text\"] = df_pos[\"clean_text\"].parallel_apply(extract_entities_text)"
   ]
  },
  {
   "cell_type": "code",
   "execution_count": 17,
   "id": "328679f3-3c93-4f93-b7d2-939eba4b684a",
   "metadata": {},
   "outputs": [
    {
     "data": {
      "application/vnd.jupyter.widget-view+json": {
       "model_id": "3bac44b37d974d1e8a5c757cd8a62660",
       "version_major": 2,
       "version_minor": 0
      },
      "text/plain": [
       "VBox(children=(HBox(children=(IntProgress(value=0, description='0.00%', max=189), Label(value='0 / 189'))), HB…"
      ]
     },
     "metadata": {},
     "output_type": "display_data"
    }
   ],
   "source": [
    "df_neg[\"ent_text\"] = df_neg[\"clean_text\"].parallel_apply(extract_entities_text)"
   ]
  },
  {
   "cell_type": "markdown",
   "id": "abfecd83-89a1-4be4-b302-fc86000df094",
   "metadata": {},
   "source": [
    "**Positive sentiment named entities**"
   ]
  },
  {
   "cell_type": "code",
   "execution_count": null,
   "id": "3460e0bd-b029-4bbf-8247-7cd293995d27",
   "metadata": {},
   "outputs": [],
   "source": [
    "top_entities_pos = [entity for entities in df_pos[\"ent_text\"] for entity in entities]\n",
    "Counter(top_entities_pos).most_common(15)"
   ]
  },
  {
   "cell_type": "markdown",
   "id": "6aa3cf32-6090-4c42-82f6-2f6654dd60e3",
   "metadata": {},
   "source": [
    "**Negative sentiment named entities**"
   ]
  },
  {
   "cell_type": "code",
   "execution_count": null,
   "id": "b232b372-c48a-47ce-a3bd-b4aa7b6474fc",
   "metadata": {},
   "outputs": [],
   "source": [
    "top_entities_neg = [entity for entities in df_neg[\"ent_text\"] for entity in entities]\n",
    "Counter(top_entities_neg).most_common(15)"
   ]
  },
  {
   "cell_type": "markdown",
   "id": "aebef899-3b40-4985-8485-6a17fff6e9e3",
   "metadata": {},
   "source": [
    "### **Targeted entity sentiment analysis**"
   ]
  },
  {
   "cell_type": "code",
   "execution_count": 27,
   "id": "eac37478-ffd1-4c34-b9cd-d0ee834cb919",
   "metadata": {
    "scrolled": true,
    "tags": []
   },
   "outputs": [],
   "source": [
    "# Get the top 10 entities from the title\n",
    "entities = [entity for entities in df_pos[\"ent_text\"] for entity in entities]\n",
    "top_entities_pos = [entity for entity, count in Counter(entities).most_common(10)]"
   ]
  },
  {
   "cell_type": "code",
   "execution_count": 28,
   "id": "6b3268ad-7c65-4cc9-9ac7-b7c48438260f",
   "metadata": {},
   "outputs": [
    {
     "data": {
      "application/vnd.jupyter.widget-view+json": {
       "model_id": "deeb65928f844b0daa0a9b0cf0f8b5a0",
       "version_major": 2,
       "version_minor": 0
      },
      "text/plain": [
       "VBox(children=(HBox(children=(IntProgress(value=0, description='0.00%', max=2483), Label(value='0 / 2483'))), …"
      ]
     },
     "metadata": {},
     "output_type": "display_data"
    }
   ],
   "source": [
    "rows_with_top_entities_pos = df_pos[df_pos[\"ent_text\"].parallel_apply(lambda x: any(entity in top_entities_pos for entity in x))]\n",
    "df_top_entities_pos = pd.DataFrame(rows_with_top_entities_pos)"
   ]
  },
  {
   "cell_type": "markdown",
   "id": "061364b3-00df-432f-bec0-f4117b8456c8",
   "metadata": {},
   "source": [
    "**Positive**"
   ]
  },
  {
   "cell_type": "code",
   "execution_count": null,
   "id": "b19c9cf0-b16e-4895-afa7-30d7060cfd96",
   "metadata": {},
   "outputs": [],
   "source": [
    "# Group the DataFrame by date and entity, and compute the mean sentiment score\n",
    "grouped_pos = df_top_entities_pos.explode(\"ent_text\").groupby([\"date\", \"ent_text\"])[\"sentiment_score\"].mean().reset_index()\n",
    "\n",
    "# Print the total number of unique entity groups\n",
    "Counter(grouped_pos['ent_text']).most_common(10)"
   ]
  },
  {
   "cell_type": "code",
   "execution_count": null,
   "id": "02754d83-b0be-49de-9f64-33a3ebbbfa03",
   "metadata": {},
   "outputs": [],
   "source": [
    "df_exploded_pos = df_pos.reset_index().explode('ent_text')\n",
    "\n",
    "\n",
    "\n",
    "search_list_pos = ['microsoft', 'google', 'europe', 'covid19', 'ibm', 'north america', 'intel', 'africa','asia','middle east']\n",
    "df_filtered_pos = df_exploded_pos[df_exploded_pos['ent_text'].isin(search_list_pos)]\n",
    "df_filtered_pos = df_filtered_pos.reset_index(drop=True)\n",
    "\n",
    "# group by date and calculate mean sentiment\n",
    "grouped_pos = df_filtered_pos.groupby(['year','month', 'ent_text'])['sentiment_score'].mean().reset_index()\n",
    "\n",
    "fig, axes = plt.subplots(nrows=2, ncols=5, figsize=(16, 8))\n",
    "\n",
    "for i, elem in enumerate(search_list_pos):\n",
    "    row = i//5\n",
    "    col = i%5\n",
    "    data = grouped_pos[grouped_pos['ent_text'] == elem]\n",
    "    axes[row, col].plot(data['year'] + (data['month']-1)/12, data['sentiment_score'], label=elem)\n",
    "    axes[row, col].set_xlabel('Date')\n",
    "    axes[row, col].set_ylabel('Sentiment')\n",
    "    axes[row, col].legend()\n",
    "plt.tight_layout()\n",
    "plt.show()"
   ]
  },
  {
   "cell_type": "markdown",
   "id": "81735474-eac1-40fa-836f-e065559fcafd",
   "metadata": {},
   "source": [
    "**Negative**"
   ]
  },
  {
   "cell_type": "code",
   "execution_count": null,
   "id": "70f34555-17d4-4e81-a9c0-54299d474da9",
   "metadata": {},
   "outputs": [],
   "source": [
    "entities = [entity for entities in df_neg[\"ent_text\"] for entity in entities]\n",
    "top_entities_neg = [entity for entity, count in Counter(entities).most_common(10)]\n",
    "\n",
    "rows_with_top_entities_neg = df_neg[df_neg[\"ent_text\"].parallel_apply(lambda x: any(entity in top_entities_neg for entity in x))]\n",
    "df_top_entities_neg = pd.DataFrame(rows_with_top_entities_neg)\n",
    "\n",
    "grouped_neg = df_top_entities_neg.explode(\"ent_text\").groupby([\"date\", \"ent_text\"])[\"sentiment_score\"].mean().reset_index()\n",
    "\n",
    "Counter(grouped_neg['ent_text']).most_common(10)"
   ]
  },
  {
   "cell_type": "code",
   "execution_count": null,
   "id": "471c8d53-c821-4c03-82c9-c057746a43e8",
   "metadata": {},
   "outputs": [],
   "source": [
    "df_exploded_neg = df_neg.reset_index().explode('ent_text')\n",
    "\n",
    "\n",
    "\n",
    "search_list_neg = ['covid19', 'google', 'congress', 'microsoft', 'europe', 'fcc', 'cnn', 'fbi','donald trump','joe biden']\n",
    "# filter for rows with elements of interest\n",
    "df_filtered_neg = df_exploded_neg[df_exploded_neg['ent_text'].isin(search_list_neg)]\n",
    "df_filtered_neg = df_filtered_neg.reset_index(drop=True)\n",
    "\n",
    "# group by date and element of interest, and calculate mean sentiment\n",
    "grouped_neg = df_filtered_neg.groupby(['year','month', 'ent_text'])['sentiment_score'].mean().reset_index()\n",
    "\n",
    "fig, axes = plt.subplots(nrows=2, ncols=5, figsize=(16, 8))\n",
    "\n",
    "for i, elem in enumerate(search_list_neg):\n",
    "    row = i//5\n",
    "    col = i%5\n",
    "    data = grouped_neg[grouped_neg['ent_text'] == elem]\n",
    "    axes[row, col].plot(data['year'] + (data['month']-1)/12, data['sentiment_score'], label=elem)\n",
    "    axes[row, col].set_xlabel('Date')\n",
    "    axes[row, col].set_ylabel('Sentiment')\n",
    "    axes[row, col].legend()\n",
    "\n",
    "plt.tight_layout()\n",
    "plt.show()"
   ]
  },
  {
   "cell_type": "code",
   "execution_count": null,
   "id": "fd381515",
   "metadata": {},
   "outputs": [],
   "source": []
  }
 ],
 "metadata": {
  "kernelspec": {
   "display_name": "Python 3 (ipykernel)",
   "language": "python",
   "name": "python3"
  },
  "language_info": {
   "codemirror_mode": {
    "name": "ipython",
    "version": 3
   },
   "file_extension": ".py",
   "mimetype": "text/x-python",
   "name": "python",
   "nbconvert_exporter": "python",
   "pygments_lexer": "ipython3",
   "version": "3.9.12"
  }
 },
 "nbformat": 4,
 "nbformat_minor": 5
}
